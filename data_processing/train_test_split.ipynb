{
 "cells": [
  {
   "cell_type": "code",
   "execution_count": 18,
   "metadata": {},
   "outputs": [],
   "source": [
    "import pandas as pd\n",
    "import numpy as np\n",
    "import matplotlib.pyplot as plt\n",
    "% matplotlib inline\n",
    "plt.style.use(\"ggplot\")"
   ]
  },
  {
   "cell_type": "code",
   "execution_count": 2,
   "metadata": {},
   "outputs": [
    {
     "name": "stdout",
     "output_type": "stream",
     "text": [
      "<class 'pandas.core.frame.DataFrame'>\n",
      "RangeIndex: 834552 entries, 0 to 834551\n",
      "Data columns (total 12 columns):\n",
      "business_id    834552 non-null object\n",
      "user_id        834552 non-null object\n",
      "name           834551 non-null object\n",
      "categories     834551 non-null object\n",
      "avg_stars      834551 non-null float64\n",
      "cool           834551 non-null float64\n",
      "date           834551 non-null object\n",
      "funny          834551 non-null float64\n",
      "review_id      834551 non-null object\n",
      "stars          834551 non-null float64\n",
      "text           834550 non-null object\n",
      "useful         834550 non-null float64\n",
      "dtypes: float64(5), object(7)\n",
      "memory usage: 76.4+ MB\n"
     ]
    }
   ],
   "source": [
    "df = pd.read_csv(\"all_33_date.csv\")\n",
    "df.info()"
   ]
  },
  {
   "cell_type": "code",
   "execution_count": 3,
   "metadata": {
    "collapsed": true
   },
   "outputs": [],
   "source": [
    "df['date'] = pd.to_datetime(df['date'])"
   ]
  },
  {
   "cell_type": "code",
   "execution_count": 4,
   "metadata": {},
   "outputs": [
    {
     "data": {
      "text/html": [
       "<div>\n",
       "<style>\n",
       "    .dataframe thead tr:only-child th {\n",
       "        text-align: right;\n",
       "    }\n",
       "\n",
       "    .dataframe thead th {\n",
       "        text-align: left;\n",
       "    }\n",
       "\n",
       "    .dataframe tbody tr th {\n",
       "        vertical-align: top;\n",
       "    }\n",
       "</style>\n",
       "<table border=\"1\" class=\"dataframe\">\n",
       "  <thead>\n",
       "    <tr style=\"text-align: right;\">\n",
       "      <th></th>\n",
       "      <th>business_id</th>\n",
       "      <th>user_id</th>\n",
       "      <th>name</th>\n",
       "      <th>categories</th>\n",
       "      <th>avg_stars</th>\n",
       "      <th>cool</th>\n",
       "      <th>date</th>\n",
       "      <th>funny</th>\n",
       "      <th>review_id</th>\n",
       "      <th>stars</th>\n",
       "      <th>text</th>\n",
       "      <th>useful</th>\n",
       "    </tr>\n",
       "  </thead>\n",
       "  <tbody>\n",
       "    <tr>\n",
       "      <th>0</th>\n",
       "      <td>LkMtMHVetws5_7QfRjPtlg</td>\n",
       "      <td>Ud72j_rglYmXrL_O8zCdoA</td>\n",
       "      <td>LVH - Las Vegas Hotel &amp; Casino</td>\n",
       "      <td>Restaurants, Casinos, Food, Active Life, Night...</td>\n",
       "      <td>2.5</td>\n",
       "      <td>0.0</td>\n",
       "      <td>2005-01-24 22:21:29</td>\n",
       "      <td>0.0</td>\n",
       "      <td>Dm7Jh7tVp_97sOxEYH4DnA</td>\n",
       "      <td>4.0</td>\n",
       "      <td>This is a little bit off the strip, but the vi...</td>\n",
       "      <td>0.0</td>\n",
       "    </tr>\n",
       "    <tr>\n",
       "      <th>1</th>\n",
       "      <td>ii8sAGBexBOJoYRFafF9XQ</td>\n",
       "      <td>Ud72j_rglYmXrL_O8zCdoA</td>\n",
       "      <td>Paris Las Vegas Hotel &amp; Casino</td>\n",
       "      <td>Restaurants, Hotels, Hotels &amp; Travel, Event Pl...</td>\n",
       "      <td>3.0</td>\n",
       "      <td>0.0</td>\n",
       "      <td>2005-01-24 22:32:33</td>\n",
       "      <td>0.0</td>\n",
       "      <td>VwlljS4oxU4VyP2ODo9gwA</td>\n",
       "      <td>5.0</td>\n",
       "      <td>The buffet in this hotel is excellent! The set...</td>\n",
       "      <td>0.0</td>\n",
       "    </tr>\n",
       "    <tr>\n",
       "      <th>2</th>\n",
       "      <td>ZkGDCVKSdf8m76cnnalL-A</td>\n",
       "      <td>Ud72j_rglYmXrL_O8zCdoA</td>\n",
       "      <td>Le Village Buffet</td>\n",
       "      <td>Sandwiches, French, Breakfast &amp; Brunch, Buffet...</td>\n",
       "      <td>3.0</td>\n",
       "      <td>0.0</td>\n",
       "      <td>2005-01-26 17:50:53</td>\n",
       "      <td>0.0</td>\n",
       "      <td>Z54-ssb69Mx_lG1YtJ6N1g</td>\n",
       "      <td>5.0</td>\n",
       "      <td>Hella food there!! Cocktail shrimps are great!...</td>\n",
       "      <td>0.0</td>\n",
       "    </tr>\n",
       "    <tr>\n",
       "      <th>3</th>\n",
       "      <td>Wxxvi3LZbHNIDwJ-ZimtnA</td>\n",
       "      <td>NkVYcoaThHjOfTTgq6OdHQ</td>\n",
       "      <td>The Venetian Las Vegas</td>\n",
       "      <td>Shopping Centers, Resorts, Arts &amp; Entertainmen...</td>\n",
       "      <td>4.0</td>\n",
       "      <td>1.0</td>\n",
       "      <td>2005-04-22 20:07:39</td>\n",
       "      <td>2.0</td>\n",
       "      <td>0NmMH1xSUdI3pqed9WQQww</td>\n",
       "      <td>5.0</td>\n",
       "      <td>outstanding hotel. we had a really amazing sui...</td>\n",
       "      <td>2.0</td>\n",
       "    </tr>\n",
       "    <tr>\n",
       "      <th>4</th>\n",
       "      <td>6xgcHeLad-VaoTIQewK84A</td>\n",
       "      <td>G5LXEaxhQMF_BVjNHkVr7g</td>\n",
       "      <td>N9NE Steakhouse</td>\n",
       "      <td>Seafood, Steakhouses, American (Traditional), ...</td>\n",
       "      <td>4.0</td>\n",
       "      <td>0.0</td>\n",
       "      <td>2005-04-27 23:38:05</td>\n",
       "      <td>0.0</td>\n",
       "      <td>VgBxQqaDgOHq9YRxtMUm3A</td>\n",
       "      <td>5.0</td>\n",
       "      <td>A very reliable source tells me this is the be...</td>\n",
       "      <td>0.0</td>\n",
       "    </tr>\n",
       "  </tbody>\n",
       "</table>\n",
       "</div>"
      ],
      "text/plain": [
       "              business_id                 user_id  \\\n",
       "0  LkMtMHVetws5_7QfRjPtlg  Ud72j_rglYmXrL_O8zCdoA   \n",
       "1  ii8sAGBexBOJoYRFafF9XQ  Ud72j_rglYmXrL_O8zCdoA   \n",
       "2  ZkGDCVKSdf8m76cnnalL-A  Ud72j_rglYmXrL_O8zCdoA   \n",
       "3  Wxxvi3LZbHNIDwJ-ZimtnA  NkVYcoaThHjOfTTgq6OdHQ   \n",
       "4  6xgcHeLad-VaoTIQewK84A  G5LXEaxhQMF_BVjNHkVr7g   \n",
       "\n",
       "                             name  \\\n",
       "0  LVH - Las Vegas Hotel & Casino   \n",
       "1  Paris Las Vegas Hotel & Casino   \n",
       "2               Le Village Buffet   \n",
       "3          The Venetian Las Vegas   \n",
       "4                 N9NE Steakhouse   \n",
       "\n",
       "                                          categories  avg_stars  cool  \\\n",
       "0  Restaurants, Casinos, Food, Active Life, Night...        2.5   0.0   \n",
       "1  Restaurants, Hotels, Hotels & Travel, Event Pl...        3.0   0.0   \n",
       "2  Sandwiches, French, Breakfast & Brunch, Buffet...        3.0   0.0   \n",
       "3  Shopping Centers, Resorts, Arts & Entertainmen...        4.0   1.0   \n",
       "4  Seafood, Steakhouses, American (Traditional), ...        4.0   0.0   \n",
       "\n",
       "                 date  funny               review_id  stars  \\\n",
       "0 2005-01-24 22:21:29    0.0  Dm7Jh7tVp_97sOxEYH4DnA    4.0   \n",
       "1 2005-01-24 22:32:33    0.0  VwlljS4oxU4VyP2ODo9gwA    5.0   \n",
       "2 2005-01-26 17:50:53    0.0  Z54-ssb69Mx_lG1YtJ6N1g    5.0   \n",
       "3 2005-04-22 20:07:39    2.0  0NmMH1xSUdI3pqed9WQQww    5.0   \n",
       "4 2005-04-27 23:38:05    0.0  VgBxQqaDgOHq9YRxtMUm3A    5.0   \n",
       "\n",
       "                                                text  useful  \n",
       "0  This is a little bit off the strip, but the vi...     0.0  \n",
       "1  The buffet in this hotel is excellent! The set...     0.0  \n",
       "2  Hella food there!! Cocktail shrimps are great!...     0.0  \n",
       "3  outstanding hotel. we had a really amazing sui...     2.0  \n",
       "4  A very reliable source tells me this is the be...     0.0  "
      ]
     },
     "execution_count": 4,
     "metadata": {},
     "output_type": "execute_result"
    }
   ],
   "source": [
    "df.head()"
   ]
  },
  {
   "cell_type": "code",
   "execution_count": 5,
   "metadata": {},
   "outputs": [
    {
     "data": {
      "text/html": [
       "<div>\n",
       "<style>\n",
       "    .dataframe thead tr:only-child th {\n",
       "        text-align: right;\n",
       "    }\n",
       "\n",
       "    .dataframe thead th {\n",
       "        text-align: left;\n",
       "    }\n",
       "\n",
       "    .dataframe tbody tr th {\n",
       "        vertical-align: top;\n",
       "    }\n",
       "</style>\n",
       "<table border=\"1\" class=\"dataframe\">\n",
       "  <thead>\n",
       "    <tr style=\"text-align: right;\">\n",
       "      <th></th>\n",
       "      <th>business_id</th>\n",
       "      <th>user_id</th>\n",
       "      <th>name</th>\n",
       "      <th>categories</th>\n",
       "      <th>avg_stars</th>\n",
       "      <th>cool</th>\n",
       "      <th>date</th>\n",
       "      <th>funny</th>\n",
       "      <th>review_id</th>\n",
       "      <th>stars</th>\n",
       "      <th>text</th>\n",
       "      <th>useful</th>\n",
       "    </tr>\n",
       "  </thead>\n",
       "  <tbody>\n",
       "    <tr>\n",
       "      <th>284417</th>\n",
       "      <td>uWECX6-Uq9n8v5ipk9R29A</td>\n",
       "      <td>aZs_IrhA7rvuLBumVhJjCw</td>\n",
       "      <td>Lola's A Louisana Kitchen</td>\n",
       "      <td>Breakfast &amp; Brunch, Restaurants, Cajun/Creole</td>\n",
       "      <td>4.0</td>\n",
       "      <td>1.0</td>\n",
       "      <td>2014-06-10 22:31:23</td>\n",
       "      <td>0.0</td>\n",
       "      <td>lyNSICzFzDPHXL_E6PHvWw</td>\n",
       "      <td>5.0</td>\n",
       "      <td>Best Creole/Cajun food in Nevada! Order the  B...</td>\n",
       "      <td>NaN</td>\n",
       "    </tr>\n",
       "    <tr>\n",
       "      <th>284418</th>\n",
       "      <td>All the goodness of the deep South! Seasoned a...</td>\n",
       "      <td>1</td>\n",
       "      <td>NaN</td>\n",
       "      <td>NaN</td>\n",
       "      <td>NaN</td>\n",
       "      <td>NaN</td>\n",
       "      <td>NaT</td>\n",
       "      <td>NaN</td>\n",
       "      <td>NaN</td>\n",
       "      <td>NaN</td>\n",
       "      <td>NaN</td>\n",
       "      <td>NaN</td>\n",
       "    </tr>\n",
       "    <tr>\n",
       "      <th>338164</th>\n",
       "      <td>oXoVJ0xKv82cBo9U6oEjlQ</td>\n",
       "      <td>v3DIq18Z30KNwyUvBXtXEA</td>\n",
       "      <td>Chayo Mexican Kitchen + Tequila Bar</td>\n",
       "      <td>Nightlife, Breakfast &amp; Brunch, Restaurants, Me...</td>\n",
       "      <td>3.5</td>\n",
       "      <td>0.0</td>\n",
       "      <td>2014-12-26 08:32:06</td>\n",
       "      <td>0.0</td>\n",
       "      <td>iHdxK8lwkYn0rlNh-REuGQ</td>\n",
       "      <td>3.0</td>\n",
       "      <td>NaN</td>\n",
       "      <td>0.0</td>\n",
       "    </tr>\n",
       "  </tbody>\n",
       "</table>\n",
       "</div>"
      ],
      "text/plain": [
       "                                              business_id  \\\n",
       "284417                             uWECX6-Uq9n8v5ipk9R29A   \n",
       "284418  All the goodness of the deep South! Seasoned a...   \n",
       "338164                             oXoVJ0xKv82cBo9U6oEjlQ   \n",
       "\n",
       "                       user_id                                 name  \\\n",
       "284417  aZs_IrhA7rvuLBumVhJjCw            Lola's A Louisana Kitchen   \n",
       "284418                       1                                  NaN   \n",
       "338164  v3DIq18Z30KNwyUvBXtXEA  Chayo Mexican Kitchen + Tequila Bar   \n",
       "\n",
       "                                               categories  avg_stars  cool  \\\n",
       "284417      Breakfast & Brunch, Restaurants, Cajun/Creole        4.0   1.0   \n",
       "284418                                                NaN        NaN   NaN   \n",
       "338164  Nightlife, Breakfast & Brunch, Restaurants, Me...        3.5   0.0   \n",
       "\n",
       "                      date  funny               review_id  stars  \\\n",
       "284417 2014-06-10 22:31:23    0.0  lyNSICzFzDPHXL_E6PHvWw    5.0   \n",
       "284418                 NaT    NaN                     NaN    NaN   \n",
       "338164 2014-12-26 08:32:06    0.0  iHdxK8lwkYn0rlNh-REuGQ    3.0   \n",
       "\n",
       "                                                     text  useful  \n",
       "284417  Best Creole/Cajun food in Nevada! Order the  B...     NaN  \n",
       "284418                                                NaN     NaN  \n",
       "338164                                                NaN     0.0  "
      ]
     },
     "execution_count": 5,
     "metadata": {},
     "output_type": "execute_result"
    }
   ],
   "source": [
    "df[pd.isnull(df).any(axis=1)]"
   ]
  },
  {
   "cell_type": "code",
   "execution_count": 6,
   "metadata": {},
   "outputs": [],
   "source": [
    "df.loc[338164, 'text'] = df.loc[284418, 'business_id']"
   ]
  },
  {
   "cell_type": "code",
   "execution_count": 7,
   "metadata": {
    "collapsed": true
   },
   "outputs": [],
   "source": [
    "df.loc[284417, 'useful'] = df.loc[284418, 'user_id']"
   ]
  },
  {
   "cell_type": "code",
   "execution_count": 8,
   "metadata": {},
   "outputs": [
    {
     "data": {
      "text/html": [
       "<div>\n",
       "<style>\n",
       "    .dataframe thead tr:only-child th {\n",
       "        text-align: right;\n",
       "    }\n",
       "\n",
       "    .dataframe thead th {\n",
       "        text-align: left;\n",
       "    }\n",
       "\n",
       "    .dataframe tbody tr th {\n",
       "        vertical-align: top;\n",
       "    }\n",
       "</style>\n",
       "<table border=\"1\" class=\"dataframe\">\n",
       "  <thead>\n",
       "    <tr style=\"text-align: right;\">\n",
       "      <th></th>\n",
       "      <th>business_id</th>\n",
       "      <th>user_id</th>\n",
       "      <th>name</th>\n",
       "      <th>categories</th>\n",
       "      <th>avg_stars</th>\n",
       "      <th>cool</th>\n",
       "      <th>date</th>\n",
       "      <th>funny</th>\n",
       "      <th>review_id</th>\n",
       "      <th>stars</th>\n",
       "      <th>text</th>\n",
       "      <th>useful</th>\n",
       "    </tr>\n",
       "  </thead>\n",
       "  <tbody>\n",
       "    <tr>\n",
       "      <th>284418</th>\n",
       "      <td>All the goodness of the deep South! Seasoned a...</td>\n",
       "      <td>1</td>\n",
       "      <td>NaN</td>\n",
       "      <td>NaN</td>\n",
       "      <td>NaN</td>\n",
       "      <td>NaN</td>\n",
       "      <td>NaT</td>\n",
       "      <td>NaN</td>\n",
       "      <td>NaN</td>\n",
       "      <td>NaN</td>\n",
       "      <td>NaN</td>\n",
       "      <td>NaN</td>\n",
       "    </tr>\n",
       "  </tbody>\n",
       "</table>\n",
       "</div>"
      ],
      "text/plain": [
       "                                              business_id user_id name  \\\n",
       "284418  All the goodness of the deep South! Seasoned a...       1  NaN   \n",
       "\n",
       "       categories  avg_stars  cool date  funny review_id  stars text useful  \n",
       "284418        NaN        NaN   NaN  NaT    NaN       NaN    NaN  NaN    NaN  "
      ]
     },
     "execution_count": 8,
     "metadata": {},
     "output_type": "execute_result"
    }
   ],
   "source": [
    "df[pd.isnull(df).any(axis=1)]"
   ]
  },
  {
   "cell_type": "code",
   "execution_count": 9,
   "metadata": {},
   "outputs": [],
   "source": [
    "df = df.dropna()"
   ]
  },
  {
   "cell_type": "code",
   "execution_count": 13,
   "metadata": {},
   "outputs": [
    {
     "data": {
      "text/html": [
       "<div>\n",
       "<style>\n",
       "    .dataframe thead tr:only-child th {\n",
       "        text-align: right;\n",
       "    }\n",
       "\n",
       "    .dataframe thead th {\n",
       "        text-align: left;\n",
       "    }\n",
       "\n",
       "    .dataframe tbody tr th {\n",
       "        vertical-align: top;\n",
       "    }\n",
       "</style>\n",
       "<table border=\"1\" class=\"dataframe\">\n",
       "  <thead>\n",
       "    <tr style=\"text-align: right;\">\n",
       "      <th></th>\n",
       "      <th>business_id</th>\n",
       "      <th>user_id</th>\n",
       "      <th>name</th>\n",
       "      <th>categories</th>\n",
       "      <th>avg_stars</th>\n",
       "      <th>cool</th>\n",
       "      <th>date</th>\n",
       "      <th>funny</th>\n",
       "      <th>review_id</th>\n",
       "      <th>stars</th>\n",
       "      <th>text</th>\n",
       "      <th>useful</th>\n",
       "    </tr>\n",
       "  </thead>\n",
       "  <tbody>\n",
       "    <tr>\n",
       "      <th>834546</th>\n",
       "      <td>QXV3L_QFGj8r6nWX2kS2hA</td>\n",
       "      <td>JypjCVmufxpXO2tymVpeCw</td>\n",
       "      <td>Nacho Daddy</td>\n",
       "      <td>Restaurants, Mexican, Tex-Mex, Vegan, American...</td>\n",
       "      <td>4.5</td>\n",
       "      <td>0.0</td>\n",
       "      <td>2018-11-14 17:45:29</td>\n",
       "      <td>0.0</td>\n",
       "      <td>8FMAIwrS7Tg_KsRi49kGWw</td>\n",
       "      <td>5.0</td>\n",
       "      <td>Wow this place is so cheap! It's RIGHT on the ...</td>\n",
       "      <td>0</td>\n",
       "    </tr>\n",
       "    <tr>\n",
       "      <th>834547</th>\n",
       "      <td>lKq4Qsz13FDcAVgp49uukQ</td>\n",
       "      <td>JypjCVmufxpXO2tymVpeCw</td>\n",
       "      <td>Slice of Vegas</td>\n",
       "      <td>Restaurants, Food, Pizza, Beer, Wine &amp; Spirits...</td>\n",
       "      <td>4.0</td>\n",
       "      <td>0.0</td>\n",
       "      <td>2018-11-14 17:48:08</td>\n",
       "      <td>0.0</td>\n",
       "      <td>1dqLYLhUf_ZNt_5ohGLdkg</td>\n",
       "      <td>5.0</td>\n",
       "      <td>Wow I don't know if I was super hungry or this...</td>\n",
       "      <td>0</td>\n",
       "    </tr>\n",
       "    <tr>\n",
       "      <th>834548</th>\n",
       "      <td>Cl-xl1vTUwHeaGgBxzdTRA</td>\n",
       "      <td>6SJLd_2v0Qo883k7qOEtXA</td>\n",
       "      <td>Chow Mein House</td>\n",
       "      <td>Restaurants, Chinese</td>\n",
       "      <td>4.0</td>\n",
       "      <td>0.0</td>\n",
       "      <td>2018-11-14 17:49:30</td>\n",
       "      <td>0.0</td>\n",
       "      <td>rl50o1Tc9dTM6kl4HBvs9Q</td>\n",
       "      <td>5.0</td>\n",
       "      <td>One of the best and most authentic chinese foo...</td>\n",
       "      <td>0</td>\n",
       "    </tr>\n",
       "    <tr>\n",
       "      <th>834549</th>\n",
       "      <td>n2kgJSiB7Q4u7AkDvYfzlg</td>\n",
       "      <td>nV_Eyhzh0qV7BgBlpCBEHA</td>\n",
       "      <td>Munch Box</td>\n",
       "      <td>Restaurants, Salad, American (New), Breakfast ...</td>\n",
       "      <td>4.5</td>\n",
       "      <td>0.0</td>\n",
       "      <td>2018-11-14 17:52:16</td>\n",
       "      <td>0.0</td>\n",
       "      <td>4_VO4uUFfHCmiWWiHOYHog</td>\n",
       "      <td>5.0</td>\n",
       "      <td>This place is always my favorite for breakfast...</td>\n",
       "      <td>0</td>\n",
       "    </tr>\n",
       "    <tr>\n",
       "      <th>834550</th>\n",
       "      <td>JDZ6_yycNQFTpUZzLIKHUg</td>\n",
       "      <td>keBv05MsMFBd0Hu98vXThQ</td>\n",
       "      <td>El Dorado Cantina</td>\n",
       "      <td>Mexican, Lounges, Restaurants, Nightlife, Bars</td>\n",
       "      <td>4.5</td>\n",
       "      <td>1.0</td>\n",
       "      <td>2018-11-14 18:05:34</td>\n",
       "      <td>1.0</td>\n",
       "      <td>J9BSbdsUaBERmBhdtXZvFw</td>\n",
       "      <td>5.0</td>\n",
       "      <td>What a great Mexican restaurant located on Sam...</td>\n",
       "      <td>1</td>\n",
       "    </tr>\n",
       "  </tbody>\n",
       "</table>\n",
       "</div>"
      ],
      "text/plain": [
       "                   business_id                 user_id               name  \\\n",
       "834546  QXV3L_QFGj8r6nWX2kS2hA  JypjCVmufxpXO2tymVpeCw        Nacho Daddy   \n",
       "834547  lKq4Qsz13FDcAVgp49uukQ  JypjCVmufxpXO2tymVpeCw     Slice of Vegas   \n",
       "834548  Cl-xl1vTUwHeaGgBxzdTRA  6SJLd_2v0Qo883k7qOEtXA    Chow Mein House   \n",
       "834549  n2kgJSiB7Q4u7AkDvYfzlg  nV_Eyhzh0qV7BgBlpCBEHA          Munch Box   \n",
       "834550  JDZ6_yycNQFTpUZzLIKHUg  keBv05MsMFBd0Hu98vXThQ  El Dorado Cantina   \n",
       "\n",
       "                                               categories  avg_stars  cool  \\\n",
       "834546  Restaurants, Mexican, Tex-Mex, Vegan, American...        4.5   0.0   \n",
       "834547  Restaurants, Food, Pizza, Beer, Wine & Spirits...        4.0   0.0   \n",
       "834548                               Restaurants, Chinese        4.0   0.0   \n",
       "834549  Restaurants, Salad, American (New), Breakfast ...        4.5   0.0   \n",
       "834550     Mexican, Lounges, Restaurants, Nightlife, Bars        4.5   1.0   \n",
       "\n",
       "                      date  funny               review_id  stars  \\\n",
       "834546 2018-11-14 17:45:29    0.0  8FMAIwrS7Tg_KsRi49kGWw    5.0   \n",
       "834547 2018-11-14 17:48:08    0.0  1dqLYLhUf_ZNt_5ohGLdkg    5.0   \n",
       "834548 2018-11-14 17:49:30    0.0  rl50o1Tc9dTM6kl4HBvs9Q    5.0   \n",
       "834549 2018-11-14 17:52:16    0.0  4_VO4uUFfHCmiWWiHOYHog    5.0   \n",
       "834550 2018-11-14 18:05:34    1.0  J9BSbdsUaBERmBhdtXZvFw    5.0   \n",
       "\n",
       "                                                     text useful  \n",
       "834546  Wow this place is so cheap! It's RIGHT on the ...      0  \n",
       "834547  Wow I don't know if I was super hungry or this...      0  \n",
       "834548  One of the best and most authentic chinese foo...      0  \n",
       "834549  This place is always my favorite for breakfast...      0  \n",
       "834550  What a great Mexican restaurant located on Sam...      1  "
      ]
     },
     "execution_count": 13,
     "metadata": {},
     "output_type": "execute_result"
    }
   ],
   "source": [
    "df.tail()"
   ]
  },
  {
   "cell_type": "code",
   "execution_count": 11,
   "metadata": {},
   "outputs": [],
   "source": [
    "df = df.reset_index(drop=True)"
   ]
  },
  {
   "cell_type": "code",
   "execution_count": 14,
   "metadata": {},
   "outputs": [
    {
     "name": "stdout",
     "output_type": "stream",
     "text": [
      "<class 'pandas.core.frame.DataFrame'>\n",
      "RangeIndex: 834551 entries, 0 to 834550\n",
      "Data columns (total 12 columns):\n",
      "business_id    834551 non-null object\n",
      "user_id        834551 non-null object\n",
      "name           834551 non-null object\n",
      "categories     834551 non-null object\n",
      "avg_stars      834551 non-null float64\n",
      "cool           834551 non-null float64\n",
      "date           834551 non-null datetime64[ns]\n",
      "funny          834551 non-null float64\n",
      "review_id      834551 non-null object\n",
      "stars          834551 non-null float64\n",
      "text           834551 non-null object\n",
      "useful         834551 non-null object\n",
      "dtypes: datetime64[ns](1), float64(4), object(7)\n",
      "memory usage: 76.4+ MB\n"
     ]
    }
   ],
   "source": [
    "df.info()"
   ]
  },
  {
   "cell_type": "code",
   "execution_count": 15,
   "metadata": {},
   "outputs": [
    {
     "data": {
      "text/plain": [
       "6199"
      ]
     },
     "execution_count": 15,
     "metadata": {},
     "output_type": "execute_result"
    }
   ],
   "source": [
    "len(df.business_id.unique())"
   ]
  },
  {
   "cell_type": "code",
   "execution_count": 16,
   "metadata": {},
   "outputs": [
    {
     "data": {
      "text/plain": [
       "104156"
      ]
     },
     "execution_count": 16,
     "metadata": {},
     "output_type": "execute_result"
    }
   ],
   "source": [
    "len(df.user_id.unique())"
   ]
  },
  {
   "cell_type": "code",
   "execution_count": 29,
   "metadata": {},
   "outputs": [
    {
     "data": {
      "text/plain": [
       "count    104156.00000\n",
       "mean          8.01251\n",
       "std          15.50373\n",
       "min           3.00000\n",
       "25%           3.00000\n",
       "50%           4.00000\n",
       "75%           8.00000\n",
       "max        1379.00000\n",
       "Name: name, dtype: float64"
      ]
     },
     "execution_count": 29,
     "metadata": {},
     "output_type": "execute_result"
    }
   ],
   "source": [
    "df.groupby('user_id').agg('count').name.describe()"
   ]
  },
  {
   "cell_type": "code",
   "execution_count": 16,
   "metadata": {},
   "outputs": [
    {
     "data": {
      "text/plain": [
       "user_id       3\n",
       "name          3\n",
       "categories    3\n",
       "avg_stars     3\n",
       "cool          3\n",
       "date          3\n",
       "funny         3\n",
       "review_id     3\n",
       "stars         3\n",
       "text          3\n",
       "useful        3\n",
       "dtype: int64"
      ]
     },
     "execution_count": 16,
     "metadata": {},
     "output_type": "execute_result"
    }
   ],
   "source": [
    "df.groupby('business_id').agg('count').min()"
   ]
  },
  {
   "cell_type": "code",
   "execution_count": 17,
   "metadata": {},
   "outputs": [
    {
     "data": {
      "text/plain": [
       "109570"
      ]
     },
     "execution_count": 17,
     "metadata": {},
     "output_type": "execute_result"
    }
   ],
   "source": [
    "#### ensure all item&user at least one in trainset\n",
    "train_item_list = df.sort_values('date', ascending=True).drop_duplicates('business_id', keep='first').index\n",
    "train_user_list = df.sort_values('date', ascending=True).drop_duplicates('user_id', keep='first').index\n",
    "index_train_0 = list(set(list(train_item_list) + list(train_user_list)))\n",
    "len(index_train_0)"
   ]
  },
  {
   "cell_type": "code",
   "execution_count": 18,
   "metadata": {},
   "outputs": [],
   "source": [
    "df_drop_train = df.drop(index_train_0)"
   ]
  },
  {
   "cell_type": "code",
   "execution_count": 19,
   "metadata": {},
   "outputs": [
    {
     "name": "stdout",
     "output_type": "stream",
     "text": [
      "<class 'pandas.core.frame.DataFrame'>\n",
      "Int64Index: 724981 entries, 6 to 834550\n",
      "Data columns (total 12 columns):\n",
      "business_id    724981 non-null object\n",
      "user_id        724981 non-null object\n",
      "name           724981 non-null object\n",
      "categories     724981 non-null object\n",
      "avg_stars      724981 non-null float64\n",
      "cool           724981 non-null float64\n",
      "date           724981 non-null datetime64[ns]\n",
      "funny          724981 non-null float64\n",
      "review_id      724981 non-null object\n",
      "stars          724981 non-null float64\n",
      "text           724981 non-null object\n",
      "useful         724981 non-null object\n",
      "dtypes: datetime64[ns](1), float64(4), object(7)\n",
      "memory usage: 71.9+ MB\n"
     ]
    }
   ],
   "source": [
    "df_drop_train.info()"
   ]
  },
  {
   "cell_type": "code",
   "execution_count": 20,
   "metadata": {},
   "outputs": [
    {
     "data": {
      "text/plain": [
       "Int64Index([     6,     23,     27,     28,     36,     46,     48,     49,\n",
       "                54,     55,\n",
       "            ...\n",
       "            834541, 834542, 834543, 834544, 834545, 834546, 834547, 834548,\n",
       "            834549, 834550],\n",
       "           dtype='int64', length=724981)"
      ]
     },
     "execution_count": 20,
     "metadata": {},
     "output_type": "execute_result"
    }
   ],
   "source": [
    "df_drop_train.index"
   ]
  },
  {
   "cell_type": "code",
   "execution_count": 21,
   "metadata": {},
   "outputs": [
    {
     "data": {
      "text/html": [
       "<div>\n",
       "<style>\n",
       "    .dataframe thead tr:only-child th {\n",
       "        text-align: right;\n",
       "    }\n",
       "\n",
       "    .dataframe thead th {\n",
       "        text-align: left;\n",
       "    }\n",
       "\n",
       "    .dataframe tbody tr th {\n",
       "        vertical-align: top;\n",
       "    }\n",
       "</style>\n",
       "<table border=\"1\" class=\"dataframe\">\n",
       "  <thead>\n",
       "    <tr style=\"text-align: right;\">\n",
       "      <th></th>\n",
       "      <th>business_id</th>\n",
       "      <th>user_id</th>\n",
       "      <th>name</th>\n",
       "      <th>categories</th>\n",
       "      <th>avg_stars</th>\n",
       "      <th>cool</th>\n",
       "      <th>date</th>\n",
       "      <th>funny</th>\n",
       "      <th>review_id</th>\n",
       "      <th>stars</th>\n",
       "      <th>text</th>\n",
       "      <th>useful</th>\n",
       "    </tr>\n",
       "  </thead>\n",
       "  <tbody>\n",
       "    <tr>\n",
       "      <th>6</th>\n",
       "      <td>Wxxvi3LZbHNIDwJ-ZimtnA</td>\n",
       "      <td>G5LXEaxhQMF_BVjNHkVr7g</td>\n",
       "      <td>The Venetian Las Vegas</td>\n",
       "      <td>Shopping Centers, Resorts, Arts &amp; Entertainmen...</td>\n",
       "      <td>4.0</td>\n",
       "      <td>5.0</td>\n",
       "      <td>2005-04-27 23:44:33</td>\n",
       "      <td>2.0</td>\n",
       "      <td>xKf_Y6PmebgJtFLULpYCzA</td>\n",
       "      <td>5.0</td>\n",
       "      <td>Fantastic hotel, I've had the luxury of only s...</td>\n",
       "      <td>2</td>\n",
       "    </tr>\n",
       "    <tr>\n",
       "      <th>23</th>\n",
       "      <td>Wxxvi3LZbHNIDwJ-ZimtnA</td>\n",
       "      <td>VQ-RXIZCH-7eRG8jSMmr9w</td>\n",
       "      <td>The Venetian Las Vegas</td>\n",
       "      <td>Shopping Centers, Resorts, Arts &amp; Entertainmen...</td>\n",
       "      <td>4.0</td>\n",
       "      <td>0.0</td>\n",
       "      <td>2005-07-21 06:35:29</td>\n",
       "      <td>0.0</td>\n",
       "      <td>8iQFJQ_RcDgvOWA0iLBHKg</td>\n",
       "      <td>4.0</td>\n",
       "      <td>i love staying at this all-suite hotel. i thin...</td>\n",
       "      <td>0</td>\n",
       "    </tr>\n",
       "    <tr>\n",
       "      <th>27</th>\n",
       "      <td>Wxxvi3LZbHNIDwJ-ZimtnA</td>\n",
       "      <td>B0QGBVCUm54vs_waVzcScA</td>\n",
       "      <td>The Venetian Las Vegas</td>\n",
       "      <td>Shopping Centers, Resorts, Arts &amp; Entertainmen...</td>\n",
       "      <td>4.0</td>\n",
       "      <td>1.0</td>\n",
       "      <td>2005-07-22 05:26:19</td>\n",
       "      <td>1.0</td>\n",
       "      <td>rNxLcofLsxiEabVOPVXHqg</td>\n",
       "      <td>5.0</td>\n",
       "      <td>Really pretty casino and nice place to hang ou...</td>\n",
       "      <td>1</td>\n",
       "    </tr>\n",
       "    <tr>\n",
       "      <th>28</th>\n",
       "      <td>ii8sAGBexBOJoYRFafF9XQ</td>\n",
       "      <td>B0QGBVCUm54vs_waVzcScA</td>\n",
       "      <td>Paris Las Vegas Hotel &amp; Casino</td>\n",
       "      <td>Restaurants, Hotels, Hotels &amp; Travel, Event Pl...</td>\n",
       "      <td>3.0</td>\n",
       "      <td>0.0</td>\n",
       "      <td>2005-07-22 05:33:10</td>\n",
       "      <td>0.0</td>\n",
       "      <td>Z5j0S0l3-EiBj-qSGvw78w</td>\n",
       "      <td>4.0</td>\n",
       "      <td>Great ambience!  I especially like that they h...</td>\n",
       "      <td>0</td>\n",
       "    </tr>\n",
       "    <tr>\n",
       "      <th>36</th>\n",
       "      <td>Kn23LDd740SBVJ7mum0fwg</td>\n",
       "      <td>gZ-CewXerXlytUGV-4nFRA</td>\n",
       "      <td>V Bar</td>\n",
       "      <td>Restaurants, Bars, Lounges, Nightlife, America...</td>\n",
       "      <td>3.5</td>\n",
       "      <td>0.0</td>\n",
       "      <td>2005-08-28 19:57:29</td>\n",
       "      <td>0.0</td>\n",
       "      <td>fp63hJ2hbNXAO79zh-POlw</td>\n",
       "      <td>4.0</td>\n",
       "      <td>Located in the Restaurant Row section of The V...</td>\n",
       "      <td>0</td>\n",
       "    </tr>\n",
       "  </tbody>\n",
       "</table>\n",
       "</div>"
      ],
      "text/plain": [
       "               business_id                 user_id  \\\n",
       "6   Wxxvi3LZbHNIDwJ-ZimtnA  G5LXEaxhQMF_BVjNHkVr7g   \n",
       "23  Wxxvi3LZbHNIDwJ-ZimtnA  VQ-RXIZCH-7eRG8jSMmr9w   \n",
       "27  Wxxvi3LZbHNIDwJ-ZimtnA  B0QGBVCUm54vs_waVzcScA   \n",
       "28  ii8sAGBexBOJoYRFafF9XQ  B0QGBVCUm54vs_waVzcScA   \n",
       "36  Kn23LDd740SBVJ7mum0fwg  gZ-CewXerXlytUGV-4nFRA   \n",
       "\n",
       "                              name  \\\n",
       "6           The Venetian Las Vegas   \n",
       "23          The Venetian Las Vegas   \n",
       "27          The Venetian Las Vegas   \n",
       "28  Paris Las Vegas Hotel & Casino   \n",
       "36                           V Bar   \n",
       "\n",
       "                                           categories  avg_stars  cool  \\\n",
       "6   Shopping Centers, Resorts, Arts & Entertainmen...        4.0   5.0   \n",
       "23  Shopping Centers, Resorts, Arts & Entertainmen...        4.0   0.0   \n",
       "27  Shopping Centers, Resorts, Arts & Entertainmen...        4.0   1.0   \n",
       "28  Restaurants, Hotels, Hotels & Travel, Event Pl...        3.0   0.0   \n",
       "36  Restaurants, Bars, Lounges, Nightlife, America...        3.5   0.0   \n",
       "\n",
       "                  date  funny               review_id  stars  \\\n",
       "6  2005-04-27 23:44:33    2.0  xKf_Y6PmebgJtFLULpYCzA    5.0   \n",
       "23 2005-07-21 06:35:29    0.0  8iQFJQ_RcDgvOWA0iLBHKg    4.0   \n",
       "27 2005-07-22 05:26:19    1.0  rNxLcofLsxiEabVOPVXHqg    5.0   \n",
       "28 2005-07-22 05:33:10    0.0  Z5j0S0l3-EiBj-qSGvw78w    4.0   \n",
       "36 2005-08-28 19:57:29    0.0  fp63hJ2hbNXAO79zh-POlw    4.0   \n",
       "\n",
       "                                                 text useful  \n",
       "6   Fantastic hotel, I've had the luxury of only s...      2  \n",
       "23  i love staying at this all-suite hotel. i thin...      0  \n",
       "27  Really pretty casino and nice place to hang ou...      1  \n",
       "28  Great ambience!  I especially like that they h...      0  \n",
       "36  Located in the Restaurant Row section of The V...      0  "
      ]
     },
     "execution_count": 21,
     "metadata": {},
     "output_type": "execute_result"
    }
   ],
   "source": [
    "df_drop_train.head()"
   ]
  },
  {
   "cell_type": "code",
   "execution_count": 22,
   "metadata": {},
   "outputs": [
    {
     "data": {
      "text/plain": [
       "business_id    1\n",
       "name           1\n",
       "categories     1\n",
       "avg_stars      1\n",
       "cool           1\n",
       "date           1\n",
       "funny          1\n",
       "review_id      1\n",
       "stars          1\n",
       "text           1\n",
       "useful         1\n",
       "dtype: int64"
      ]
     },
     "execution_count": 22,
     "metadata": {},
     "output_type": "execute_result"
    }
   ],
   "source": [
    "df_drop_train.groupby('user_id').agg('count').min()"
   ]
  },
  {
   "cell_type": "code",
   "execution_count": 23,
   "metadata": {},
   "outputs": [
    {
     "data": {
      "text/plain": [
       "user_id       1\n",
       "name          1\n",
       "categories    1\n",
       "avg_stars     1\n",
       "cool          1\n",
       "date          1\n",
       "funny         1\n",
       "review_id     1\n",
       "stars         1\n",
       "text          1\n",
       "useful        1\n",
       "dtype: int64"
      ]
     },
     "execution_count": 23,
     "metadata": {},
     "output_type": "execute_result"
    }
   ],
   "source": [
    "df_drop_train.groupby('business_id').agg('count').min()"
   ]
  },
  {
   "cell_type": "code",
   "execution_count": 24,
   "metadata": {},
   "outputs": [
    {
     "data": {
      "text/plain": [
       "107919"
      ]
     },
     "execution_count": 24,
     "metadata": {},
     "output_type": "execute_result"
    }
   ],
   "source": [
    "#### ensure all item&user at least one in testset\n",
    "test_item_list = df_drop_train.sort_values('date', ascending=True).drop_duplicates('business_id', keep='last').index\n",
    "test_user_list = df_drop_train.sort_values('date', ascending=True).drop_duplicates('user_id', keep='last').index\n",
    "index_test_0 = list(set(list(test_item_list) + list(test_user_list)))\n",
    "len(index_test_0)"
   ]
  },
  {
   "cell_type": "code",
   "execution_count": 25,
   "metadata": {},
   "outputs": [
    {
     "data": {
      "text/plain": [
       "Int64Index([], dtype='int64')"
      ]
     },
     "execution_count": 25,
     "metadata": {},
     "output_type": "execute_result"
    }
   ],
   "source": [
    "s1 = pd.Index(index_train_0)\n",
    "len(s1)\n",
    "\n",
    "s2 = pd.Index(index_test_0)\n",
    "len(s2)\n",
    "\n",
    "s1.intersection(s2)"
   ]
  },
  {
   "cell_type": "code",
   "execution_count": 26,
   "metadata": {},
   "outputs": [
    {
     "data": {
      "text/plain": [
       "617062"
      ]
     },
     "execution_count": 26,
     "metadata": {},
     "output_type": "execute_result"
    }
   ],
   "source": [
    "index_diff = list(set(df.index) - set(index_train_0) - set(index_test_0))\n",
    "len(index_diff)"
   ]
  },
  {
   "cell_type": "code",
   "execution_count": 27,
   "metadata": {
    "collapsed": true
   },
   "outputs": [],
   "source": [
    "df_drop_train_test = df_drop_train.drop(index_test_0)"
   ]
  },
  {
   "cell_type": "code",
   "execution_count": 28,
   "metadata": {},
   "outputs": [
    {
     "name": "stdout",
     "output_type": "stream",
     "text": [
      "<class 'pandas.core.frame.DataFrame'>\n",
      "Int64Index: 617062 entries, 6 to 834449\n",
      "Data columns (total 12 columns):\n",
      "business_id    617062 non-null object\n",
      "user_id        617062 non-null object\n",
      "name           617062 non-null object\n",
      "categories     617062 non-null object\n",
      "avg_stars      617062 non-null float64\n",
      "cool           617062 non-null float64\n",
      "date           617062 non-null datetime64[ns]\n",
      "funny          617062 non-null float64\n",
      "review_id      617062 non-null object\n",
      "stars          617062 non-null float64\n",
      "text           617062 non-null object\n",
      "useful         617062 non-null object\n",
      "dtypes: datetime64[ns](1), float64(4), object(7)\n",
      "memory usage: 61.2+ MB\n"
     ]
    }
   ],
   "source": [
    "df_drop_train_test.info()"
   ]
  },
  {
   "cell_type": "code",
   "execution_count": 29,
   "metadata": {},
   "outputs": [
    {
     "data": {
      "text/html": [
       "<div>\n",
       "<style>\n",
       "    .dataframe thead tr:only-child th {\n",
       "        text-align: right;\n",
       "    }\n",
       "\n",
       "    .dataframe thead th {\n",
       "        text-align: left;\n",
       "    }\n",
       "\n",
       "    .dataframe tbody tr th {\n",
       "        vertical-align: top;\n",
       "    }\n",
       "</style>\n",
       "<table border=\"1\" class=\"dataframe\">\n",
       "  <thead>\n",
       "    <tr style=\"text-align: right;\">\n",
       "      <th></th>\n",
       "      <th>business_id</th>\n",
       "      <th>user_id</th>\n",
       "      <th>name</th>\n",
       "      <th>categories</th>\n",
       "      <th>avg_stars</th>\n",
       "      <th>cool</th>\n",
       "      <th>date</th>\n",
       "      <th>funny</th>\n",
       "      <th>review_id</th>\n",
       "      <th>stars</th>\n",
       "      <th>text</th>\n",
       "      <th>useful</th>\n",
       "    </tr>\n",
       "  </thead>\n",
       "  <tbody>\n",
       "    <tr>\n",
       "      <th>6</th>\n",
       "      <td>Wxxvi3LZbHNIDwJ-ZimtnA</td>\n",
       "      <td>G5LXEaxhQMF_BVjNHkVr7g</td>\n",
       "      <td>The Venetian Las Vegas</td>\n",
       "      <td>Shopping Centers, Resorts, Arts &amp; Entertainmen...</td>\n",
       "      <td>4.0</td>\n",
       "      <td>5.0</td>\n",
       "      <td>2005-04-27 23:44:33</td>\n",
       "      <td>2.0</td>\n",
       "      <td>xKf_Y6PmebgJtFLULpYCzA</td>\n",
       "      <td>5.0</td>\n",
       "      <td>Fantastic hotel, I've had the luxury of only s...</td>\n",
       "      <td>2</td>\n",
       "    </tr>\n",
       "    <tr>\n",
       "      <th>23</th>\n",
       "      <td>Wxxvi3LZbHNIDwJ-ZimtnA</td>\n",
       "      <td>VQ-RXIZCH-7eRG8jSMmr9w</td>\n",
       "      <td>The Venetian Las Vegas</td>\n",
       "      <td>Shopping Centers, Resorts, Arts &amp; Entertainmen...</td>\n",
       "      <td>4.0</td>\n",
       "      <td>0.0</td>\n",
       "      <td>2005-07-21 06:35:29</td>\n",
       "      <td>0.0</td>\n",
       "      <td>8iQFJQ_RcDgvOWA0iLBHKg</td>\n",
       "      <td>4.0</td>\n",
       "      <td>i love staying at this all-suite hotel. i thin...</td>\n",
       "      <td>0</td>\n",
       "    </tr>\n",
       "    <tr>\n",
       "      <th>27</th>\n",
       "      <td>Wxxvi3LZbHNIDwJ-ZimtnA</td>\n",
       "      <td>B0QGBVCUm54vs_waVzcScA</td>\n",
       "      <td>The Venetian Las Vegas</td>\n",
       "      <td>Shopping Centers, Resorts, Arts &amp; Entertainmen...</td>\n",
       "      <td>4.0</td>\n",
       "      <td>1.0</td>\n",
       "      <td>2005-07-22 05:26:19</td>\n",
       "      <td>1.0</td>\n",
       "      <td>rNxLcofLsxiEabVOPVXHqg</td>\n",
       "      <td>5.0</td>\n",
       "      <td>Really pretty casino and nice place to hang ou...</td>\n",
       "      <td>1</td>\n",
       "    </tr>\n",
       "    <tr>\n",
       "      <th>46</th>\n",
       "      <td>LtXy1VinKWfuLFslVarKRw</td>\n",
       "      <td>X4KP6ZK0ST-jF46KpAhxzg</td>\n",
       "      <td>Fatburger</td>\n",
       "      <td>Restaurants, American (Traditional), Burgers, ...</td>\n",
       "      <td>3.5</td>\n",
       "      <td>0.0</td>\n",
       "      <td>2005-10-07 07:51:39</td>\n",
       "      <td>1.0</td>\n",
       "      <td>vKvYGMTtyJXLkP7V081tLw</td>\n",
       "      <td>4.0</td>\n",
       "      <td>If this Fatburger weren't so inconviently plac...</td>\n",
       "      <td>0</td>\n",
       "    </tr>\n",
       "    <tr>\n",
       "      <th>49</th>\n",
       "      <td>d4qwVw4PcN-_2mK2o1Ro1g</td>\n",
       "      <td>gjhzKWsqCIrpEd9pevbKZw</td>\n",
       "      <td>Pink Taco</td>\n",
       "      <td>Mexican, Restaurants</td>\n",
       "      <td>3.5</td>\n",
       "      <td>0.0</td>\n",
       "      <td>2005-10-11 23:51:11</td>\n",
       "      <td>0.0</td>\n",
       "      <td>R8avQ9D_qcx-Rr5w-zNm2w</td>\n",
       "      <td>3.0</td>\n",
       "      <td>The queso bean dip here is divine!</td>\n",
       "      <td>0</td>\n",
       "    </tr>\n",
       "  </tbody>\n",
       "</table>\n",
       "</div>"
      ],
      "text/plain": [
       "               business_id                 user_id                    name  \\\n",
       "6   Wxxvi3LZbHNIDwJ-ZimtnA  G5LXEaxhQMF_BVjNHkVr7g  The Venetian Las Vegas   \n",
       "23  Wxxvi3LZbHNIDwJ-ZimtnA  VQ-RXIZCH-7eRG8jSMmr9w  The Venetian Las Vegas   \n",
       "27  Wxxvi3LZbHNIDwJ-ZimtnA  B0QGBVCUm54vs_waVzcScA  The Venetian Las Vegas   \n",
       "46  LtXy1VinKWfuLFslVarKRw  X4KP6ZK0ST-jF46KpAhxzg               Fatburger   \n",
       "49  d4qwVw4PcN-_2mK2o1Ro1g  gjhzKWsqCIrpEd9pevbKZw               Pink Taco   \n",
       "\n",
       "                                           categories  avg_stars  cool  \\\n",
       "6   Shopping Centers, Resorts, Arts & Entertainmen...        4.0   5.0   \n",
       "23  Shopping Centers, Resorts, Arts & Entertainmen...        4.0   0.0   \n",
       "27  Shopping Centers, Resorts, Arts & Entertainmen...        4.0   1.0   \n",
       "46  Restaurants, American (Traditional), Burgers, ...        3.5   0.0   \n",
       "49                               Mexican, Restaurants        3.5   0.0   \n",
       "\n",
       "                  date  funny               review_id  stars  \\\n",
       "6  2005-04-27 23:44:33    2.0  xKf_Y6PmebgJtFLULpYCzA    5.0   \n",
       "23 2005-07-21 06:35:29    0.0  8iQFJQ_RcDgvOWA0iLBHKg    4.0   \n",
       "27 2005-07-22 05:26:19    1.0  rNxLcofLsxiEabVOPVXHqg    5.0   \n",
       "46 2005-10-07 07:51:39    1.0  vKvYGMTtyJXLkP7V081tLw    4.0   \n",
       "49 2005-10-11 23:51:11    0.0  R8avQ9D_qcx-Rr5w-zNm2w    3.0   \n",
       "\n",
       "                                                 text useful  \n",
       "6   Fantastic hotel, I've had the luxury of only s...      2  \n",
       "23  i love staying at this all-suite hotel. i thin...      0  \n",
       "27  Really pretty casino and nice place to hang ou...      1  \n",
       "46  If this Fatburger weren't so inconviently plac...      0  \n",
       "49                 The queso bean dip here is divine!      0  "
      ]
     },
     "execution_count": 29,
     "metadata": {},
     "output_type": "execute_result"
    }
   ],
   "source": [
    "df_drop_train_test.head()"
   ]
  },
  {
   "cell_type": "code",
   "execution_count": 30,
   "metadata": {},
   "outputs": [
    {
     "data": {
      "text/plain": [
       "business_id    1\n",
       "name           1\n",
       "categories     1\n",
       "avg_stars      1\n",
       "cool           1\n",
       "date           1\n",
       "funny          1\n",
       "review_id      1\n",
       "stars          1\n",
       "text           1\n",
       "useful         1\n",
       "dtype: int64"
      ]
     },
     "execution_count": 30,
     "metadata": {},
     "output_type": "execute_result"
    }
   ],
   "source": [
    "df_drop_train_test.groupby('user_id').agg('count').min()"
   ]
  },
  {
   "cell_type": "code",
   "execution_count": 31,
   "metadata": {},
   "outputs": [
    {
     "data": {
      "text/plain": [
       "user_id       1\n",
       "name          1\n",
       "categories    1\n",
       "avg_stars     1\n",
       "cool          1\n",
       "date          1\n",
       "funny         1\n",
       "review_id     1\n",
       "stars         1\n",
       "text          1\n",
       "useful        1\n",
       "dtype: int64"
      ]
     },
     "execution_count": 31,
     "metadata": {},
     "output_type": "execute_result"
    }
   ],
   "source": [
    "df_drop_train_test.groupby('business_id').agg('count').min()"
   ]
  },
  {
   "cell_type": "code",
   "execution_count": 32,
   "metadata": {},
   "outputs": [
    {
     "data": {
      "text/plain": [
       "108826"
      ]
     },
     "execution_count": 32,
     "metadata": {},
     "output_type": "execute_result"
    }
   ],
   "source": [
    "#### ensure all item&user at least one in testset\n",
    "train_item_list_1 = df_drop_train_test.sort_values('date', ascending=True).drop_duplicates('business_id', keep='first').index\n",
    "train_user_list_1 = df_drop_train_test.sort_values('date', ascending=True).drop_duplicates('user_id', keep='first').index\n",
    "index_train_1 = list(set(list(train_item_list_1) + list(train_user_list_1)))\n",
    "len(index_train_1)"
   ]
  },
  {
   "cell_type": "code",
   "execution_count": 33,
   "metadata": {},
   "outputs": [
    {
     "data": {
      "text/plain": [
       "Int64Index([], dtype='int64')"
      ]
     },
     "execution_count": 33,
     "metadata": {},
     "output_type": "execute_result"
    }
   ],
   "source": [
    "s1 = pd.Index(index_test_0)\n",
    "len(s1)\n",
    "\n",
    "s2 = pd.Index(index_train_1)\n",
    "len(s2)\n",
    "\n",
    "s1.intersection(s2)"
   ]
  },
  {
   "cell_type": "code",
   "execution_count": 34,
   "metadata": {
    "collapsed": true
   },
   "outputs": [],
   "source": [
    "df_drop_2train_test = df_drop_train_test.drop(index_train_1)"
   ]
  },
  {
   "cell_type": "code",
   "execution_count": 35,
   "metadata": {},
   "outputs": [
    {
     "name": "stdout",
     "output_type": "stream",
     "text": [
      "<class 'pandas.core.frame.DataFrame'>\n",
      "Int64Index: 508236 entries, 103 to 834342\n",
      "Data columns (total 12 columns):\n",
      "business_id    508236 non-null object\n",
      "user_id        508236 non-null object\n",
      "name           508236 non-null object\n",
      "categories     508236 non-null object\n",
      "avg_stars      508236 non-null float64\n",
      "cool           508236 non-null float64\n",
      "date           508236 non-null datetime64[ns]\n",
      "funny          508236 non-null float64\n",
      "review_id      508236 non-null object\n",
      "stars          508236 non-null float64\n",
      "text           508236 non-null object\n",
      "useful         508236 non-null object\n",
      "dtypes: datetime64[ns](1), float64(4), object(7)\n",
      "memory usage: 50.4+ MB\n"
     ]
    }
   ],
   "source": [
    "df_drop_2train_test.info()"
   ]
  },
  {
   "cell_type": "code",
   "execution_count": 36,
   "metadata": {},
   "outputs": [
    {
     "data": {
      "text/html": [
       "<div>\n",
       "<style>\n",
       "    .dataframe thead tr:only-child th {\n",
       "        text-align: right;\n",
       "    }\n",
       "\n",
       "    .dataframe thead th {\n",
       "        text-align: left;\n",
       "    }\n",
       "\n",
       "    .dataframe tbody tr th {\n",
       "        vertical-align: top;\n",
       "    }\n",
       "</style>\n",
       "<table border=\"1\" class=\"dataframe\">\n",
       "  <thead>\n",
       "    <tr style=\"text-align: right;\">\n",
       "      <th></th>\n",
       "      <th>business_id</th>\n",
       "      <th>user_id</th>\n",
       "      <th>name</th>\n",
       "      <th>categories</th>\n",
       "      <th>avg_stars</th>\n",
       "      <th>cool</th>\n",
       "      <th>date</th>\n",
       "      <th>funny</th>\n",
       "      <th>review_id</th>\n",
       "      <th>stars</th>\n",
       "      <th>text</th>\n",
       "      <th>useful</th>\n",
       "    </tr>\n",
       "  </thead>\n",
       "  <tbody>\n",
       "    <tr>\n",
       "      <th>103</th>\n",
       "      <td>KskYqH1Bi7Z_61pH6Om8pg</td>\n",
       "      <td>gjhzKWsqCIrpEd9pevbKZw</td>\n",
       "      <td>Lotus of Siam</td>\n",
       "      <td>Car Dealers, Nightlife, Automotive, Buffets, W...</td>\n",
       "      <td>4.0</td>\n",
       "      <td>5.0</td>\n",
       "      <td>2005-12-02 16:35:38</td>\n",
       "      <td>0.0</td>\n",
       "      <td>lQxRLaH5ZylowPOgjkynxg</td>\n",
       "      <td>4.0</td>\n",
       "      <td>The Commercial Center Mall is not the most obv...</td>\n",
       "      <td>8</td>\n",
       "    </tr>\n",
       "    <tr>\n",
       "      <th>137</th>\n",
       "      <td>Wxxvi3LZbHNIDwJ-ZimtnA</td>\n",
       "      <td>Ui0A8-hrpEPuEUG8EGBNaw</td>\n",
       "      <td>The Venetian Las Vegas</td>\n",
       "      <td>Shopping Centers, Resorts, Arts &amp; Entertainmen...</td>\n",
       "      <td>4.0</td>\n",
       "      <td>1.0</td>\n",
       "      <td>2006-01-07 21:05:34</td>\n",
       "      <td>1.0</td>\n",
       "      <td>W6M4ZWBkRZWlXBmGO676GQ</td>\n",
       "      <td>5.0</td>\n",
       "      <td>This place is gorgeous. I wish I got to stay h...</td>\n",
       "      <td>0</td>\n",
       "    </tr>\n",
       "    <tr>\n",
       "      <th>143</th>\n",
       "      <td>Wxxvi3LZbHNIDwJ-ZimtnA</td>\n",
       "      <td>06xIElWq6CAvmtk1xHJWNA</td>\n",
       "      <td>The Venetian Las Vegas</td>\n",
       "      <td>Shopping Centers, Resorts, Arts &amp; Entertainmen...</td>\n",
       "      <td>4.0</td>\n",
       "      <td>1.0</td>\n",
       "      <td>2006-01-09 05:16:49</td>\n",
       "      <td>0.0</td>\n",
       "      <td>856d_pvrJZ2PjHaLkOZkDw</td>\n",
       "      <td>5.0</td>\n",
       "      <td>The best bars, the best clubs (overall), the b...</td>\n",
       "      <td>2</td>\n",
       "    </tr>\n",
       "    <tr>\n",
       "      <th>145</th>\n",
       "      <td>eAc9Vd6loOgRQolMXQt6FA</td>\n",
       "      <td>06xIElWq6CAvmtk1xHJWNA</td>\n",
       "      <td>Mandalay Bay Resort &amp; Casino</td>\n",
       "      <td>Resorts, Arts &amp; Entertainment, Restaurants, Ho...</td>\n",
       "      <td>3.0</td>\n",
       "      <td>0.0</td>\n",
       "      <td>2006-01-09 05:24:40</td>\n",
       "      <td>0.0</td>\n",
       "      <td>ruOC8a3hk--u6Ekdaeh_3Q</td>\n",
       "      <td>4.0</td>\n",
       "      <td>This is a Las Vegas strip powehouse. It offers...</td>\n",
       "      <td>1</td>\n",
       "    </tr>\n",
       "    <tr>\n",
       "      <th>147</th>\n",
       "      <td>AV6weBrZFFBfRGCbcRGO4g</td>\n",
       "      <td>06xIElWq6CAvmtk1xHJWNA</td>\n",
       "      <td>Luxor Hotel and Casino Las Vegas</td>\n",
       "      <td>Nightlife, Casinos, Restaurants, Resorts, Arts...</td>\n",
       "      <td>2.5</td>\n",
       "      <td>0.0</td>\n",
       "      <td>2006-01-09 05:29:17</td>\n",
       "      <td>1.0</td>\n",
       "      <td>DgX1RSmOcw3CVZnHJapZ3g</td>\n",
       "      <td>2.0</td>\n",
       "      <td>This place was the ULTIMATE casino in the 90's...</td>\n",
       "      <td>0</td>\n",
       "    </tr>\n",
       "  </tbody>\n",
       "</table>\n",
       "</div>"
      ],
      "text/plain": [
       "                business_id                 user_id  \\\n",
       "103  KskYqH1Bi7Z_61pH6Om8pg  gjhzKWsqCIrpEd9pevbKZw   \n",
       "137  Wxxvi3LZbHNIDwJ-ZimtnA  Ui0A8-hrpEPuEUG8EGBNaw   \n",
       "143  Wxxvi3LZbHNIDwJ-ZimtnA  06xIElWq6CAvmtk1xHJWNA   \n",
       "145  eAc9Vd6loOgRQolMXQt6FA  06xIElWq6CAvmtk1xHJWNA   \n",
       "147  AV6weBrZFFBfRGCbcRGO4g  06xIElWq6CAvmtk1xHJWNA   \n",
       "\n",
       "                                 name  \\\n",
       "103                     Lotus of Siam   \n",
       "137            The Venetian Las Vegas   \n",
       "143            The Venetian Las Vegas   \n",
       "145      Mandalay Bay Resort & Casino   \n",
       "147  Luxor Hotel and Casino Las Vegas   \n",
       "\n",
       "                                            categories  avg_stars  cool  \\\n",
       "103  Car Dealers, Nightlife, Automotive, Buffets, W...        4.0   5.0   \n",
       "137  Shopping Centers, Resorts, Arts & Entertainmen...        4.0   1.0   \n",
       "143  Shopping Centers, Resorts, Arts & Entertainmen...        4.0   1.0   \n",
       "145  Resorts, Arts & Entertainment, Restaurants, Ho...        3.0   0.0   \n",
       "147  Nightlife, Casinos, Restaurants, Resorts, Arts...        2.5   0.0   \n",
       "\n",
       "                   date  funny               review_id  stars  \\\n",
       "103 2005-12-02 16:35:38    0.0  lQxRLaH5ZylowPOgjkynxg    4.0   \n",
       "137 2006-01-07 21:05:34    1.0  W6M4ZWBkRZWlXBmGO676GQ    5.0   \n",
       "143 2006-01-09 05:16:49    0.0  856d_pvrJZ2PjHaLkOZkDw    5.0   \n",
       "145 2006-01-09 05:24:40    0.0  ruOC8a3hk--u6Ekdaeh_3Q    4.0   \n",
       "147 2006-01-09 05:29:17    1.0  DgX1RSmOcw3CVZnHJapZ3g    2.0   \n",
       "\n",
       "                                                  text useful  \n",
       "103  The Commercial Center Mall is not the most obv...      8  \n",
       "137  This place is gorgeous. I wish I got to stay h...      0  \n",
       "143  The best bars, the best clubs (overall), the b...      2  \n",
       "145  This is a Las Vegas strip powehouse. It offers...      1  \n",
       "147  This place was the ULTIMATE casino in the 90's...      0  "
      ]
     },
     "execution_count": 36,
     "metadata": {},
     "output_type": "execute_result"
    }
   ],
   "source": [
    "df_drop_2train_test.head()"
   ]
  },
  {
   "cell_type": "code",
   "execution_count": 37,
   "metadata": {},
   "outputs": [],
   "source": [
    "rest = list(df_drop_2train_test.index)\n",
    "index_train_2 = rest[:449250]\n",
    "index_test_1 = rest[449250:]"
   ]
  },
  {
   "cell_type": "code",
   "execution_count": 38,
   "metadata": {},
   "outputs": [
    {
     "data": {
      "text/plain": [
       "667646"
      ]
     },
     "execution_count": 38,
     "metadata": {},
     "output_type": "execute_result"
    }
   ],
   "source": [
    "index_train = index_train_0 + index_train_1 + index_train_2\n",
    "len(index_train)"
   ]
  },
  {
   "cell_type": "code",
   "execution_count": 39,
   "metadata": {},
   "outputs": [
    {
     "data": {
      "text/plain": [
       "166905"
      ]
     },
     "execution_count": 39,
     "metadata": {},
     "output_type": "execute_result"
    }
   ],
   "source": [
    "index_test = index_test_0 + index_test_1\n",
    "len(index_test)"
   ]
  },
  {
   "cell_type": "code",
   "execution_count": 40,
   "metadata": {},
   "outputs": [
    {
     "data": {
      "text/plain": [
       "Int64Index([], dtype='int64')"
      ]
     },
     "execution_count": 40,
     "metadata": {},
     "output_type": "execute_result"
    }
   ],
   "source": [
    "s1 = pd.Index(index_train)\n",
    "len(s1)\n",
    "\n",
    "s2 = pd.Index(index_test)\n",
    "len(s2)\n",
    "\n",
    "s1.intersection(s2)"
   ]
  },
  {
   "cell_type": "code",
   "execution_count": 41,
   "metadata": {},
   "outputs": [],
   "source": [
    "df_train = df.iloc[index_train]"
   ]
  },
  {
   "cell_type": "code",
   "execution_count": 42,
   "metadata": {},
   "outputs": [],
   "source": [
    "df_test = df.iloc[index_test]"
   ]
  },
  {
   "cell_type": "code",
   "execution_count": 42,
   "metadata": {},
   "outputs": [],
   "source": [
    "df_train.to_csv(\"train_33_all.csv\", encoding='utf-8', index = False)\n",
    "df_test.to_csv(\"test_33_all.csv\", encoding='utf-8', index = False)"
   ]
  },
  {
   "cell_type": "code",
   "execution_count": 43,
   "metadata": {},
   "outputs": [],
   "source": [
    "df_train_selected = df_train[['user_id','business_id','stars']]\n",
    "df_test_selected = df_test[['user_id','business_id','stars']]"
   ]
  },
  {
   "cell_type": "code",
   "execution_count": 44,
   "metadata": {},
   "outputs": [],
   "source": [
    "df_train_selected.to_csv(\"train_33_selected.csv\", encoding='utf-8', index = False)\n",
    "df_test_selected.to_csv(\"test_33_selected.csv\", encoding='utf-8', index = False)"
   ]
  },
  {
   "cell_type": "markdown",
   "metadata": {},
   "source": [
    "### surprise"
   ]
  },
  {
   "cell_type": "code",
   "execution_count": 45,
   "metadata": {},
   "outputs": [
    {
     "name": "stdout",
     "output_type": "stream",
     "text": [
      "<class 'pandas.core.frame.DataFrame'>\n",
      "RangeIndex: 166905 entries, 0 to 166904\n",
      "Data columns (total 3 columns):\n",
      "user_id        166905 non-null object\n",
      "business_id    166905 non-null object\n",
      "stars          166905 non-null float64\n",
      "dtypes: float64(1), object(2)\n",
      "memory usage: 3.8+ MB\n"
     ]
    }
   ],
   "source": [
    "df_0 = pd.read_csv(\"test_33_selected.csv\")\n",
    "df_0.info()"
   ]
  },
  {
   "cell_type": "code",
   "execution_count": 286,
   "metadata": {
    "collapsed": true
   },
   "outputs": [],
   "source": [
    "from surprise import BaselineOnly\n",
    "from surprise import Dataset\n",
    "from surprise import Reader\n",
    "from surprise.model_selection import cross_validate\n",
    "from surprise import accuracy\n",
    "from surprise.model_selection import PredefinedKFold"
   ]
  },
  {
   "cell_type": "code",
   "execution_count": 287,
   "metadata": {},
   "outputs": [
    {
     "data": {
      "text/plain": [
       "surprise.dataset.DatasetAutoFolds"
      ]
     },
     "execution_count": 287,
     "metadata": {},
     "output_type": "execute_result"
    }
   ],
   "source": [
    "reader = Reader(rating_scale=(1, 5))\n",
    "data = Dataset.load_from_df(df_0, reader)\n",
    "type(data)"
   ]
  },
  {
   "cell_type": "code",
   "execution_count": 17,
   "metadata": {
    "collapsed": true
   },
   "outputs": [],
   "source": [
    "#### Baseline"
   ]
  },
  {
   "cell_type": "code",
   "execution_count": 289,
   "metadata": {},
   "outputs": [
    {
     "name": "stdout",
     "output_type": "stream",
     "text": [
      "Evaluating RMSE, MAE of algorithm NormalPredictor on 5 split(s).\n",
      "\n",
      "                  Fold 1  Fold 2  Fold 3  Fold 4  Fold 5  Mean    Std     \n",
      "MAE (testset)     1.3513  1.3722  1.3609  1.3688  1.3649  1.3637  0.0072  \n",
      "RMSE (testset)    1.7265  1.7457  1.7310  1.7413  1.7399  1.7369  0.0071  \n",
      "Fit time          0.25    0.30    0.32    0.35    0.38    0.32    0.04    \n",
      "Test time         0.76    0.70    0.36    0.41    0.51    0.55    0.16    \n"
     ]
    },
    {
     "data": {
      "text/plain": [
       "{'fit_time': (0.2459421157836914,\n",
       "  0.30449914932250977,\n",
       "  0.32028698921203613,\n",
       "  0.3509409427642822,\n",
       "  0.3768730163574219),\n",
       " 'test_mae': array([1.35131415, 1.37223621, 1.36094717, 1.36883717, 1.36492493]),\n",
       " 'test_rmse': array([1.72650431, 1.7456892 , 1.73097446, 1.7412648 , 1.73992604]),\n",
       " 'test_time': (0.7613859176635742,\n",
       "  0.7025439739227295,\n",
       "  0.364116907119751,\n",
       "  0.4056689739227295,\n",
       "  0.508216142654419)}"
      ]
     },
     "execution_count": 289,
     "metadata": {},
     "output_type": "execute_result"
    }
   ],
   "source": [
    "from surprise import NormalPredictor\n",
    "algo = NormalPredictor()\n",
    "\n",
    "# Run 5-fold cross-validation and print results.\n",
    "cross_validate(algo, data, measures=['RMSE', 'MAE'], cv=2, verbose=True)"
   ]
  },
  {
   "cell_type": "code",
   "execution_count": 290,
   "metadata": {},
   "outputs": [
    {
     "name": "stdout",
     "output_type": "stream",
     "text": [
      "Estimating biases using als...\n",
      "Estimating biases using als...\n",
      "Estimating biases using als...\n",
      "Estimating biases using als...\n",
      "Estimating biases using als...\n",
      "Evaluating RMSE, MAE of algorithm BaselineOnly on 5 split(s).\n",
      "\n",
      "                  Fold 1  Fold 2  Fold 3  Fold 4  Fold 5  Mean    Std     \n",
      "MAE (testset)     0.9973  1.0049  1.0007  1.0009  1.0027  1.0013  0.0025  \n",
      "RMSE (testset)    1.2403  1.2530  1.2447  1.2412  1.2489  1.2456  0.0048  \n",
      "Fit time          0.81    0.89    1.10    1.04    0.95    0.96    0.11    \n",
      "Test time         0.52    0.46    0.37    0.61    0.46    0.49    0.08    \n"
     ]
    },
    {
     "data": {
      "text/plain": [
       "{'fit_time': (0.8092749118804932,\n",
       "  0.886289119720459,\n",
       "  1.1004929542541504,\n",
       "  1.04469895362854,\n",
       "  0.9508371353149414),\n",
       " 'test_mae': array([0.99733552, 1.00491169, 1.0006573 , 1.00086546, 1.00271722]),\n",
       " 'test_rmse': array([1.2402998 , 1.25298037, 1.24473097, 1.24118525, 1.2489353 ]),\n",
       " 'test_time': (0.5235171318054199,\n",
       "  0.46219897270202637,\n",
       "  0.3716309070587158,\n",
       "  0.6064181327819824,\n",
       "  0.4645979404449463)}"
      ]
     },
     "execution_count": 290,
     "metadata": {},
     "output_type": "execute_result"
    }
   ],
   "source": [
    "from surprise import BaselineOnly\n",
    "algo = BaselineOnly()\n",
    "\n",
    "# Run 5-fold cross-validation and print results.\n",
    "cross_validate(algo, data, measures=['RMSE', 'MAE'], cv=5, verbose=True)"
   ]
  },
  {
   "cell_type": "code",
   "execution_count": null,
   "metadata": {},
   "outputs": [
    {
     "name": "stdout",
     "output_type": "stream",
     "text": [
      "Computing the msd similarity matrix...\n",
      "Done computing similarity matrix.\n"
     ]
    }
   ],
   "source": [
    "from surprise import KNNBasic\n",
    "algo = KNNBasic()\n",
    "\n",
    "# Run 5-fold cross-validation and print results.\n",
    "cross_validate(algo, data, measures=['RMSE', 'MAE'], cv=5, verbose=True)"
   ]
  },
  {
   "cell_type": "code",
   "execution_count": null,
   "metadata": {},
   "outputs": [],
   "source": [
    "from surprise import KNNWithMeans\n",
    "algo = KNNWithMeans()\n",
    "\n",
    "# Run 5-fold cross-validation and print results.\n",
    "cross_validate(algo, data, measures=['RMSE', 'MAE'], cv=5, verbose=True)"
   ]
  },
  {
   "cell_type": "markdown",
   "metadata": {},
   "source": [
    "#### svd"
   ]
  },
  {
   "cell_type": "code",
   "execution_count": 6,
   "metadata": {},
   "outputs": [
    {
     "name": "stdout",
     "output_type": "stream",
     "text": [
      "Evaluating RMSE, MAE, FCP of algorithm SVD on 4 split(s).\n",
      "\n",
      "                  Fold 1  Fold 2  Fold 3  Fold 4  Mean    Std     \n",
      "MAE (testset)     1.2369  1.2403  1.2380  nan     nan     nan     \n",
      "RMSE (testset)    1.8548  1.8599  1.8561  nan     nan     nan     \n",
      "FCP (testset)     0.0000  0.0000  0.0000  0.5668  0.1417  0.2454  \n",
      "Fit time          84.12   82.91   80.67   79.62   81.83   1.78    \n",
      "Test time         3.25    2.85    2.73    2.73    2.89    0.21    \n"
     ]
    },
    {
     "data": {
      "text/plain": [
       "{'fit_time': (84.11752009391785,\n",
       "  82.90522289276123,\n",
       "  80.66904616355896,\n",
       "  79.61518406867981),\n",
       " 'test_fcp': array([0.        , 0.        , 0.        , 0.56678569]),\n",
       " 'test_mae': array([1.23690445, 1.24034531, 1.23801814,        nan]),\n",
       " 'test_rmse': array([1.8547642 , 1.85994496, 1.85609652,        nan]),\n",
       " 'test_time': (3.248000144958496,\n",
       "  2.8501710891723633,\n",
       "  2.731351137161255,\n",
       "  2.7292678356170654)}"
      ]
     },
     "execution_count": 6,
     "metadata": {},
     "output_type": "execute_result"
    }
   ],
   "source": [
    "from surprise import SVD\n",
    "algo = SVD()\n",
    "\n",
    "# Run 5-fold cross-validation and print results.\n",
    "cross_validate(algo, data, measures=['RMSE', 'MAE'], cv=5, verbose=True)"
   ]
  },
  {
   "cell_type": "code",
   "execution_count": 8,
   "metadata": {},
   "outputs": [
    {
     "name": "stdout",
     "output_type": "stream",
     "text": [
      "Evaluating RMSE, MAE of algorithm SVD on 5 split(s).\n",
      "\n",
      "                  Fold 1  Fold 2  Fold 3  Fold 4  Fold 5  Mean    Std     \n",
      "RMSE (testset)    1.8597  1.8583  1.8567  1.8526  nan     nan     nan     \n",
      "MAE (testset)     1.2394  1.2410  1.2367  1.2349  nan     nan     nan     \n",
      "Fit time          85.48   88.79   87.69   98.10   98.05   91.62   5.38    \n",
      "Test time         2.84    2.36    2.46    2.79    2.83    2.66    0.20    \n"
     ]
    },
    {
     "data": {
      "text/plain": [
       "{'fit_time': (85.48224711418152,\n",
       "  88.78542995452881,\n",
       "  87.69028496742249,\n",
       "  98.101322889328,\n",
       "  98.05008506774902),\n",
       " 'test_mae': array([1.23943543, 1.24101665, 1.23674872, 1.23494621,        nan]),\n",
       " 'test_rmse': array([1.85972487, 1.85834948, 1.8567352 , 1.85256129,        nan]),\n",
       " 'test_time': (2.8447320461273193,\n",
       "  2.3619730472564697,\n",
       "  2.4638071060180664,\n",
       "  2.787769079208374,\n",
       "  2.8280398845672607)}"
      ]
     },
     "execution_count": 8,
     "metadata": {},
     "output_type": "execute_result"
    }
   ],
   "source": [
    "# Use the famous SVD algorithm.\n",
    "algo = SVD()\n",
    "\n",
    "# Run 5-fold cross-validation and print results.\n",
    "cross_validate(algo, data, measures=['RMSE', 'MAE'], cv=5, verbose=True)"
   ]
  },
  {
   "cell_type": "code",
   "execution_count": 13,
   "metadata": {},
   "outputs": [
    {
     "name": "stdout",
     "output_type": "stream",
     "text": [
      "Evaluating RMSE, MAE of algorithm SVD on 5 split(s).\n",
      "\n",
      "                  Fold 1  Fold 2  Fold 3  Fold 4  Fold 5  Mean    Std     \n",
      "RMSE (testset)    0.9668  0.9467  0.9546  0.9612  0.9591  0.9577  0.0067  \n",
      "MAE (testset)     0.7497  0.7364  0.7420  0.7479  0.7476  0.7447  0.0049  \n",
      "Fit time          4.47    4.54    4.74    4.69    4.71    4.63    0.11    \n",
      "Test time         0.19    0.10    0.16    0.10    0.10    0.13    0.04    \n"
     ]
    },
    {
     "data": {
      "text/plain": [
       "{'fit_time': (4.467535972595215,\n",
       "  4.53680682182312,\n",
       "  4.743390798568726,\n",
       "  4.688354969024658,\n",
       "  4.7076568603515625),\n",
       " 'test_mae': array([0.74974396, 0.73644823, 0.74204827, 0.74786507, 0.74761863]),\n",
       " 'test_rmse': array([0.96683449, 0.94673264, 0.95457803, 0.96119582, 0.95905699]),\n",
       " 'test_time': (0.18998003005981445,\n",
       "  0.09556198120117188,\n",
       "  0.15878701210021973,\n",
       "  0.1035919189453125,\n",
       "  0.09794211387634277)}"
      ]
     },
     "execution_count": 13,
     "metadata": {},
     "output_type": "execute_result"
    }
   ],
   "source": [
    "# Use the famous SVD algorithm.\n",
    "algo = SVD()\n",
    "\n",
    "# Run 5-fold cross-validation and print results.\n",
    "cross_validate(algo, data1, measures=['RMSE', 'MAE'], cv=5, verbose=True)"
   ]
  },
  {
   "cell_type": "markdown",
   "metadata": {
    "collapsed": true
   },
   "source": [
    "#### svdpp"
   ]
  },
  {
   "cell_type": "code",
   "execution_count": 9,
   "metadata": {
    "collapsed": true
   },
   "outputs": [],
   "source": [
    "from surprise import SVDpp"
   ]
  },
  {
   "cell_type": "code",
   "execution_count": 12,
   "metadata": {},
   "outputs": [
    {
     "name": "stdout",
     "output_type": "stream",
     "text": [
      "Evaluating RMSE, MAE of algorithm SVDpp on 5 split(s).\n",
      "\n",
      "                  Fold 1  Fold 2  Fold 3  Fold 4  Fold 5  Mean    Std     \n",
      "RMSE (testset)    0.9637  0.9553  0.9523  0.9514  0.9644  0.9574  0.0056  \n",
      "MAE (testset)     0.7461  0.7397  0.7428  0.7373  0.7477  0.7427  0.0039  \n",
      "Fit time          192.06  210.21  232.75  226.64  258.05  223.94  22.15   \n",
      "Test time         3.70    4.22    4.13    4.42    4.19    4.13    0.24    \n"
     ]
    },
    {
     "data": {
      "text/plain": [
       "{'fit_time': (192.06381011009216,\n",
       "  210.21146988868713,\n",
       "  232.74883008003235,\n",
       "  226.63960886001587,\n",
       "  258.04798889160156),\n",
       " 'test_mae': array([0.74610066, 0.73973905, 0.74282021, 0.73727299, 0.74774642]),\n",
       " 'test_rmse': array([0.96371572, 0.95533303, 0.95227253, 0.95139222, 0.96436959]),\n",
       " 'test_time': (3.6962151527404785,\n",
       "  4.217535018920898,\n",
       "  4.1251490116119385,\n",
       "  4.417120933532715,\n",
       "  4.190087080001831)}"
      ]
     },
     "execution_count": 12,
     "metadata": {},
     "output_type": "execute_result"
    }
   ],
   "source": [
    "algo = SVDpp()\n",
    "\n",
    "cross_validate(algo, data1, measures=['RMSE', 'MAE'], cv=5, verbose=True)"
   ]
  },
  {
   "cell_type": "markdown",
   "metadata": {},
   "source": [
    "#### NMF"
   ]
  },
  {
   "cell_type": "code",
   "execution_count": 15,
   "metadata": {},
   "outputs": [
    {
     "name": "stdout",
     "output_type": "stream",
     "text": [
      "Evaluating RMSE, MAE of algorithm NMF on 5 split(s).\n",
      "\n",
      "                  Fold 1  Fold 2  Fold 3  Fold 4  Fold 5  Mean    Std     \n",
      "RMSE (testset)    1.0133  1.0253  1.0193  1.0270  1.0115  1.0193  0.0062  \n",
      "MAE (testset)     0.7814  0.7923  0.7862  0.7929  0.7829  0.7871  0.0047  \n",
      "Fit time          5.06    5.06    5.13    5.05    5.15    5.09    0.04    \n",
      "Test time         0.17    0.08    0.09    0.15    0.09    0.11    0.04    \n"
     ]
    },
    {
     "data": {
      "text/plain": [
       "{'fit_time': (5.060730934143066,\n",
       "  5.058679103851318,\n",
       "  5.128618955612183,\n",
       "  5.0528199672698975,\n",
       "  5.1465020179748535),\n",
       " 'test_mae': array([0.78135622, 0.79228694, 0.78620747, 0.79286707, 0.78288357]),\n",
       " 'test_rmse': array([1.0133442 , 1.02533068, 1.01926691, 1.02695972, 1.01148335]),\n",
       " 'test_time': (0.1694188117980957,\n",
       "  0.07909297943115234,\n",
       "  0.08504891395568848,\n",
       "  0.14684510231018066,\n",
       "  0.08634591102600098)}"
      ]
     },
     "execution_count": 15,
     "metadata": {},
     "output_type": "execute_result"
    }
   ],
   "source": [
    "from surprise import NMF\n",
    "algo = NMF()\n",
    "cross_validate(algo, data1, measures=['RMSE', 'MAE'], cv=5, verbose=True)"
   ]
  },
  {
   "cell_type": "markdown",
   "metadata": {},
   "source": [
    "#### PMF"
   ]
  },
  {
   "cell_type": "code",
   "execution_count": 16,
   "metadata": {},
   "outputs": [
    {
     "name": "stdout",
     "output_type": "stream",
     "text": [
      "Evaluating RMSE, MAE of algorithm SVD on 5 split(s).\n",
      "\n",
      "                  Fold 1  Fold 2  Fold 3  Fold 4  Fold 5  Mean    Std     \n",
      "RMSE (testset)    1.0670  1.0511  1.0684  1.0672  1.0699  1.0647  0.0069  \n",
      "MAE (testset)     0.8354  0.8252  0.8409  0.8376  0.8399  0.8358  0.0056  \n",
      "Fit time          4.37    4.52    4.45    4.43    4.41    4.44    0.05    \n",
      "Test time         0.09    0.14    0.08    0.09    0.14    0.11    0.03    \n"
     ]
    },
    {
     "data": {
      "text/plain": [
       "{'fit_time': (4.372043132781982,\n",
       "  4.517865896224976,\n",
       "  4.451305150985718,\n",
       "  4.425579071044922,\n",
       "  4.413444995880127),\n",
       " 'test_mae': array([0.83541058, 0.82518195, 0.84092842, 0.83756312, 0.83992938]),\n",
       " 'test_rmse': array([1.06704272, 1.0511049 , 1.06836192, 1.06722324, 1.06988844]),\n",
       " 'test_time': (0.08597993850708008,\n",
       "  0.13824987411499023,\n",
       "  0.08483195304870605,\n",
       "  0.08743715286254883,\n",
       "  0.13897490501403809)}"
      ]
     },
     "execution_count": 16,
     "metadata": {},
     "output_type": "execute_result"
    }
   ],
   "source": [
    "algo = SVD(biased=False)\n",
    "\n",
    "# Run 5-fold cross-validation and print results.\n",
    "cross_validate(algo, data1, measures=['RMSE', 'MAE'], cv=5, verbose=True)"
   ]
  },
  {
   "cell_type": "code",
   "execution_count": null,
   "metadata": {
    "collapsed": true
   },
   "outputs": [],
   "source": []
  }
 ],
 "metadata": {
  "anaconda-cloud": {},
  "kernelspec": {
   "display_name": "Python 3",
   "language": "python",
   "name": "python3"
  },
  "language_info": {
   "codemirror_mode": {
    "name": "ipython",
    "version": 3
   },
   "file_extension": ".py",
   "mimetype": "text/x-python",
   "name": "python",
   "nbconvert_exporter": "python",
   "pygments_lexer": "ipython3",
   "version": "3.5.2"
  }
 },
 "nbformat": 4,
 "nbformat_minor": 1
}
