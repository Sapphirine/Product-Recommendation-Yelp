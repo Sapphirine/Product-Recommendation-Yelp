{
 "cells": [
  {
   "cell_type": "code",
   "execution_count": 6,
   "metadata": {},
   "outputs": [],
   "source": [
    "from surprise import BaselineOnly\n",
    "from surprise import Dataset\n",
    "from surprise import Reader\n",
    "from surprise.model_selection import cross_validate\n",
    "from surprise import accuracy\n",
    "from surprise.model_selection import PredefinedKFold\n",
    "from collections import defaultdict\n",
    "from surprise.model_selection.split import LeaveOneOut\n",
    "import pandas as pd\n",
    "import numpy as np\n",
    "import os"
   ]
  },
  {
   "cell_type": "code",
   "execution_count": 3,
   "metadata": {
    "collapsed": true
   },
   "outputs": [],
   "source": [
    "df = pd.read_csv(\"all_33_date.csv\")\n",
    "df = df[['user_id','business_id','stars']]"
   ]
  },
  {
   "cell_type": "code",
   "execution_count": 4,
   "metadata": {},
   "outputs": [
    {
     "data": {
      "text/html": [
       "<div>\n",
       "<style>\n",
       "    .dataframe thead tr:only-child th {\n",
       "        text-align: right;\n",
       "    }\n",
       "\n",
       "    .dataframe thead th {\n",
       "        text-align: left;\n",
       "    }\n",
       "\n",
       "    .dataframe tbody tr th {\n",
       "        vertical-align: top;\n",
       "    }\n",
       "</style>\n",
       "<table border=\"1\" class=\"dataframe\">\n",
       "  <thead>\n",
       "    <tr style=\"text-align: right;\">\n",
       "      <th></th>\n",
       "      <th>user_id</th>\n",
       "      <th>business_id</th>\n",
       "      <th>stars</th>\n",
       "    </tr>\n",
       "  </thead>\n",
       "  <tbody>\n",
       "    <tr>\n",
       "      <th>0</th>\n",
       "      <td>Ud72j_rglYmXrL_O8zCdoA</td>\n",
       "      <td>LkMtMHVetws5_7QfRjPtlg</td>\n",
       "      <td>4.0</td>\n",
       "    </tr>\n",
       "    <tr>\n",
       "      <th>1</th>\n",
       "      <td>Ud72j_rglYmXrL_O8zCdoA</td>\n",
       "      <td>ii8sAGBexBOJoYRFafF9XQ</td>\n",
       "      <td>5.0</td>\n",
       "    </tr>\n",
       "    <tr>\n",
       "      <th>2</th>\n",
       "      <td>Ud72j_rglYmXrL_O8zCdoA</td>\n",
       "      <td>ZkGDCVKSdf8m76cnnalL-A</td>\n",
       "      <td>5.0</td>\n",
       "    </tr>\n",
       "    <tr>\n",
       "      <th>3</th>\n",
       "      <td>NkVYcoaThHjOfTTgq6OdHQ</td>\n",
       "      <td>Wxxvi3LZbHNIDwJ-ZimtnA</td>\n",
       "      <td>5.0</td>\n",
       "    </tr>\n",
       "    <tr>\n",
       "      <th>4</th>\n",
       "      <td>G5LXEaxhQMF_BVjNHkVr7g</td>\n",
       "      <td>6xgcHeLad-VaoTIQewK84A</td>\n",
       "      <td>5.0</td>\n",
       "    </tr>\n",
       "  </tbody>\n",
       "</table>\n",
       "</div>"
      ],
      "text/plain": [
       "                  user_id             business_id  stars\n",
       "0  Ud72j_rglYmXrL_O8zCdoA  LkMtMHVetws5_7QfRjPtlg    4.0\n",
       "1  Ud72j_rglYmXrL_O8zCdoA  ii8sAGBexBOJoYRFafF9XQ    5.0\n",
       "2  Ud72j_rglYmXrL_O8zCdoA  ZkGDCVKSdf8m76cnnalL-A    5.0\n",
       "3  NkVYcoaThHjOfTTgq6OdHQ  Wxxvi3LZbHNIDwJ-ZimtnA    5.0\n",
       "4  G5LXEaxhQMF_BVjNHkVr7g  6xgcHeLad-VaoTIQewK84A    5.0"
      ]
     },
     "execution_count": 4,
     "metadata": {},
     "output_type": "execute_result"
    }
   ],
   "source": [
    "df.head()"
   ]
  },
  {
   "cell_type": "code",
   "execution_count": 5,
   "metadata": {
    "collapsed": true
   },
   "outputs": [],
   "source": [
    "df = df.dropna()"
   ]
  },
  {
   "cell_type": "code",
   "execution_count": 6,
   "metadata": {},
   "outputs": [
    {
     "name": "stdout",
     "output_type": "stream",
     "text": [
      "<class 'pandas.core.frame.DataFrame'>\n",
      "Int64Index: 834551 entries, 0 to 834551\n",
      "Data columns (total 3 columns):\n",
      "user_id        834551 non-null object\n",
      "business_id    834551 non-null object\n",
      "stars          834551 non-null float64\n",
      "dtypes: float64(1), object(2)\n",
      "memory usage: 25.5+ MB\n"
     ]
    }
   ],
   "source": [
    "df.info()"
   ]
  },
  {
   "cell_type": "code",
   "execution_count": 4,
   "metadata": {},
   "outputs": [],
   "source": [
    "df_train = pd.read_csv(\"train_33_selected.csv\")"
   ]
  },
  {
   "cell_type": "code",
   "execution_count": 5,
   "metadata": {
    "collapsed": true
   },
   "outputs": [],
   "source": [
    "df_test = pd.read_csv(\"test_33_selected.csv\")"
   ]
  },
  {
   "cell_type": "code",
   "execution_count": 6,
   "metadata": {},
   "outputs": [
    {
     "data": {
      "text/html": [
       "<div>\n",
       "<style>\n",
       "    .dataframe thead tr:only-child th {\n",
       "        text-align: right;\n",
       "    }\n",
       "\n",
       "    .dataframe thead th {\n",
       "        text-align: left;\n",
       "    }\n",
       "\n",
       "    .dataframe tbody tr th {\n",
       "        vertical-align: top;\n",
       "    }\n",
       "</style>\n",
       "<table border=\"1\" class=\"dataframe\">\n",
       "  <thead>\n",
       "    <tr style=\"text-align: right;\">\n",
       "      <th></th>\n",
       "      <th>user_id</th>\n",
       "      <th>business_id</th>\n",
       "      <th>stars</th>\n",
       "    </tr>\n",
       "  </thead>\n",
       "  <tbody>\n",
       "    <tr>\n",
       "      <th>0</th>\n",
       "      <td>Ud72j_rglYmXrL_O8zCdoA</td>\n",
       "      <td>LkMtMHVetws5_7QfRjPtlg</td>\n",
       "      <td>4.0</td>\n",
       "    </tr>\n",
       "    <tr>\n",
       "      <th>1</th>\n",
       "      <td>Ud72j_rglYmXrL_O8zCdoA</td>\n",
       "      <td>ii8sAGBexBOJoYRFafF9XQ</td>\n",
       "      <td>5.0</td>\n",
       "    </tr>\n",
       "    <tr>\n",
       "      <th>2</th>\n",
       "      <td>Ud72j_rglYmXrL_O8zCdoA</td>\n",
       "      <td>ZkGDCVKSdf8m76cnnalL-A</td>\n",
       "      <td>5.0</td>\n",
       "    </tr>\n",
       "    <tr>\n",
       "      <th>3</th>\n",
       "      <td>NkVYcoaThHjOfTTgq6OdHQ</td>\n",
       "      <td>Wxxvi3LZbHNIDwJ-ZimtnA</td>\n",
       "      <td>5.0</td>\n",
       "    </tr>\n",
       "    <tr>\n",
       "      <th>4</th>\n",
       "      <td>G5LXEaxhQMF_BVjNHkVr7g</td>\n",
       "      <td>6xgcHeLad-VaoTIQewK84A</td>\n",
       "      <td>5.0</td>\n",
       "    </tr>\n",
       "  </tbody>\n",
       "</table>\n",
       "</div>"
      ],
      "text/plain": [
       "                  user_id             business_id  stars\n",
       "0  Ud72j_rglYmXrL_O8zCdoA  LkMtMHVetws5_7QfRjPtlg    4.0\n",
       "1  Ud72j_rglYmXrL_O8zCdoA  ii8sAGBexBOJoYRFafF9XQ    5.0\n",
       "2  Ud72j_rglYmXrL_O8zCdoA  ZkGDCVKSdf8m76cnnalL-A    5.0\n",
       "3  NkVYcoaThHjOfTTgq6OdHQ  Wxxvi3LZbHNIDwJ-ZimtnA    5.0\n",
       "4  G5LXEaxhQMF_BVjNHkVr7g  6xgcHeLad-VaoTIQewK84A    5.0"
      ]
     },
     "execution_count": 6,
     "metadata": {},
     "output_type": "execute_result"
    }
   ],
   "source": [
    "df_train.head()"
   ]
  },
  {
   "cell_type": "code",
   "execution_count": 7,
   "metadata": {},
   "outputs": [
    {
     "name": "stdout",
     "output_type": "stream",
     "text": [
      "<class 'pandas.core.frame.DataFrame'>\n",
      "RangeIndex: 667646 entries, 0 to 667645\n",
      "Data columns (total 3 columns):\n",
      "user_id        667646 non-null object\n",
      "business_id    667646 non-null object\n",
      "stars          667646 non-null float64\n",
      "dtypes: float64(1), object(2)\n",
      "memory usage: 15.3+ MB\n"
     ]
    }
   ],
   "source": [
    "df_train.info()"
   ]
  },
  {
   "cell_type": "code",
   "execution_count": 11,
   "metadata": {},
   "outputs": [
    {
     "data": {
      "text/plain": [
       "104156"
      ]
     },
     "execution_count": 11,
     "metadata": {},
     "output_type": "execute_result"
    }
   ],
   "source": [
    "len(df_train.user_id.unique())"
   ]
  },
  {
   "cell_type": "code",
   "execution_count": 9,
   "metadata": {},
   "outputs": [
    {
     "data": {
      "text/plain": [
       "6199"
      ]
     },
     "execution_count": 9,
     "metadata": {},
     "output_type": "execute_result"
    }
   ],
   "source": [
    "len(df_train.business_id.unique())"
   ]
  },
  {
   "cell_type": "code",
   "execution_count": 10,
   "metadata": {},
   "outputs": [
    {
     "data": {
      "text/html": [
       "<div>\n",
       "<style>\n",
       "    .dataframe thead tr:only-child th {\n",
       "        text-align: right;\n",
       "    }\n",
       "\n",
       "    .dataframe thead th {\n",
       "        text-align: left;\n",
       "    }\n",
       "\n",
       "    .dataframe tbody tr th {\n",
       "        vertical-align: top;\n",
       "    }\n",
       "</style>\n",
       "<table border=\"1\" class=\"dataframe\">\n",
       "  <thead>\n",
       "    <tr style=\"text-align: right;\">\n",
       "      <th></th>\n",
       "      <th>user_id</th>\n",
       "      <th>business_id</th>\n",
       "      <th>stars</th>\n",
       "    </tr>\n",
       "  </thead>\n",
       "  <tbody>\n",
       "    <tr>\n",
       "      <th>0</th>\n",
       "      <td>Q5L8xuEqGIzfCnHA4FVjmA</td>\n",
       "      <td>YRiQtFNteLUUEiGkdQ23vg</td>\n",
       "      <td>5.0</td>\n",
       "    </tr>\n",
       "    <tr>\n",
       "      <th>1</th>\n",
       "      <td>djb61X-vkg5PF16qM_wI5Q</td>\n",
       "      <td>cUpdeZJawIwOl6G21z7CzA</td>\n",
       "      <td>4.0</td>\n",
       "    </tr>\n",
       "    <tr>\n",
       "      <th>2</th>\n",
       "      <td>aI9MXPqQm6nJAvrp1dp8AA</td>\n",
       "      <td>tro-hrljuY1cUAVFYauTlQ</td>\n",
       "      <td>5.0</td>\n",
       "    </tr>\n",
       "    <tr>\n",
       "      <th>3</th>\n",
       "      <td>dTWh3151qDqnOb_67iGI6w</td>\n",
       "      <td>gtB-1QxTscdPj78UE5sWuQ</td>\n",
       "      <td>5.0</td>\n",
       "    </tr>\n",
       "    <tr>\n",
       "      <th>4</th>\n",
       "      <td>baGqmwgON4QcKmjqeQUyMw</td>\n",
       "      <td>WEeMwRLhgCyO1b4kikVcuQ</td>\n",
       "      <td>4.0</td>\n",
       "    </tr>\n",
       "  </tbody>\n",
       "</table>\n",
       "</div>"
      ],
      "text/plain": [
       "                  user_id             business_id  stars\n",
       "0  Q5L8xuEqGIzfCnHA4FVjmA  YRiQtFNteLUUEiGkdQ23vg    5.0\n",
       "1  djb61X-vkg5PF16qM_wI5Q  cUpdeZJawIwOl6G21z7CzA    4.0\n",
       "2  aI9MXPqQm6nJAvrp1dp8AA  tro-hrljuY1cUAVFYauTlQ    5.0\n",
       "3  dTWh3151qDqnOb_67iGI6w  gtB-1QxTscdPj78UE5sWuQ    5.0\n",
       "4  baGqmwgON4QcKmjqeQUyMw  WEeMwRLhgCyO1b4kikVcuQ    4.0"
      ]
     },
     "execution_count": 10,
     "metadata": {},
     "output_type": "execute_result"
    }
   ],
   "source": [
    "df_test.head()"
   ]
  },
  {
   "cell_type": "code",
   "execution_count": 11,
   "metadata": {},
   "outputs": [
    {
     "name": "stdout",
     "output_type": "stream",
     "text": [
      "<class 'pandas.core.frame.DataFrame'>\n",
      "RangeIndex: 166905 entries, 0 to 166904\n",
      "Data columns (total 3 columns):\n",
      "user_id        166905 non-null object\n",
      "business_id    166905 non-null object\n",
      "stars          166905 non-null float64\n",
      "dtypes: float64(1), object(2)\n",
      "memory usage: 3.8+ MB\n"
     ]
    }
   ],
   "source": [
    "df_test.info()"
   ]
  },
  {
   "cell_type": "code",
   "execution_count": 12,
   "metadata": {},
   "outputs": [
    {
     "data": {
      "text/plain": [
       "104147"
      ]
     },
     "execution_count": 12,
     "metadata": {},
     "output_type": "execute_result"
    }
   ],
   "source": [
    "len(df_test.user_id.unique())"
   ]
  },
  {
   "cell_type": "code",
   "execution_count": 13,
   "metadata": {},
   "outputs": [
    {
     "data": {
      "text/plain": [
       "6193"
      ]
     },
     "execution_count": 13,
     "metadata": {},
     "output_type": "execute_result"
    }
   ],
   "source": [
    "len(df_test.business_id.unique())"
   ]
  },
  {
   "cell_type": "code",
   "execution_count": 14,
   "metadata": {
    "collapsed": true
   },
   "outputs": [],
   "source": [
    "reader = Reader(rating_scale=(1, 5))\n",
    "data_train = Dataset.load_from_df(df_train, reader)\n",
    "data_test = Dataset.load_from_df(df_test, reader)\n",
    "data_all = Dataset.load_from_df(df, reader)"
   ]
  },
  {
   "cell_type": "code",
   "execution_count": 15,
   "metadata": {},
   "outputs": [],
   "source": [
    "df_trainset_train = data_train.build_full_trainset()\n",
    "df_trainset_test = df_trainset_train.build_testset()"
   ]
  },
  {
   "cell_type": "code",
   "execution_count": 16,
   "metadata": {
    "collapsed": true
   },
   "outputs": [],
   "source": [
    "df_testset = data_test.build_full_trainset().build_testset()"
   ]
  },
  {
   "cell_type": "markdown",
   "metadata": {},
   "source": [
    "# Modeling"
   ]
  },
  {
   "cell_type": "markdown",
   "metadata": {},
   "source": [
    "#### BaselineOnly"
   ]
  },
  {
   "cell_type": "code",
   "execution_count": 42,
   "metadata": {},
   "outputs": [
    {
     "name": "stdout",
     "output_type": "stream",
     "text": [
      "Estimating biases using sgd...\n",
      "RMSE: 1.0615\n",
      "BaselineOnly train biased RMSE 1.0615374793532382\n",
      "RMSE: 1.2057\n",
      "BaselineOnly test unbiased RMSE 1.2057112268351573\n"
     ]
    }
   ],
   "source": [
    "from surprise import BaselineOnly\n",
    "\n",
    "bsl_options = {'method': 'sgd',\n",
    "               'reg': 0.001,\n",
    "               'learning_rate': .005,\n",
    "               }\n",
    "\n",
    "algo = BaselineOnly(bsl_options=bsl_options)\n",
    "algo.fit(df_trainset_train)\n",
    "\n",
    "train_pred = algo.test(df_trainset_test)\n",
    "print(\"BaselineOnly train biased RMSE\", accuracy.rmse(train_pred))\n",
    "test_pred = algo.test(df_testset)\n",
    "print(\"BaselineOnly test unbiased RMSE\", accuracy.rmse(test_pred))"
   ]
  },
  {
   "cell_type": "code",
   "execution_count": 50,
   "metadata": {},
   "outputs": [
    {
     "name": "stdout",
     "output_type": "stream",
     "text": [
      "Estimating biases using als...\n",
      "RMSE: 1.0665\n",
      "BaselineOnly train biased RMSE 1.0665105660993361\n",
      "RMSE: 1.2108\n",
      "BaselineOnly test unbiased RMSE 1.2107896707675672\n"
     ]
    }
   ],
   "source": [
    "from surprise import BaselineOnly\n",
    "\n",
    "bsl_options = {'method': 'als',\n",
    "               'n_epochs': 5,\n",
    "               'reg_u': 8,\n",
    "               'reg_i': 15\n",
    "               }\n",
    "\n",
    "algo = BaselineOnly(bsl_options=bsl_options)\n",
    "algo.fit(df_trainset_train)\n",
    "\n",
    "train_pred = algo.test(df_trainset_test)\n",
    "print(\"BaselineOnly train biased RMSE\", accuracy.rmse(train_pred))\n",
    "test_pred = algo.test(df_testset)\n",
    "print(\"BaselineOnly test unbiased RMSE\", accuracy.rmse(test_pred))"
   ]
  },
  {
   "cell_type": "code",
   "execution_count": 69,
   "metadata": {},
   "outputs": [
    {
     "name": "stdout",
     "output_type": "stream",
     "text": [
      "Estimating biases using sgd...\n",
      "Estimating biases using sgd...\n",
      "Estimating biases using sgd...\n",
      "Estimating biases using sgd...\n",
      "Estimating biases using sgd...\n",
      "Evaluating RMSE, MAE of algorithm BaselineOnly on 5 split(s).\n",
      "\n",
      "                  Fold 1  Fold 2  Fold 3  Fold 4  Fold 5  Mean    Std     \n",
      "RMSE (testset)    1.1418  1.1417  1.1469  1.1448  1.1427  1.1436  0.0020  \n",
      "MAE (testset)     0.9056  0.9049  0.9095  0.9063  0.9063  0.9065  0.0016  \n",
      "Fit time          4.12    4.26    4.40    4.40    4.28    4.29    0.10    \n",
      "Test time         1.76    0.82    0.83    0.81    0.81    1.01    0.38    \n"
     ]
    },
    {
     "data": {
      "text/plain": [
       "{'fit_time': (4.122597932815552,\n",
       "  4.2642810344696045,\n",
       "  4.399949789047241,\n",
       "  4.399378061294556,\n",
       "  4.276902914047241),\n",
       " 'test_mae': array([0.90558792, 0.90488165, 0.90954911, 0.90627441, 0.90634098]),\n",
       " 'test_rmse': array([1.14175314, 1.14171772, 1.14693228, 1.14478315, 1.14269284]),\n",
       " 'test_time': (1.7621209621429443,\n",
       "  0.8171501159667969,\n",
       "  0.8267278671264648,\n",
       "  0.8119058609008789,\n",
       "  0.8108701705932617)}"
      ]
     },
     "execution_count": 69,
     "metadata": {},
     "output_type": "execute_result"
    }
   ],
   "source": [
    "cross_validate(algo, data_train, measures=['RMSE', 'MAE'], cv=5, verbose=True)"
   ]
  },
  {
   "cell_type": "code",
   "execution_count": 24,
   "metadata": {},
   "outputs": [
    {
     "name": "stdout",
     "output_type": "stream",
     "text": [
      "Estimating biases using als...\n",
      "RMSE: 1.2156\n",
      "Estimating biases using als...\n",
      "RMSE: 1.2125\n",
      "Estimating biases using als...\n",
      "RMSE: 1.2211\n",
      "Estimating biases using als...\n",
      "RMSE: 1.2176\n",
      "Estimating biases using als...\n",
      "RMSE: 1.2145\n"
     ]
    }
   ],
   "source": [
    "loo = LeaveOneOut()\n",
    "\n",
    "algo = BaselineOnly()\n",
    "\n",
    "for trainset, testset in loo.split(data_all):\n",
    "    \n",
    "    algo.fit(trainset)\n",
    "    predictions = algo.test(testset)\n",
    "\n",
    "    # Compute and print Root Mean Squared Error\n",
    "    accuracy.rmse(predictions, verbose=True)"
   ]
  },
  {
   "cell_type": "code",
   "execution_count": null,
   "metadata": {
    "collapsed": true
   },
   "outputs": [],
   "source": []
  },
  {
   "cell_type": "markdown",
   "metadata": {},
   "source": [
    "#### KNN"
   ]
  },
  {
   "cell_type": "code",
   "execution_count": 1,
   "metadata": {},
   "outputs": [
    {
     "ename": "NameError",
     "evalue": "name 'df_trainset_train' is not defined",
     "output_type": "error",
     "traceback": [
      "\u001b[0;31m---------------------------------------------------------------------------\u001b[0m",
      "\u001b[0;31mNameError\u001b[0m                                 Traceback (most recent call last)",
      "\u001b[0;32m<ipython-input-1-91306f1c106c>\u001b[0m in \u001b[0;36m<module>\u001b[0;34m()\u001b[0m\n\u001b[1;32m      1\u001b[0m \u001b[0;32mfrom\u001b[0m \u001b[0msurprise\u001b[0m \u001b[0;32mimport\u001b[0m \u001b[0mKNNBaseline\u001b[0m\u001b[0;34m\u001b[0m\u001b[0m\n\u001b[1;32m      2\u001b[0m \u001b[0malgo_knn\u001b[0m \u001b[0;34m=\u001b[0m \u001b[0mKNNBaseline\u001b[0m\u001b[0;34m(\u001b[0m\u001b[0mk\u001b[0m\u001b[0;34m=\u001b[0m\u001b[0;36m500\u001b[0m\u001b[0;34m,\u001b[0m \u001b[0muser_based\u001b[0m\u001b[0;34m=\u001b[0m\u001b[0;32mFalse\u001b[0m\u001b[0;34m)\u001b[0m\u001b[0;34m\u001b[0m\u001b[0m\n\u001b[0;32m----> 3\u001b[0;31m \u001b[0malgo_knn\u001b[0m\u001b[0;34m.\u001b[0m\u001b[0mfit\u001b[0m\u001b[0;34m(\u001b[0m\u001b[0mdf_trainset_train\u001b[0m\u001b[0;34m)\u001b[0m\u001b[0;34m\u001b[0m\u001b[0m\n\u001b[0m",
      "\u001b[0;31mNameError\u001b[0m: name 'df_trainset_train' is not defined"
     ]
    }
   ],
   "source": [
    "from surprise import KNNBaseline\n",
    "algo_knn = KNNBaseline(k=500, user_based=False)\n",
    "algo_knn.fit(df_trainset_train)"
   ]
  },
  {
   "cell_type": "code",
   "execution_count": null,
   "metadata": {
    "collapsed": true
   },
   "outputs": [],
   "source": [
    "train_pred_knn = algo_knn.test(df_trainset_test)\n",
    "print(\"KNN train biased RMSE\", accuracy.rmse(train_pred_knn))\n",
    "test_pred_knn = algo_knn.test(df_testset)\n",
    "print(\"KNN test unbiased RMSE\", accuracy.rmse(test_pred_knn))"
   ]
  },
  {
   "cell_type": "code",
   "execution_count": null,
   "metadata": {
    "collapsed": true
   },
   "outputs": [],
   "source": [
    "#cross_validate(algo_knn, data_train, measures=['RMSE', 'MAE'], cv=5, verbose=True)"
   ]
  },
  {
   "cell_type": "markdown",
   "metadata": {},
   "source": [
    "#### PMF"
   ]
  },
  {
   "cell_type": "code",
   "execution_count": 38,
   "metadata": {},
   "outputs": [
    {
     "name": "stdout",
     "output_type": "stream",
     "text": [
      "RMSE: 0.9462\n",
      "PMF train biased RMSE 0.9462048849220677\n",
      "RMSE: 1.5357\n",
      "PMF test unbiased RMSE 1.5356683095858437\n"
     ]
    }
   ],
   "source": [
    "from surprise import SVD\n",
    "algo_pmf = SVD(n_factors=12, n_epochs=20, biased=False)\n",
    "algo_pmf.fit(df_trainset_train)\n",
    "\n",
    "train_pred_pmf = algo_pmf.test(df_trainset_test)\n",
    "print(\"PMF train biased RMSE\", accuracy.rmse(train_pred_pmf))\n",
    "test_pred_pmf = algo_pmf.test(df_testset)\n",
    "print(\"PMF test unbiased RMSE\", accuracy.rmse(test_pred_pmf))"
   ]
  },
  {
   "cell_type": "code",
   "execution_count": 39,
   "metadata": {},
   "outputs": [
    {
     "name": "stdout",
     "output_type": "stream",
     "text": [
      "Evaluating RMSE, MAE of algorithm SVD on 5 split(s).\n",
      "\n",
      "                  Fold 1  Fold 2  Fold 3  Fold 4  Fold 5  Mean    Std     \n",
      "RMSE (testset)    1.3664  1.3728  1.3646  1.3655  1.3725  1.3684  0.0036  \n",
      "MAE (testset)     1.0549  1.0607  1.0534  1.0550  1.0594  1.0567  0.0028  \n",
      "Fit time          15.57   15.76   15.75   15.73   15.74   15.71   0.07    \n",
      "Test time         1.30    1.28    0.89    0.86    0.85    1.04    0.21    \n"
     ]
    },
    {
     "data": {
      "text/plain": [
       "{'fit_time': (15.566722869873047,\n",
       "  15.762358903884888,\n",
       "  15.749221086502075,\n",
       "  15.731513023376465,\n",
       "  15.742002964019775),\n",
       " 'test_mae': array([1.05493793, 1.06067975, 1.05337667, 1.05501464, 1.05939546]),\n",
       " 'test_rmse': array([1.36638166, 1.37284885, 1.36459553, 1.3655026 , 1.3724832 ]),\n",
       " 'test_time': (1.299198865890503,\n",
       "  1.2790918350219727,\n",
       "  0.8946449756622314,\n",
       "  0.8617708683013916,\n",
       "  0.8522119522094727)}"
      ]
     },
     "execution_count": 39,
     "metadata": {},
     "output_type": "execute_result"
    }
   ],
   "source": [
    "cross_validate(algo_pmf, data_train, measures=['RMSE', 'MAE'], cv=5, verbose=True)"
   ]
  },
  {
   "cell_type": "code",
   "execution_count": 26,
   "metadata": {},
   "outputs": [
    {
     "name": "stdout",
     "output_type": "stream",
     "text": [
      "RMSE: 1.5246\n",
      "RMSE: 1.5259\n",
      "RMSE: 1.5192\n",
      "RMSE: 1.5190\n",
      "RMSE: 1.5192\n"
     ]
    }
   ],
   "source": [
    "from surprise import SVD\n",
    "algo_pmf = SVD(biased=False)\n",
    "\n",
    "for trainset, testset in loo.split(data_all):\n",
    "    \n",
    "    algo_pmf.fit(trainset)\n",
    "    predictions = algo_pmf.test(testset)\n",
    "\n",
    "    # Compute and print Root Mean Squared Error\n",
    "    accuracy.rmse(predictions, verbose=True)"
   ]
  },
  {
   "cell_type": "markdown",
   "metadata": {},
   "source": [
    "#### SVD"
   ]
  },
  {
   "cell_type": "code",
   "execution_count": 33,
   "metadata": {},
   "outputs": [
    {
     "data": {
      "text/plain": [
       "<surprise.prediction_algorithms.matrix_factorization.SVD at 0x115560c88>"
      ]
     },
     "execution_count": 33,
     "metadata": {},
     "output_type": "execute_result"
    }
   ],
   "source": [
    "from surprise import SVD\n",
    "algo_svd_1 = SVD(n_factors=20, n_epochs=15)\n",
    "algo_svd_1.fit(df_trainset_train)"
   ]
  },
  {
   "cell_type": "code",
   "execution_count": 34,
   "metadata": {},
   "outputs": [
    {
     "name": "stdout",
     "output_type": "stream",
     "text": [
      "RMSE: 1.0249\n",
      "SVD train biased RMSE 1.024856211461352\n",
      "RMSE: 1.2118\n",
      "SVD test unbiased RMSE 1.2117590546524613\n"
     ]
    }
   ],
   "source": [
    "train_pred_svd_1 = algo_svd_1.test(df_trainset_test)\n",
    "print(\"SVD train biased RMSE\", accuracy.rmse(train_pred_svd_1))\n",
    "test_pred_svd_1 = algo_svd_1.test(df_testset)\n",
    "print(\"SVD test unbiased RMSE\", accuracy.rmse(test_pred_svd_1))"
   ]
  },
  {
   "cell_type": "code",
   "execution_count": 23,
   "metadata": {},
   "outputs": [
    {
     "name": "stdout",
     "output_type": "stream",
     "text": [
      "RMSE: 1.0388\n",
      "SVD train biased RMSE 1.0387571058602665\n",
      "RMSE: 1.2199\n",
      "SVD test unbiased RMSE 1.2199389887459124\n"
     ]
    }
   ],
   "source": [
    "from surprise import SVD\n",
    "algo_svd_2 = SVD(n_factors=50, n_epochs=10)\n",
    "algo_svd_2.fit(df_trainset_train)\n",
    "\n",
    "train_pred_svd_2 = algo_svd_2.test(df_trainset_test)\n",
    "print(\"SVD train biased RMSE\", accuracy.rmse(train_pred_svd_2))\n",
    "test_pred_svd_2 = algo_svd_2.test(df_testset)\n",
    "print(\"SVD test unbiased RMSE\", accuracy.rmse(test_pred_svd_2))"
   ]
  },
  {
   "cell_type": "code",
   "execution_count": 28,
   "metadata": {},
   "outputs": [
    {
     "name": "stdout",
     "output_type": "stream",
     "text": [
      "RMSE: 1.0608\n",
      "SVD train biased RMSE 1.0608437830508364\n",
      "RMSE: 1.2187\n",
      "SVD test unbiased RMSE 1.2186500127989746\n"
     ]
    }
   ],
   "source": [
    "from surprise import SVD\n",
    "algo_svd_3 = SVD(n_factors=30, n_epochs=10)\n",
    "algo_svd_3.fit(df_trainset_train)\n",
    "\n",
    "train_pred_svd_3 = algo_svd_3.test(df_trainset_test)\n",
    "print(\"SVD train biased RMSE\", accuracy.rmse(train_pred_svd_3))\n",
    "test_pred_svd_3 = algo_svd_3.test(df_testset)\n",
    "print(\"SVD test unbiased RMSE\", accuracy.rmse(test_pred_svd_3))"
   ]
  },
  {
   "cell_type": "code",
   "execution_count": 30,
   "metadata": {},
   "outputs": [
    {
     "name": "stdout",
     "output_type": "stream",
     "text": [
      "RMSE: 0.9611\n",
      "SVD train biased RMSE 0.9610708138026886\n",
      "RMSE: 1.2151\n",
      "SVD test unbiased RMSE 1.2150919274110736\n"
     ]
    }
   ],
   "source": [
    "from surprise import SVD\n",
    "algo_svd_4 = SVD(n_factors=30, n_epochs=15)\n",
    "algo_svd_4.fit(df_trainset_train)\n",
    "\n",
    "train_pred_svd_4 = algo_svd_4.test(df_trainset_test)\n",
    "print(\"SVD train biased RMSE\", accuracy.rmse(train_pred_svd_4))\n",
    "test_pred_svd_4 = algo_svd_4.test(df_testset)\n",
    "print(\"SVD test unbiased RMSE\", accuracy.rmse(test_pred_svd_4))"
   ]
  },
  {
   "cell_type": "code",
   "execution_count": 35,
   "metadata": {},
   "outputs": [
    {
     "name": "stdout",
     "output_type": "stream",
     "text": [
      "Evaluating RMSE, MAE of algorithm SVD on 5 split(s).\n",
      "\n",
      "                  Fold 1  Fold 2  Fold 3  Fold 4  Fold 5  Mean    Std     \n",
      "RMSE (testset)    1.1482  1.1487  1.1477  1.1494  1.1472  1.1482  0.0008  \n",
      "MAE (testset)     0.9133  0.9121  0.9130  0.9142  0.9124  0.9130  0.0007  \n",
      "Fit time          14.69   16.53   15.14   14.76   15.44   15.31   0.67    \n",
      "Test time         1.25    1.12    1.15    1.12    1.12    1.15    0.05    \n"
     ]
    },
    {
     "data": {
      "text/plain": [
       "{'fit_time': (14.690735816955566,\n",
       "  16.53309202194214,\n",
       "  15.13542103767395,\n",
       "  14.755640983581543,\n",
       "  15.436825037002563),\n",
       " 'test_mae': array([0.91330799, 0.91208184, 0.91299981, 0.91418933, 0.91238658]),\n",
       " 'test_rmse': array([1.14818215, 1.1487161 , 1.14769818, 1.14935646, 1.14718293]),\n",
       " 'test_time': (1.246934175491333,\n",
       "  1.125,\n",
       "  1.1499409675598145,\n",
       "  1.116776943206787,\n",
       "  1.117764949798584)}"
      ]
     },
     "execution_count": 35,
     "metadata": {},
     "output_type": "execute_result"
    }
   ],
   "source": [
    "cross_validate(algo_svd_1, data_train, measures=['RMSE', 'MAE'], cv=5, verbose=True)"
   ]
  },
  {
   "cell_type": "code",
   "execution_count": null,
   "metadata": {},
   "outputs": [],
   "source": [
    "algo_svd = SVD()\n",
    "\n",
    "for trainset, testset in loo.split(data_all):\n",
    "    \n",
    "    algo_svd.fit(trainset)\n",
    "    predictions = algo_svd.test(testset)\n",
    "\n",
    "    # Compute and print Root Mean Squared Error\n",
    "    accuracy.rmse(predictions, verbose=True)"
   ]
  },
  {
   "cell_type": "markdown",
   "metadata": {},
   "source": [
    "#### SVDpp"
   ]
  },
  {
   "cell_type": "code",
   "execution_count": 56,
   "metadata": {},
   "outputs": [
    {
     "name": "stdout",
     "output_type": "stream",
     "text": [
      "RMSE: 1.0514\n",
      "SVDpp train biased RMSE 1.051354400669383\n",
      "RMSE: 1.2118\n",
      "SVDpp test unbiased RMSE 1.2117677323392348\n"
     ]
    }
   ],
   "source": [
    "from surprise import SVDpp\n",
    "algo_svdpp_1 = SVDpp(n_factors=10, n_epochs=10)\n",
    "algo_svdpp_1.fit(df_trainset_train)\n",
    "\n",
    "train_pred_svdpp_1 = algo_svdpp_1.test(df_trainset_test)\n",
    "print(\"SVDpp train biased RMSE\", accuracy.rmse(train_pred_svdpp_1))\n",
    "test_pred_svdpp_1 = algo_svdpp_1.test(df_testset)\n",
    "print(\"SVDpp test unbiased RMSE\", accuracy.rmse(test_pred_svdpp_1))"
   ]
  },
  {
   "cell_type": "code",
   "execution_count": 58,
   "metadata": {},
   "outputs": [
    {
     "name": "stdout",
     "output_type": "stream",
     "text": [
      "RMSE: 1.1077\n",
      "SVDpp train biased RMSE 1.1076843252153576\n",
      "RMSE: 1.2254\n",
      "SVDpp test unbiased RMSE 1.2254464718146858\n"
     ]
    }
   ],
   "source": [
    "from surprise import SVDpp\n",
    "algo_svdpp_2 = SVDpp(n_factors=5, n_epochs=5)\n",
    "algo_svdpp_2.fit(df_trainset_train)\n",
    "\n",
    "train_pred_svdpp_2 = algo_svdpp_2.test(df_trainset_test)\n",
    "print(\"SVDpp train biased RMSE\", accuracy.rmse(train_pred_svdpp_2))\n",
    "test_pred_svdpp_2 = algo_svdpp_2.test(df_testset)\n",
    "print(\"SVDpp test unbiased RMSE\", accuracy.rmse(test_pred_svdpp_2))"
   ]
  },
  {
   "cell_type": "code",
   "execution_count": 60,
   "metadata": {},
   "outputs": [
    {
     "data": {
      "text/plain": [
       "<surprise.prediction_algorithms.matrix_factorization.SVDpp at 0x1033e8ef0>"
      ]
     },
     "execution_count": 60,
     "metadata": {},
     "output_type": "execute_result"
    }
   ],
   "source": [
    "from surprise import SVDpp\n",
    "algo_svdpp = SVDpp()\n",
    "algo_svdpp.fit(df_trainset_train)"
   ]
  },
  {
   "cell_type": "code",
   "execution_count": 61,
   "metadata": {},
   "outputs": [
    {
     "name": "stdout",
     "output_type": "stream",
     "text": [
      "RMSE: 0.8178\n",
      "SVDpp train biased RMSE 0.8177596675789183\n",
      "RMSE: 1.2224\n",
      "SVDpp test unbiased RMSE 1.222432032057506\n"
     ]
    }
   ],
   "source": [
    "train_pred_svdpp = algo_svdpp.test(df_trainset_test)\n",
    "print(\"SVDpp train biased RMSE\", accuracy.rmse(train_pred_svdpp))\n",
    "test_pred_svdpp = algo_svdpp.test(df_testset)\n",
    "print(\"SVDpp test unbiased RMSE\", accuracy.rmse(test_pred_svdpp))"
   ]
  },
  {
   "cell_type": "code",
   "execution_count": 59,
   "metadata": {},
   "outputs": [
    {
     "name": "stdout",
     "output_type": "stream",
     "text": [
      "Evaluating RMSE, MAE of algorithm SVDpp on 5 split(s).\n",
      "\n",
      "                  Fold 1  Fold 2  Fold 3  Fold 4  Fold 5  Mean    Std     \n",
      "RMSE (testset)    1.1457  1.1449  1.1483  1.1488  1.1483  1.1472  0.0016  \n",
      "MAE (testset)     0.9121  0.9110  0.9132  0.9139  0.9136  0.9128  0.0011  \n",
      "Fit time          137.76  154.74  164.27  160.81  159.68  155.45  9.36    \n",
      "Test time         6.79    8.01    7.91    10.56   7.72    8.20    1.26    \n"
     ]
    },
    {
     "data": {
      "text/plain": [
       "{'fit_time': (137.75702691078186,\n",
       "  154.73514199256897,\n",
       "  164.268061876297,\n",
       "  160.80781507492065,\n",
       "  159.68211698532104),\n",
       " 'test_mae': array([0.91207069, 0.91103457, 0.91324639, 0.91389616, 0.91358074]),\n",
       " 'test_rmse': array([1.14566271, 1.14489693, 1.14832405, 1.14878058, 1.1483142 ]),\n",
       " 'test_time': (6.7922258377075195,\n",
       "  8.010616779327393,\n",
       "  7.907413005828857,\n",
       "  10.5589120388031,\n",
       "  7.715319871902466)}"
      ]
     },
     "execution_count": 59,
     "metadata": {},
     "output_type": "execute_result"
    }
   ],
   "source": [
    "cross_validate(algo_svdpp_1, data_train, measures=['RMSE', 'MAE'], cv=5, verbose=True)"
   ]
  },
  {
   "cell_type": "code",
   "execution_count": 30,
   "metadata": {},
   "outputs": [
    {
     "name": "stdout",
     "output_type": "stream",
     "text": [
      "RMSE: 1.2270\n"
     ]
    },
    {
     "ename": "KeyboardInterrupt",
     "evalue": "",
     "output_type": "error",
     "traceback": [
      "\u001b[0;31m---------------------------------------------------------------------------\u001b[0m",
      "\u001b[0;31mKeyboardInterrupt\u001b[0m                         Traceback (most recent call last)",
      "\u001b[0;32m<ipython-input-30-b1f8609909d1>\u001b[0m in \u001b[0;36m<module>\u001b[0;34m()\u001b[0m\n\u001b[1;32m      5\u001b[0m \u001b[0;32mfor\u001b[0m \u001b[0mtrainset\u001b[0m\u001b[0;34m,\u001b[0m \u001b[0mtestset\u001b[0m \u001b[0;32min\u001b[0m \u001b[0mloo\u001b[0m\u001b[0;34m.\u001b[0m\u001b[0msplit\u001b[0m\u001b[0;34m(\u001b[0m\u001b[0mdata_all\u001b[0m\u001b[0;34m)\u001b[0m\u001b[0;34m:\u001b[0m\u001b[0;34m\u001b[0m\u001b[0m\n\u001b[1;32m      6\u001b[0m \u001b[0;34m\u001b[0m\u001b[0m\n\u001b[0;32m----> 7\u001b[0;31m     \u001b[0malgo_svdpp\u001b[0m\u001b[0;34m.\u001b[0m\u001b[0mfit\u001b[0m\u001b[0;34m(\u001b[0m\u001b[0mtrainset\u001b[0m\u001b[0;34m)\u001b[0m\u001b[0;34m\u001b[0m\u001b[0m\n\u001b[0m\u001b[1;32m      8\u001b[0m     \u001b[0mpredictions\u001b[0m \u001b[0;34m=\u001b[0m \u001b[0malgo_svdpp\u001b[0m\u001b[0;34m.\u001b[0m\u001b[0mtest\u001b[0m\u001b[0;34m(\u001b[0m\u001b[0mtestset\u001b[0m\u001b[0;34m)\u001b[0m\u001b[0;34m\u001b[0m\u001b[0m\n\u001b[1;32m      9\u001b[0m \u001b[0;34m\u001b[0m\u001b[0m\n",
      "\u001b[0;32m~/anaconda/envs/python35/lib/python3.5/site-packages/surprise/prediction_algorithms/matrix_factorization.pyx\u001b[0m in \u001b[0;36msurprise.prediction_algorithms.matrix_factorization.SVDpp.fit\u001b[0;34m()\u001b[0m\n",
      "\u001b[0;32m~/anaconda/envs/python35/lib/python3.5/site-packages/surprise/prediction_algorithms/matrix_factorization.pyx\u001b[0m in \u001b[0;36msurprise.prediction_algorithms.matrix_factorization.SVDpp.sgd\u001b[0;34m()\u001b[0m\n",
      "\u001b[0;32m~/anaconda/envs/python35/lib/python3.5/site-packages/surprise/trainset.py\u001b[0m in \u001b[0;36mall_ratings\u001b[0;34m(self)\u001b[0m\n\u001b[1;32m    188\u001b[0m         \u001b[0;32mfor\u001b[0m \u001b[0mu\u001b[0m\u001b[0;34m,\u001b[0m \u001b[0mu_ratings\u001b[0m \u001b[0;32min\u001b[0m \u001b[0miteritems\u001b[0m\u001b[0;34m(\u001b[0m\u001b[0mself\u001b[0m\u001b[0;34m.\u001b[0m\u001b[0mur\u001b[0m\u001b[0;34m)\u001b[0m\u001b[0;34m:\u001b[0m\u001b[0;34m\u001b[0m\u001b[0m\n\u001b[1;32m    189\u001b[0m             \u001b[0;32mfor\u001b[0m \u001b[0mi\u001b[0m\u001b[0;34m,\u001b[0m \u001b[0mr\u001b[0m \u001b[0;32min\u001b[0m \u001b[0mu_ratings\u001b[0m\u001b[0;34m:\u001b[0m\u001b[0;34m\u001b[0m\u001b[0m\n\u001b[0;32m--> 190\u001b[0;31m                 \u001b[0;32myield\u001b[0m \u001b[0mu\u001b[0m\u001b[0;34m,\u001b[0m \u001b[0mi\u001b[0m\u001b[0;34m,\u001b[0m \u001b[0mr\u001b[0m\u001b[0;34m\u001b[0m\u001b[0m\n\u001b[0m\u001b[1;32m    191\u001b[0m \u001b[0;34m\u001b[0m\u001b[0m\n\u001b[1;32m    192\u001b[0m     \u001b[0;32mdef\u001b[0m \u001b[0mbuild_testset\u001b[0m\u001b[0;34m(\u001b[0m\u001b[0mself\u001b[0m\u001b[0;34m)\u001b[0m\u001b[0;34m:\u001b[0m\u001b[0;34m\u001b[0m\u001b[0m\n",
      "\u001b[0;31mKeyboardInterrupt\u001b[0m: "
     ]
    }
   ],
   "source": [
    "from surprise import SVDpp\n",
    "\n",
    "algo_svdpp = SVDpp()\n",
    "\n",
    "for trainset, testset in loo.split(data_all):\n",
    "    \n",
    "    algo_svdpp.fit(trainset)\n",
    "    predictions = algo_svdpp.test(testset)\n",
    "\n",
    "    # Compute and print Root Mean Squared Error\n",
    "    accuracy.rmse(predictions, verbose=True)"
   ]
  },
  {
   "cell_type": "markdown",
   "metadata": {},
   "source": [
    "#### NMF"
   ]
  },
  {
   "cell_type": "code",
   "execution_count": 54,
   "metadata": {},
   "outputs": [
    {
     "name": "stdout",
     "output_type": "stream",
     "text": [
      "RMSE: 1.8887\n",
      "NMF train biased RMSE 1.8886954324179221\n",
      "RMSE: 2.0244\n",
      "NMF test unbiased RMSE 2.024350988002533\n"
     ]
    }
   ],
   "source": [
    "from surprise import NMF\n",
    "\n",
    "algo_nmf_1 = NMF(n_factors=500,n_epochs=10,biased=True)\n",
    "algo_nmf_1.fit(df_trainset_train)\n",
    "\n",
    "train_pred_nmf_1 = algo_nmf_1.test(df_trainset_test)\n",
    "print(\"NMF train biased RMSE\", accuracy.rmse(train_pred_nmf_1))\n",
    "test_pred_nmf_1 = algo_nmf_1.test(df_testset)\n",
    "print(\"NMF test unbiased RMSE\", accuracy.rmse(test_pred_nmf_1))"
   ]
  },
  {
   "cell_type": "code",
   "execution_count": 53,
   "metadata": {},
   "outputs": [
    {
     "name": "stdout",
     "output_type": "stream",
     "text": [
      "RMSE: 1.0423\n",
      "NMF train biased RMSE 1.0422730231469668\n",
      "RMSE: 1.2333\n",
      "NMF test unbiased RMSE 1.2332936708221804\n"
     ]
    }
   ],
   "source": [
    "from surprise import NMF\n",
    "\n",
    "algo_nmf_2 = NMF(n_factors=3,n_epochs=5,biased=True)\n",
    "algo_nmf_2.fit(df_trainset_train)\n",
    "\n",
    "train_pred_nmf_2 = algo_nmf_2.test(df_trainset_test)\n",
    "print(\"NMF train biased RMSE\", accuracy.rmse(train_pred_nmf_2))\n",
    "test_pred_nmf_2 = algo_nmf_2.test(df_testset)\n",
    "print(\"NMF test unbiased RMSE\", accuracy.rmse(test_pred_nmf_2))"
   ]
  },
  {
   "cell_type": "code",
   "execution_count": 52,
   "metadata": {},
   "outputs": [
    {
     "name": "stdout",
     "output_type": "stream",
     "text": [
      "RMSE: 1.0171\n",
      "NMF train biased RMSE 1.0171494921695154\n",
      "RMSE: 1.2401\n",
      "NMF test unbiased RMSE 1.2401192122252256\n"
     ]
    }
   ],
   "source": [
    "from surprise import NMF\n",
    "\n",
    "algo_nmf_3 = NMF(n_factors=2,n_epochs=5,biased=True)\n",
    "algo_nmf_3.fit(df_trainset_train)\n",
    "\n",
    "train_pred_nmf_3 = algo_nmf_3.test(df_trainset_test)\n",
    "print(\"NMF train biased RMSE\", accuracy.rmse(train_pred_nmf_3))\n",
    "test_pred_nmf_3 = algo_nmf_3.test(df_testset)\n",
    "print(\"NMF test unbiased RMSE\", accuracy.rmse(test_pred_nmf_3))"
   ]
  },
  {
   "cell_type": "code",
   "execution_count": 58,
   "metadata": {},
   "outputs": [
    {
     "data": {
      "text/plain": [
       "<surprise.prediction_algorithms.matrix_factorization.NMF at 0x1033e5748>"
      ]
     },
     "execution_count": 58,
     "metadata": {},
     "output_type": "execute_result"
    }
   ],
   "source": [
    "from surprise import NMF\n",
    "\n",
    "algo_nmf = NMF()\n",
    "algo_nmf.fit(df_trainset_train)"
   ]
  },
  {
   "cell_type": "code",
   "execution_count": 59,
   "metadata": {},
   "outputs": [
    {
     "name": "stdout",
     "output_type": "stream",
     "text": [
      "RMSE: 0.6135\n",
      "NMF train biased RMSE 0.6135013087584554\n",
      "RMSE: 1.3930\n",
      "NMF test unbiased RMSE 1.3929995422178636\n"
     ]
    }
   ],
   "source": [
    "train_pred_nmf = algo_nmf.test(df_trainset_test)\n",
    "print(\"NMF train biased RMSE\", accuracy.rmse(train_pred_nmf))\n",
    "test_pred_nmf = algo_nmf.test(df_testset)\n",
    "print(\"NMF test unbiased RMSE\", accuracy.rmse(test_pred_nmf))"
   ]
  },
  {
   "cell_type": "code",
   "execution_count": 55,
   "metadata": {},
   "outputs": [
    {
     "name": "stdout",
     "output_type": "stream",
     "text": [
      "Evaluating RMSE, MAE of algorithm NMF on 5 split(s).\n",
      "\n",
      "                  Fold 1  Fold 2  Fold 3  Fold 4  Fold 5  Mean    Std     \n",
      "RMSE (testset)    1.1725  1.1729  1.1715  1.1734  1.1682  1.1717  0.0018  \n",
      "MAE (testset)     0.9237  0.9249  0.9243  0.9249  0.9206  0.9237  0.0016  \n",
      "Fit time          4.38    6.95    8.13    6.42    10.26   7.23    1.94    \n",
      "Test time         1.48    1.75    1.68    2.13    1.73    1.75    0.21    \n"
     ]
    },
    {
     "data": {
      "text/plain": [
       "{'fit_time': (4.378977060317993,\n",
       "  6.947607040405273,\n",
       "  8.1286461353302,\n",
       "  6.4235310554504395,\n",
       "  10.257351160049438),\n",
       " 'test_mae': array([0.92372323, 0.92493659, 0.92429811, 0.92490481, 0.92059365]),\n",
       " 'test_rmse': array([1.17247172, 1.17287832, 1.17151232, 1.17341319, 1.16824885]),\n",
       " 'test_time': (1.4765958786010742,\n",
       "  1.7464051246643066,\n",
       "  1.6839540004730225,\n",
       "  2.1256210803985596,\n",
       "  1.7344229221343994)}"
      ]
     },
     "execution_count": 55,
     "metadata": {},
     "output_type": "execute_result"
    }
   ],
   "source": [
    "cross_validate(algo_nmf_2, data_train, measures=['RMSE', 'MAE'], cv=5, verbose=True)"
   ]
  },
  {
   "cell_type": "code",
   "execution_count": 29,
   "metadata": {},
   "outputs": [
    {
     "name": "stdout",
     "output_type": "stream",
     "text": [
      "RMSE: 1.3859\n",
      "RMSE: 1.3855\n",
      "RMSE: 1.3893\n",
      "RMSE: 1.3844\n",
      "RMSE: 1.3880\n"
     ]
    }
   ],
   "source": [
    "from surprise import NMF\n",
    "\n",
    "algo_nmf = NMF()\n",
    "\n",
    "for trainset, testset in loo.split(data_all):\n",
    "    \n",
    "    algo_nmf.fit(trainset)\n",
    "    predictions = algo_nmf.test(testset)\n",
    "\n",
    "    # Compute and print Root Mean Squared Error\n",
    "    accuracy.rmse(predictions, verbose=True)"
   ]
  },
  {
   "cell_type": "markdown",
   "metadata": {
    "collapsed": true
   },
   "source": [
    "#### CoClustering"
   ]
  },
  {
   "cell_type": "code",
   "execution_count": 44,
   "metadata": {},
   "outputs": [
    {
     "name": "stdout",
     "output_type": "stream",
     "text": [
      "RMSE: 0.9696\n",
      "CoClustering train biased RMSE 0.969627115190611\n",
      "RMSE: 1.3367\n",
      "CoClustering test unbiased RMSE 1.3367309507289586\n"
     ]
    }
   ],
   "source": [
    "from surprise import CoClustering\n",
    "\n",
    "algo_clu_2 = CoClustering(n_cltr_u=3, n_cltr_i=2, n_epochs=5)\n",
    "algo_clu_2.fit(df_trainset_train)\n",
    "\n",
    "train_pred_clu_2 = algo_clu_2.test(df_trainset_test)\n",
    "print(\"CoClustering train biased RMSE\", accuracy.rmse(train_pred_clu_2))\n",
    "test_pred_clu_2 = algo_clu_2.test(df_testset)\n",
    "print(\"CoClustering test unbiased RMSE\", accuracy.rmse(test_pred_clu_2))"
   ]
  },
  {
   "cell_type": "code",
   "execution_count": 45,
   "metadata": {},
   "outputs": [
    {
     "name": "stdout",
     "output_type": "stream",
     "text": [
      "RMSE: 0.9823\n",
      "CoClustering train biased RMSE 0.9822603928968215\n",
      "RMSE: 1.3331\n",
      "CoClustering test unbiased RMSE 1.3330527088008828\n"
     ]
    }
   ],
   "source": [
    "from surprise import CoClustering\n",
    "\n",
    "algo_clu_1 = CoClustering(n_cltr_u=2, n_cltr_i=2, n_epochs=5)\n",
    "algo_clu_1.fit(df_trainset_train)\n",
    "\n",
    "train_pred_clu_1 = algo_clu_1.test(df_trainset_test)\n",
    "print(\"CoClustering train biased RMSE\", accuracy.rmse(train_pred_clu_1))\n",
    "test_pred_clu_1 = algo_clu_1.test(df_testset)\n",
    "print(\"CoClustering test unbiased RMSE\", accuracy.rmse(test_pred_clu_1))"
   ]
  },
  {
   "cell_type": "code",
   "execution_count": 41,
   "metadata": {},
   "outputs": [
    {
     "name": "stdout",
     "output_type": "stream",
     "text": [
      "RMSE: 0.9813\n",
      "CoClustering train biased RMSE 0.9813254915818097\n",
      "RMSE: 1.3329\n",
      "CoClustering test unbiased RMSE 1.3328625920689292\n"
     ]
    }
   ],
   "source": [
    "from surprise import CoClustering\n",
    "\n",
    "algo_clu_3 = CoClustering(n_cltr_u=2, n_cltr_i=3, n_epochs=10)\n",
    "algo_clu_3.fit(df_trainset_train)\n",
    "\n",
    "train_pred_clu_3 = algo_clu_3.test(df_trainset_test)\n",
    "print(\"CoClustering train biased RMSE\", accuracy.rmse(train_pred_clu_3))\n",
    "test_pred_clu_3 = algo_clu_3.test(df_testset)\n",
    "print(\"CoClustering test unbiased RMSE\", accuracy.rmse(test_pred_clu_3))"
   ]
  },
  {
   "cell_type": "code",
   "execution_count": 55,
   "metadata": {},
   "outputs": [
    {
     "data": {
      "text/plain": [
       "<surprise.prediction_algorithms.co_clustering.CoClustering at 0x1451aa1d0>"
      ]
     },
     "execution_count": 55,
     "metadata": {},
     "output_type": "execute_result"
    }
   ],
   "source": [
    "from surprise import CoClustering\n",
    "\n",
    "algo_clu = CoClustering()\n",
    "algo_clu.fit(df_trainset_train)"
   ]
  },
  {
   "cell_type": "code",
   "execution_count": 56,
   "metadata": {},
   "outputs": [
    {
     "name": "stdout",
     "output_type": "stream",
     "text": [
      "RMSE: 0.9677\n",
      "CoClustering train biased RMSE 0.9677336945010659\n",
      "RMSE: 1.3402\n",
      "CoClustering test unbiased RMSE 1.3401557418150414\n"
     ]
    }
   ],
   "source": [
    "train_pred_clu = algo_clu.test(df_trainset_test)\n",
    "print(\"CoClustering train biased RMSE\", accuracy.rmse(train_pred_clu))\n",
    "test_pred_clu = algo_clu.test(df_testset)\n",
    "print(\"CoClustering test unbiased RMSE\", accuracy.rmse(test_pred_clu))"
   ]
  },
  {
   "cell_type": "code",
   "execution_count": 47,
   "metadata": {},
   "outputs": [
    {
     "name": "stdout",
     "output_type": "stream",
     "text": [
      "Evaluating RMSE, MAE of algorithm CoClustering on 5 split(s).\n",
      "\n",
      "                  Fold 1  Fold 2  Fold 3  Fold 4  Fold 5  Mean    Std     \n",
      "RMSE (testset)    1.2743  1.2712  1.2698  1.2734  1.2712  1.2720  0.0016  \n",
      "MAE (testset)     0.9498  0.9486  0.9482  0.9507  0.9490  0.9492  0.0009  \n",
      "Fit time          15.92   15.75   21.61   15.73   13.82   16.57   2.64    \n",
      "Test time         3.08    1.01    2.13    0.90    0.89    1.60    0.88    \n"
     ]
    },
    {
     "data": {
      "text/plain": [
       "{'fit_time': (15.916110038757324,\n",
       "  15.751596212387085,\n",
       "  21.609081983566284,\n",
       "  15.73489499092102,\n",
       "  13.816364049911499),\n",
       " 'test_mae': array([0.94981774, 0.9485647 , 0.9481505 , 0.95067871, 0.94895787]),\n",
       " 'test_rmse': array([1.27425011, 1.27124372, 1.26976499, 1.27342349, 1.27121491]),\n",
       " 'test_time': (3.0831899642944336,\n",
       "  1.0070009231567383,\n",
       "  2.1267809867858887,\n",
       "  0.8989031314849854,\n",
       "  0.8862819671630859)}"
      ]
     },
     "execution_count": 47,
     "metadata": {},
     "output_type": "execute_result"
    }
   ],
   "source": [
    "cross_validate(algo_clu_3, data_train, measures=['RMSE', 'MAE'], cv=5, verbose=True)"
   ]
  },
  {
   "cell_type": "code",
   "execution_count": 28,
   "metadata": {},
   "outputs": [
    {
     "name": "stdout",
     "output_type": "stream",
     "text": [
      "RMSE: 1.3439\n",
      "RMSE: 1.3483\n",
      "RMSE: 1.3454\n",
      "RMSE: 1.3469\n",
      "RMSE: 1.3460\n"
     ]
    }
   ],
   "source": [
    "from surprise import CoClustering\n",
    "\n",
    "algo_clu = CoClustering()\n",
    "\n",
    "for trainset, testset in loo.split(data_all):\n",
    "    \n",
    "    algo_clu.fit(trainset)\n",
    "    predictions = algo_clu.test(testset)\n",
    "\n",
    "    # Compute and print Root Mean Squared Error\n",
    "    accuracy.rmse(predictions, verbose=True)"
   ]
  },
  {
   "cell_type": "markdown",
   "metadata": {},
   "source": [
    "#### Ensemble"
   ]
  },
  {
   "cell_type": "code",
   "execution_count": 61,
   "metadata": {
    "collapsed": true
   },
   "outputs": [],
   "source": [
    "test = pd.DataFrame(test_pred)"
   ]
  },
  {
   "cell_type": "code",
   "execution_count": 62,
   "metadata": {
    "collapsed": true
   },
   "outputs": [],
   "source": [
    "test['est_cluster'] = pd.DataFrame(test_pred_clu_3)['est']\n",
    "test['est_svd'] = pd.DataFrame(test_pred_svd_1)['est']\n",
    "test['est_svdpp'] = pd.DataFrame(test_pred_svdpp_1)['est']\n",
    "test['est_nmf'] = pd.DataFrame(test_pred_nmf_2)['est']\n",
    "#test['est_knn'] = pd.DataFrame(test_pred_knn)['est']"
   ]
  },
  {
   "cell_type": "code",
   "execution_count": 63,
   "metadata": {},
   "outputs": [],
   "source": [
    "test['est_mean'] = test[['est','est_cluster','est_svd','est_svdpp','est_nmf']].mean(axis=1)"
   ]
  },
  {
   "cell_type": "code",
   "execution_count": 68,
   "metadata": {
    "collapsed": true
   },
   "outputs": [],
   "source": [
    "test.to_csv(\"test_est.csv\")"
   ]
  },
  {
   "cell_type": "code",
   "execution_count": 64,
   "metadata": {
    "collapsed": true
   },
   "outputs": [],
   "source": [
    "train = pd.DataFrame(train_pred)"
   ]
  },
  {
   "cell_type": "code",
   "execution_count": 67,
   "metadata": {
    "collapsed": true
   },
   "outputs": [],
   "source": [
    "train.to_csv(\"train_est.csv\")"
   ]
  },
  {
   "cell_type": "code",
   "execution_count": 65,
   "metadata": {},
   "outputs": [],
   "source": [
    "train['est_cluster'] = pd.DataFrame(train_pred_clu_3)['est']\n",
    "train['est_svd'] = pd.DataFrame(train_pred_svd_1)['est']\n",
    "train['est_svdpp'] = pd.DataFrame(train_pred_svdpp_1)['est']\n",
    "train['est_nmf'] = pd.DataFrame(train_pred_nmf_2)['est']\n",
    "#train['est_knn'] = pd.DataFrame(train_pred_knn)['est']"
   ]
  },
  {
   "cell_type": "code",
   "execution_count": 66,
   "metadata": {
    "collapsed": true
   },
   "outputs": [],
   "source": [
    "train['est_mean'] = train[['est','est_cluster','est_svd','est_svdpp','est_nmf']].mean(axis=1)"
   ]
  },
  {
   "cell_type": "code",
   "execution_count": 69,
   "metadata": {
    "collapsed": true
   },
   "outputs": [],
   "source": [
    "from sklearn.metrics import mean_squared_error\n",
    "from math import sqrt\n",
    "\n",
    "train_rmse = sqrt(mean_squared_error(train['r_ui'], train['est_mean']))\n",
    "test_rmse = sqrt(mean_squared_error(test['r_ui'], test['est_mean']))"
   ]
  },
  {
   "cell_type": "code",
   "execution_count": 70,
   "metadata": {},
   "outputs": [
    {
     "name": "stdout",
     "output_type": "stream",
     "text": [
      "ensemble train rmse 1.0115591563326694\n",
      "ensemble test rmse 1.2078211477272622\n"
     ]
    }
   ],
   "source": [
    "print(\"ensemble train rmse\", train_rmse)\n",
    "print(\"ensemble test rmse\", test_rmse)"
   ]
  },
  {
   "cell_type": "markdown",
   "metadata": {},
   "source": [
    "### Blending"
   ]
  },
  {
   "cell_type": "code",
   "execution_count": 3,
   "metadata": {},
   "outputs": [],
   "source": [
    "from sklearn.metrics import mean_squared_error\n",
    "from math import sqrt\n",
    "\n",
    "def train_test_model_performance(clf, X_train, y_train, X_test, y_test):\n",
    "    # Fit a model by providing X and y from training set\n",
    "    clf.fit(X_train, y_train)\n",
    "\n",
    "    # Make prediction on the training data\n",
    "    y_train_pred = clf.predict(X_train)\n",
    "\n",
    "    # Make predictions on test data\n",
    "    y_test_pred = clf.predict(X_test)\n",
    "    \n",
    "    train_rmse = sqrt(mean_squared_error(y_train, y_train_pred))\n",
    "    test_rmse = sqrt(mean_squared_error(y_test, y_test_pred))\n",
    "\n",
    "    return train_rmse, test_rmse"
   ]
  },
  {
   "cell_type": "code",
   "execution_count": 83,
   "metadata": {
    "collapsed": true
   },
   "outputs": [],
   "source": [
    "#X_train = train[['est','est_cluster','est_svd','est_svdpp','est_nmf']]\n",
    "#y_train = train['r_ui']\n",
    "from sklearn.model_selection import train_test_split\n",
    "\n",
    "X = test[['est','est_cluster','est_svd','est_svdpp','est_nmf']]\n",
    "y = test['r_ui']\n",
    "\n",
    "X_train, X_test, y_train, y_test = train_test_split(X, y, test_size=0.2, random_state=77)"
   ]
  },
  {
   "cell_type": "code",
   "execution_count": 84,
   "metadata": {},
   "outputs": [
    {
     "name": "stdout",
     "output_type": "stream",
     "text": [
      "train rmse 1.2040537215312836\n",
      "test rmse 1.2046226769340245\n"
     ]
    }
   ],
   "source": [
    "from sklearn.linear_model import LinearRegression\n",
    "\n",
    "reg = LinearRegression()\n",
    "\n",
    "train_rmse, test_rmse = train_test_model_performance(reg, X_train, y_train, X_test, y_test)\n",
    "\n",
    "print('train rmse', train_rmse)\n",
    "print('test rmse', test_rmse)"
   ]
  },
  {
   "cell_type": "code",
   "execution_count": 87,
   "metadata": {},
   "outputs": [
    {
     "name": "stdout",
     "output_type": "stream",
     "text": [
      "train rmse 1.2040540469888974\n",
      "test rmse 1.2046244824045316\n"
     ]
    }
   ],
   "source": [
    "from sklearn.linear_model import Ridge\n",
    "\n",
    "rig = Ridge(alpha=10)\n",
    "\n",
    "train_rmse, test_rmse = train_test_model_performance(rig, X_train, y_train, X_test, y_test)\n",
    "\n",
    "print('train rmse', train_rmse)\n",
    "print('test rmse', test_rmse)"
   ]
  },
  {
   "cell_type": "code",
   "execution_count": 86,
   "metadata": {},
   "outputs": [
    {
     "name": "stdout",
     "output_type": "stream",
     "text": [
      "train rmse 1.1945114072313194\n",
      "test rmse 1.2022756054693744\n"
     ]
    }
   ],
   "source": [
    "from sklearn.ensemble import RandomForestRegressor\n",
    "\n",
    "rf = RandomForestRegressor(n_estimators=20, max_depth=7, min_samples_leaf=10, max_features=3)\n",
    "\n",
    "train_rmse, test_rmse = train_test_model_performance(rf, X_train, y_train, X_test, y_test)\n",
    "\n",
    "print('train rmse', train_rmse)\n",
    "print('test rmse', test_rmse)"
   ]
  },
  {
   "cell_type": "markdown",
   "metadata": {
    "collapsed": true
   },
   "source": [
    "#### LightGBM"
   ]
  },
  {
   "cell_type": "code",
   "execution_count": 41,
   "metadata": {},
   "outputs": [
    {
     "ename": "ImportError",
     "evalue": "No module named 'haversine'",
     "output_type": "error",
     "traceback": [
      "\u001b[0;31m---------------------------------------------------------------------------\u001b[0m",
      "\u001b[0;31mImportError\u001b[0m                               Traceback (most recent call last)",
      "\u001b[0;32m<ipython-input-41-4ef0fd155332>\u001b[0m in \u001b[0;36m<module>\u001b[0;34m()\u001b[0m\n\u001b[1;32m      7\u001b[0m \u001b[0;32mfrom\u001b[0m \u001b[0mtqdm\u001b[0m \u001b[0;32mimport\u001b[0m \u001b[0mtqdm\u001b[0m\u001b[0;34m\u001b[0m\u001b[0m\n\u001b[1;32m      8\u001b[0m \u001b[0;32mfrom\u001b[0m \u001b[0msklearn\u001b[0m\u001b[0;34m.\u001b[0m\u001b[0mmodel_selection\u001b[0m \u001b[0;32mimport\u001b[0m \u001b[0mtrain_test_split\u001b[0m\u001b[0;34m\u001b[0m\u001b[0m\n\u001b[0;32m----> 9\u001b[0;31m \u001b[0;32mimport\u001b[0m \u001b[0mhaversine\u001b[0m\u001b[0;34m\u001b[0m\u001b[0m\n\u001b[0m",
      "\u001b[0;31mImportError\u001b[0m: No module named 'haversine'"
     ]
    }
   ],
   "source": [
    "import datetime\n",
    "import lightgbm as lgb\n",
    "import numpy as np\n",
    "import os\n",
    "import pandas as pd\n",
    "import random\n",
    "from tqdm import tqdm\n",
    "from sklearn.model_selection import train_test_split\n",
    "import haversine"
   ]
  },
  {
   "cell_type": "code",
   "execution_count": null,
   "metadata": {
    "collapsed": true
   },
   "outputs": [],
   "source": []
  }
 ],
 "metadata": {
  "anaconda-cloud": {},
  "kernelspec": {
   "display_name": "Python 3",
   "language": "python",
   "name": "python3"
  },
  "language_info": {
   "codemirror_mode": {
    "name": "ipython",
    "version": 3
   },
   "file_extension": ".py",
   "mimetype": "text/x-python",
   "name": "python",
   "nbconvert_exporter": "python",
   "pygments_lexer": "ipython3",
   "version": "3.5.2"
  }
 },
 "nbformat": 4,
 "nbformat_minor": 1
}
