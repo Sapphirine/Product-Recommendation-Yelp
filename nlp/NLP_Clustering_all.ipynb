{
 "cells": [
  {
   "cell_type": "markdown",
   "metadata": {},
   "source": [
    "# Yelp Data Challenge - Clustering - all"
   ]
  },
  {
   "cell_type": "code",
   "execution_count": 1,
   "metadata": {
    "collapsed": true
   },
   "outputs": [],
   "source": [
    "import pandas as pd\n",
    "import numpy as np\n",
    "import matplotlib.pyplot as plt\n",
    "% matplotlib inline\n",
    "plt.style.use(\"ggplot\")"
   ]
  },
  {
   "cell_type": "code",
   "execution_count": 2,
   "metadata": {},
   "outputs": [],
   "source": [
    "df = pd.read_csv('all_33_date.csv')"
   ]
  },
  {
   "cell_type": "code",
   "execution_count": 3,
   "metadata": {},
   "outputs": [
    {
     "data": {
      "text/html": [
       "<div>\n",
       "<style>\n",
       "    .dataframe thead tr:only-child th {\n",
       "        text-align: right;\n",
       "    }\n",
       "\n",
       "    .dataframe thead th {\n",
       "        text-align: left;\n",
       "    }\n",
       "\n",
       "    .dataframe tbody tr th {\n",
       "        vertical-align: top;\n",
       "    }\n",
       "</style>\n",
       "<table border=\"1\" class=\"dataframe\">\n",
       "  <thead>\n",
       "    <tr style=\"text-align: right;\">\n",
       "      <th></th>\n",
       "      <th>business_id</th>\n",
       "      <th>user_id</th>\n",
       "      <th>name</th>\n",
       "      <th>categories</th>\n",
       "      <th>avg_stars</th>\n",
       "      <th>cool</th>\n",
       "      <th>date</th>\n",
       "      <th>funny</th>\n",
       "      <th>review_id</th>\n",
       "      <th>stars</th>\n",
       "      <th>text</th>\n",
       "      <th>useful</th>\n",
       "    </tr>\n",
       "  </thead>\n",
       "  <tbody>\n",
       "    <tr>\n",
       "      <th>0</th>\n",
       "      <td>LkMtMHVetws5_7QfRjPtlg</td>\n",
       "      <td>Ud72j_rglYmXrL_O8zCdoA</td>\n",
       "      <td>LVH - Las Vegas Hotel &amp; Casino</td>\n",
       "      <td>Restaurants, Casinos, Food, Active Life, Night...</td>\n",
       "      <td>2.5</td>\n",
       "      <td>0.0</td>\n",
       "      <td>2005-01-24 22:21:29</td>\n",
       "      <td>0.0</td>\n",
       "      <td>Dm7Jh7tVp_97sOxEYH4DnA</td>\n",
       "      <td>4.0</td>\n",
       "      <td>This is a little bit off the strip, but the vi...</td>\n",
       "      <td>0.0</td>\n",
       "    </tr>\n",
       "    <tr>\n",
       "      <th>1</th>\n",
       "      <td>ii8sAGBexBOJoYRFafF9XQ</td>\n",
       "      <td>Ud72j_rglYmXrL_O8zCdoA</td>\n",
       "      <td>Paris Las Vegas Hotel &amp; Casino</td>\n",
       "      <td>Restaurants, Hotels, Hotels &amp; Travel, Event Pl...</td>\n",
       "      <td>3.0</td>\n",
       "      <td>0.0</td>\n",
       "      <td>2005-01-24 22:32:33</td>\n",
       "      <td>0.0</td>\n",
       "      <td>VwlljS4oxU4VyP2ODo9gwA</td>\n",
       "      <td>5.0</td>\n",
       "      <td>The buffet in this hotel is excellent! The set...</td>\n",
       "      <td>0.0</td>\n",
       "    </tr>\n",
       "    <tr>\n",
       "      <th>2</th>\n",
       "      <td>ZkGDCVKSdf8m76cnnalL-A</td>\n",
       "      <td>Ud72j_rglYmXrL_O8zCdoA</td>\n",
       "      <td>Le Village Buffet</td>\n",
       "      <td>Sandwiches, French, Breakfast &amp; Brunch, Buffet...</td>\n",
       "      <td>3.0</td>\n",
       "      <td>0.0</td>\n",
       "      <td>2005-01-26 17:50:53</td>\n",
       "      <td>0.0</td>\n",
       "      <td>Z54-ssb69Mx_lG1YtJ6N1g</td>\n",
       "      <td>5.0</td>\n",
       "      <td>Hella food there!! Cocktail shrimps are great!...</td>\n",
       "      <td>0.0</td>\n",
       "    </tr>\n",
       "    <tr>\n",
       "      <th>3</th>\n",
       "      <td>Wxxvi3LZbHNIDwJ-ZimtnA</td>\n",
       "      <td>NkVYcoaThHjOfTTgq6OdHQ</td>\n",
       "      <td>The Venetian Las Vegas</td>\n",
       "      <td>Shopping Centers, Resorts, Arts &amp; Entertainmen...</td>\n",
       "      <td>4.0</td>\n",
       "      <td>1.0</td>\n",
       "      <td>2005-04-22 20:07:39</td>\n",
       "      <td>2.0</td>\n",
       "      <td>0NmMH1xSUdI3pqed9WQQww</td>\n",
       "      <td>5.0</td>\n",
       "      <td>outstanding hotel. we had a really amazing sui...</td>\n",
       "      <td>2.0</td>\n",
       "    </tr>\n",
       "    <tr>\n",
       "      <th>4</th>\n",
       "      <td>6xgcHeLad-VaoTIQewK84A</td>\n",
       "      <td>G5LXEaxhQMF_BVjNHkVr7g</td>\n",
       "      <td>N9NE Steakhouse</td>\n",
       "      <td>Seafood, Steakhouses, American (Traditional), ...</td>\n",
       "      <td>4.0</td>\n",
       "      <td>0.0</td>\n",
       "      <td>2005-04-27 23:38:05</td>\n",
       "      <td>0.0</td>\n",
       "      <td>VgBxQqaDgOHq9YRxtMUm3A</td>\n",
       "      <td>5.0</td>\n",
       "      <td>A very reliable source tells me this is the be...</td>\n",
       "      <td>0.0</td>\n",
       "    </tr>\n",
       "  </tbody>\n",
       "</table>\n",
       "</div>"
      ],
      "text/plain": [
       "              business_id                 user_id  \\\n",
       "0  LkMtMHVetws5_7QfRjPtlg  Ud72j_rglYmXrL_O8zCdoA   \n",
       "1  ii8sAGBexBOJoYRFafF9XQ  Ud72j_rglYmXrL_O8zCdoA   \n",
       "2  ZkGDCVKSdf8m76cnnalL-A  Ud72j_rglYmXrL_O8zCdoA   \n",
       "3  Wxxvi3LZbHNIDwJ-ZimtnA  NkVYcoaThHjOfTTgq6OdHQ   \n",
       "4  6xgcHeLad-VaoTIQewK84A  G5LXEaxhQMF_BVjNHkVr7g   \n",
       "\n",
       "                             name  \\\n",
       "0  LVH - Las Vegas Hotel & Casino   \n",
       "1  Paris Las Vegas Hotel & Casino   \n",
       "2               Le Village Buffet   \n",
       "3          The Venetian Las Vegas   \n",
       "4                 N9NE Steakhouse   \n",
       "\n",
       "                                          categories  avg_stars  cool  \\\n",
       "0  Restaurants, Casinos, Food, Active Life, Night...        2.5   0.0   \n",
       "1  Restaurants, Hotels, Hotels & Travel, Event Pl...        3.0   0.0   \n",
       "2  Sandwiches, French, Breakfast & Brunch, Buffet...        3.0   0.0   \n",
       "3  Shopping Centers, Resorts, Arts & Entertainmen...        4.0   1.0   \n",
       "4  Seafood, Steakhouses, American (Traditional), ...        4.0   0.0   \n",
       "\n",
       "                  date  funny               review_id  stars  \\\n",
       "0  2005-01-24 22:21:29    0.0  Dm7Jh7tVp_97sOxEYH4DnA    4.0   \n",
       "1  2005-01-24 22:32:33    0.0  VwlljS4oxU4VyP2ODo9gwA    5.0   \n",
       "2  2005-01-26 17:50:53    0.0  Z54-ssb69Mx_lG1YtJ6N1g    5.0   \n",
       "3  2005-04-22 20:07:39    2.0  0NmMH1xSUdI3pqed9WQQww    5.0   \n",
       "4  2005-04-27 23:38:05    0.0  VgBxQqaDgOHq9YRxtMUm3A    5.0   \n",
       "\n",
       "                                                text  useful  \n",
       "0  This is a little bit off the strip, but the vi...     0.0  \n",
       "1  The buffet in this hotel is excellent! The set...     0.0  \n",
       "2  Hella food there!! Cocktail shrimps are great!...     0.0  \n",
       "3  outstanding hotel. we had a really amazing sui...     2.0  \n",
       "4  A very reliable source tells me this is the be...     0.0  "
      ]
     },
     "execution_count": 3,
     "metadata": {},
     "output_type": "execute_result"
    }
   ],
   "source": [
    "df.head()"
   ]
  },
  {
   "cell_type": "code",
   "execution_count": 4,
   "metadata": {
    "collapsed": true
   },
   "outputs": [],
   "source": [
    "df = df.dropna(axis=0)"
   ]
  },
  {
   "cell_type": "markdown",
   "metadata": {},
   "source": [
    "## 1. Cluster the review text data for all the restaurants"
   ]
  },
  {
   "cell_type": "code",
   "execution_count": 9,
   "metadata": {
    "collapsed": true
   },
   "outputs": [],
   "source": [
    "# Take the values of the column that contains review text data, save to a variable named \"documents\"\n",
    "df_positive = df[df['stars'] > 3.0]\n",
    "\n",
    "documents = df_positive['text']"
   ]
  },
  {
   "cell_type": "code",
   "execution_count": 13,
   "metadata": {},
   "outputs": [
    {
     "data": {
      "text/html": [
       "<div>\n",
       "<style>\n",
       "    .dataframe thead tr:only-child th {\n",
       "        text-align: right;\n",
       "    }\n",
       "\n",
       "    .dataframe thead th {\n",
       "        text-align: left;\n",
       "    }\n",
       "\n",
       "    .dataframe tbody tr th {\n",
       "        vertical-align: top;\n",
       "    }\n",
       "</style>\n",
       "<table border=\"1\" class=\"dataframe\">\n",
       "  <thead>\n",
       "    <tr style=\"text-align: right;\">\n",
       "      <th></th>\n",
       "      <th>business_id</th>\n",
       "      <th>user_id</th>\n",
       "      <th>name</th>\n",
       "      <th>categories</th>\n",
       "      <th>avg_stars</th>\n",
       "      <th>cool</th>\n",
       "      <th>date</th>\n",
       "      <th>funny</th>\n",
       "      <th>review_id</th>\n",
       "      <th>stars</th>\n",
       "      <th>text</th>\n",
       "      <th>useful</th>\n",
       "    </tr>\n",
       "  </thead>\n",
       "  <tbody>\n",
       "    <tr>\n",
       "      <th>0</th>\n",
       "      <td>LkMtMHVetws5_7QfRjPtlg</td>\n",
       "      <td>Ud72j_rglYmXrL_O8zCdoA</td>\n",
       "      <td>LVH - Las Vegas Hotel &amp; Casino</td>\n",
       "      <td>Restaurants, Casinos, Food, Active Life, Night...</td>\n",
       "      <td>2.5</td>\n",
       "      <td>0.0</td>\n",
       "      <td>2005-01-24 22:21:29</td>\n",
       "      <td>0.0</td>\n",
       "      <td>Dm7Jh7tVp_97sOxEYH4DnA</td>\n",
       "      <td>4.0</td>\n",
       "      <td>This is a little bit off the strip, but the vi...</td>\n",
       "      <td>0.0</td>\n",
       "    </tr>\n",
       "    <tr>\n",
       "      <th>1</th>\n",
       "      <td>ii8sAGBexBOJoYRFafF9XQ</td>\n",
       "      <td>Ud72j_rglYmXrL_O8zCdoA</td>\n",
       "      <td>Paris Las Vegas Hotel &amp; Casino</td>\n",
       "      <td>Restaurants, Hotels, Hotels &amp; Travel, Event Pl...</td>\n",
       "      <td>3.0</td>\n",
       "      <td>0.0</td>\n",
       "      <td>2005-01-24 22:32:33</td>\n",
       "      <td>0.0</td>\n",
       "      <td>VwlljS4oxU4VyP2ODo9gwA</td>\n",
       "      <td>5.0</td>\n",
       "      <td>The buffet in this hotel is excellent! The set...</td>\n",
       "      <td>0.0</td>\n",
       "    </tr>\n",
       "    <tr>\n",
       "      <th>2</th>\n",
       "      <td>ZkGDCVKSdf8m76cnnalL-A</td>\n",
       "      <td>Ud72j_rglYmXrL_O8zCdoA</td>\n",
       "      <td>Le Village Buffet</td>\n",
       "      <td>Sandwiches, French, Breakfast &amp; Brunch, Buffet...</td>\n",
       "      <td>3.0</td>\n",
       "      <td>0.0</td>\n",
       "      <td>2005-01-26 17:50:53</td>\n",
       "      <td>0.0</td>\n",
       "      <td>Z54-ssb69Mx_lG1YtJ6N1g</td>\n",
       "      <td>5.0</td>\n",
       "      <td>Hella food there!! Cocktail shrimps are great!...</td>\n",
       "      <td>0.0</td>\n",
       "    </tr>\n",
       "    <tr>\n",
       "      <th>3</th>\n",
       "      <td>Wxxvi3LZbHNIDwJ-ZimtnA</td>\n",
       "      <td>NkVYcoaThHjOfTTgq6OdHQ</td>\n",
       "      <td>The Venetian Las Vegas</td>\n",
       "      <td>Shopping Centers, Resorts, Arts &amp; Entertainmen...</td>\n",
       "      <td>4.0</td>\n",
       "      <td>1.0</td>\n",
       "      <td>2005-04-22 20:07:39</td>\n",
       "      <td>2.0</td>\n",
       "      <td>0NmMH1xSUdI3pqed9WQQww</td>\n",
       "      <td>5.0</td>\n",
       "      <td>outstanding hotel. we had a really amazing sui...</td>\n",
       "      <td>2.0</td>\n",
       "    </tr>\n",
       "    <tr>\n",
       "      <th>4</th>\n",
       "      <td>6xgcHeLad-VaoTIQewK84A</td>\n",
       "      <td>G5LXEaxhQMF_BVjNHkVr7g</td>\n",
       "      <td>N9NE Steakhouse</td>\n",
       "      <td>Seafood, Steakhouses, American (Traditional), ...</td>\n",
       "      <td>4.0</td>\n",
       "      <td>0.0</td>\n",
       "      <td>2005-04-27 23:38:05</td>\n",
       "      <td>0.0</td>\n",
       "      <td>VgBxQqaDgOHq9YRxtMUm3A</td>\n",
       "      <td>5.0</td>\n",
       "      <td>A very reliable source tells me this is the be...</td>\n",
       "      <td>0.0</td>\n",
       "    </tr>\n",
       "  </tbody>\n",
       "</table>\n",
       "</div>"
      ],
      "text/plain": [
       "              business_id                 user_id  \\\n",
       "0  LkMtMHVetws5_7QfRjPtlg  Ud72j_rglYmXrL_O8zCdoA   \n",
       "1  ii8sAGBexBOJoYRFafF9XQ  Ud72j_rglYmXrL_O8zCdoA   \n",
       "2  ZkGDCVKSdf8m76cnnalL-A  Ud72j_rglYmXrL_O8zCdoA   \n",
       "3  Wxxvi3LZbHNIDwJ-ZimtnA  NkVYcoaThHjOfTTgq6OdHQ   \n",
       "4  6xgcHeLad-VaoTIQewK84A  G5LXEaxhQMF_BVjNHkVr7g   \n",
       "\n",
       "                             name  \\\n",
       "0  LVH - Las Vegas Hotel & Casino   \n",
       "1  Paris Las Vegas Hotel & Casino   \n",
       "2               Le Village Buffet   \n",
       "3          The Venetian Las Vegas   \n",
       "4                 N9NE Steakhouse   \n",
       "\n",
       "                                          categories  avg_stars  cool  \\\n",
       "0  Restaurants, Casinos, Food, Active Life, Night...        2.5   0.0   \n",
       "1  Restaurants, Hotels, Hotels & Travel, Event Pl...        3.0   0.0   \n",
       "2  Sandwiches, French, Breakfast & Brunch, Buffet...        3.0   0.0   \n",
       "3  Shopping Centers, Resorts, Arts & Entertainmen...        4.0   1.0   \n",
       "4  Seafood, Steakhouses, American (Traditional), ...        4.0   0.0   \n",
       "\n",
       "                  date  funny               review_id  stars  \\\n",
       "0  2005-01-24 22:21:29    0.0  Dm7Jh7tVp_97sOxEYH4DnA    4.0   \n",
       "1  2005-01-24 22:32:33    0.0  VwlljS4oxU4VyP2ODo9gwA    5.0   \n",
       "2  2005-01-26 17:50:53    0.0  Z54-ssb69Mx_lG1YtJ6N1g    5.0   \n",
       "3  2005-04-22 20:07:39    2.0  0NmMH1xSUdI3pqed9WQQww    5.0   \n",
       "4  2005-04-27 23:38:05    0.0  VgBxQqaDgOHq9YRxtMUm3A    5.0   \n",
       "\n",
       "                                                text  useful  \n",
       "0  This is a little bit off the strip, but the vi...     0.0  \n",
       "1  The buffet in this hotel is excellent! The set...     0.0  \n",
       "2  Hella food there!! Cocktail shrimps are great!...     0.0  \n",
       "3  outstanding hotel. we had a really amazing sui...     2.0  \n",
       "4  A very reliable source tells me this is the be...     0.0  "
      ]
     },
     "execution_count": 13,
     "metadata": {},
     "output_type": "execute_result"
    }
   ],
   "source": [
    "df_positive.head()"
   ]
  },
  {
   "cell_type": "code",
   "execution_count": 14,
   "metadata": {},
   "outputs": [],
   "source": [
    "# Make a column and take the values, save to a variable named \"target\"\n",
    "target = df_positive['stars']"
   ]
  },
  {
   "cell_type": "code",
   "execution_count": 15,
   "metadata": {},
   "outputs": [
    {
     "data": {
      "text/plain": [
       "count    559211.000000\n",
       "mean          4.576752\n",
       "std           0.494074\n",
       "min           4.000000\n",
       "25%           4.000000\n",
       "50%           5.000000\n",
       "75%           5.000000\n",
       "max           5.000000\n",
       "Name: stars, dtype: float64"
      ]
     },
     "execution_count": 15,
     "metadata": {},
     "output_type": "execute_result"
    }
   ],
   "source": [
    "target.describe()"
   ]
  },
  {
   "cell_type": "code",
   "execution_count": 16,
   "metadata": {},
   "outputs": [],
   "source": [
    "# Create training dataset and test dataset\n",
    "from sklearn.model_selection import train_test_split"
   ]
  },
  {
   "cell_type": "code",
   "execution_count": 17,
   "metadata": {
    "collapsed": true
   },
   "outputs": [],
   "source": [
    "# documents is your X, target is your y\n",
    "# split the data to training set and test set for future classification problem\n",
    "documents_train, documents_test, target_train, target_test = train_test_split(documents, target, test_size=0.2, random_state=0)"
   ]
  },
  {
   "cell_type": "markdown",
   "metadata": {},
   "source": [
    "### Get NLP representation of the documents\n",
    "\n",
    "#### Fit TfidfVectorizer with training data only, then tranform all the data to tf-idf"
   ]
  },
  {
   "cell_type": "code",
   "execution_count": 19,
   "metadata": {
    "collapsed": true
   },
   "outputs": [],
   "source": [
    "from nltk.corpus import stopwords\n",
    "from sklearn.feature_extraction.text import TfidfVectorizer"
   ]
  },
  {
   "cell_type": "code",
   "execution_count": 20,
   "metadata": {},
   "outputs": [],
   "source": [
    "# Create TfidfVectorizer, and name it vectorizer, choose a reasonable max_features\n",
    "vectorizer = TfidfVectorizer(stop_words=stopwords.words('english'), max_features=1000)"
   ]
  },
  {
   "cell_type": "code",
   "execution_count": 21,
   "metadata": {},
   "outputs": [],
   "source": [
    "# Train the model with training data\n",
    "vectors = vectorizer.fit_transform(documents_train).todense()"
   ]
  },
  {
   "cell_type": "code",
   "execution_count": 22,
   "metadata": {
    "collapsed": true
   },
   "outputs": [],
   "source": [
    "# Get the vocab of tfidf\n",
    "vocab = vectorizer.get_feature_names()"
   ]
  },
  {
   "cell_type": "code",
   "execution_count": 23,
   "metadata": {
    "collapsed": true
   },
   "outputs": [],
   "source": [
    "# Use the trained model to transform all the reviews\n",
    "vectors_all = vectorizer.transform(documents)"
   ]
  },
  {
   "cell_type": "markdown",
   "metadata": {},
   "source": [
    "### Cluster reviews with KMeans"
   ]
  },
  {
   "cell_type": "markdown",
   "metadata": {},
   "source": [
    "#### Fit k-means clustering with the training vectors and apply it on all the data"
   ]
  },
  {
   "cell_type": "code",
   "execution_count": 27,
   "metadata": {},
   "outputs": [
    {
     "data": {
      "text/plain": [
       "KMeans(algorithm='auto', copy_x=True, init='k-means++', max_iter=300,\n",
       "    n_clusters=20, n_init=10, n_jobs=None, precompute_distances='auto',\n",
       "    random_state=None, tol=0.0001, verbose=0)"
      ]
     },
     "execution_count": 27,
     "metadata": {},
     "output_type": "execute_result"
    }
   ],
   "source": [
    "from sklearn.cluster import KMeans\n",
    "\n",
    "kmeans = KMeans(n_clusters=20)\n",
    "\n",
    "kmeans.fit(vectors)"
   ]
  },
  {
   "cell_type": "code",
   "execution_count": 28,
   "metadata": {},
   "outputs": [
    {
     "data": {
      "text/plain": [
       "array([2, 1, 5, ..., 2, 8, 5], dtype=int32)"
      ]
     },
     "execution_count": 28,
     "metadata": {},
     "output_type": "execute_result"
    }
   ],
   "source": [
    "kmeans_pred = kmeans.predict(vectors_all)\n",
    "kmeans_pred"
   ]
  },
  {
   "cell_type": "markdown",
   "metadata": {},
   "source": [
    "#### Inspect the centroids"
   ]
  },
  {
   "cell_type": "code",
   "execution_count": 29,
   "metadata": {},
   "outputs": [
    {
     "name": "stdout",
     "output_type": "stream",
     "text": [
      "cluster centers:\n",
      "[[0.00142329 0.007551   0.00148276 ... 0.00047832 0.00321597 0.00767726]\n",
      " [0.00308988 0.00860644 0.00464374 ... 0.00234819 0.00050289 0.00109737]\n",
      " [0.00144265 0.00577244 0.00142172 ... 0.00116895 0.00331638 0.00681028]\n",
      " ...\n",
      " [0.00077451 0.00529494 0.0020158  ... 0.00126857 0.00345669 0.00629814]\n",
      " [0.00172746 0.00668523 0.00254762 ... 0.00367596 0.00275695 0.00414365]\n",
      " [0.00307907 0.01088014 0.00323054 ... 0.00188412 0.00483861 0.0076519 ]]\n"
     ]
    }
   ],
   "source": [
    "print(\"cluster centers:\")\n",
    "print(kmeans.cluster_centers_)"
   ]
  },
  {
   "cell_type": "markdown",
   "metadata": {},
   "source": [
    "#### Find the top 10 features for each cluster"
   ]
  },
  {
   "cell_type": "code",
   "execution_count": 30,
   "metadata": {},
   "outputs": [
    {
     "name": "stdout",
     "output_type": "stream",
     "text": [
      "top features for each cluster:\n",
      "0: ramen, pho, broth, noodles, place, good, pork, bowl, service, like\n",
      "1: room, hotel, rooms, stay, pool, casino, strip, stayed, nice, vegas\n",
      "2: good, food, really, place, service, pretty, nice, like, back, great\n",
      "3: place, food, like, delicious, get, back, go, one, time, best\n",
      "4: steak, good, great, service, food, cooked, best, place, ordered, delicious\n",
      "5: great, food, service, place, back, atmosphere, friendly, good, staff, awesome\n",
      "6: thai, pad, food, curry, good, place, rice, spicy, chicken, restaurant\n",
      "7: burger, fries, burgers, good, cheese, shake, place, great, food, like\n",
      "8: always, food, great, place, love, service, good, get, friendly, go\n",
      "9: love, place, food, great, good, service, go, delicious, friendly, staff\n",
      "10: breakfast, eggs, good, place, great, pancakes, food, coffee, service, toast\n",
      "11: sushi, rolls, roll, ayce, place, fish, great, good, fresh, eat\n",
      "12: hour, happy, great, good, food, bar, drinks, place, menu, service\n",
      "13: chicken, fried, good, rice, food, place, sauce, delicious, great, ordered\n",
      "14: buffet, buffets, food, crab, good, legs, vegas, selection, best, station\n",
      "15: pizza, crust, good, place, great, slice, cheese, best, thin, toppings\n",
      "16: tacos, taco, asada, carne, good, mexican, salsa, place, food, great\n",
      "17: amazing, food, service, place, great, back, definitely, best, delicious, staff\n",
      "18: vegas, las, best, food, place, one, great, restaurant, service, good\n",
      "19: us, ordered, food, good, like, one, time, came, restaurant, would\n"
     ]
    }
   ],
   "source": [
    "top_centroids = kmeans.cluster_centers_.argsort()[:,-1:-11:-1]\n",
    "print(\"top features for each cluster:\")\n",
    "for num, centroid in enumerate(top_centroids):\n",
    "    print(\"%d: %s\" % (num, \", \".join(vocab[i] for i in centroid)))"
   ]
  },
  {
   "cell_type": "markdown",
   "metadata": {},
   "source": [
    "#### Try different k"
   ]
  },
  {
   "cell_type": "code",
   "execution_count": 44,
   "metadata": {},
   "outputs": [
    {
     "data": {
      "text/plain": [
       "KMeans(algorithm='auto', copy_x=True, init='k-means++', max_iter=300,\n",
       "    n_clusters=5, n_init=10, n_jobs=None, precompute_distances='auto',\n",
       "    random_state=None, tol=0.0001, verbose=0)"
      ]
     },
     "execution_count": 44,
     "metadata": {},
     "output_type": "execute_result"
    }
   ],
   "source": [
    "#kmeans_5 = KMeans(n_clusters=5)\n",
    "\n",
    "#kmeans_5.fit(vectors)"
   ]
  },
  {
   "cell_type": "code",
   "execution_count": 45,
   "metadata": {},
   "outputs": [
    {
     "name": "stdout",
     "output_type": "stream",
     "text": [
      "top features for each cluster:\n",
      "0: pizza, crust, good, great, place, best, ordered, cheese, vegas, get\n",
      "1: great, food, service, place, good, back, amazing, friendly, awesome, staff\n",
      "2: sushi, place, roll, great, ayce, rolls, fresh, service, good, fish\n",
      "3: good, food, chicken, ordered, back, really, delicious, got, time, place\n",
      "4: place, love, best, always, vegas, food, amazing, go, good, one\n"
     ]
    }
   ],
   "source": [
    "#top_centroids_5 = kmeans_5.cluster_centers_.argsort()[:,-1:-11:-1]\n",
    "#print(\"top features for each cluster:\")\n",
    "#for num, centroid in enumerate(top_centroids_5):\n",
    "#    print(\"%d: %s\" % (num, \", \".join(vocab[i] for i in centroid)))"
   ]
  },
  {
   "cell_type": "markdown",
   "metadata": {},
   "source": [
    "#### Print out the rating and review of a random sample of the reviews assigned to each cluster to get a sense of the cluster."
   ]
  },
  {
   "cell_type": "code",
   "execution_count": 31,
   "metadata": {
    "collapsed": true
   },
   "outputs": [],
   "source": [
    "assigned_cluster = kmeans.transform(vectors).argmin(axis=1)"
   ]
  },
  {
   "cell_type": "code",
   "execution_count": 32,
   "metadata": {},
   "outputs": [
    {
     "name": "stdout",
     "output_type": "stream",
     "text": [
      "cluster 0:\n",
      "    Omg I love this place! Best sushi bar in town- hands down! And buy two get one free on speciality rolls? My husband and I literally pay $25 and we're stuffed! It's amazing. \n",
      "\n",
      "My favorite is the coconut shrimp roll- so damn good! \n",
      "\n",
      "He's obsessed with the Hawaiian. \n",
      "\n",
      "The 3rd roll is always something we haven't tried yet and we have never been disappointed. \n",
      "\n",
      "Staff is always so accommodating and so welcoming. If you live on this side of town...you should definitely try it. You'll be pleasantly surprised. You'll see.\n",
      "cluster 1:\n",
      "    Food was ok. Service was ok. Everything was just ok. Not worth the price. That was not ok. Too many other places in LV.\n",
      "cluster 2:\n",
      "    I'm a local and I went to zingers thinking that it would be a quick, yummy place to get lunch. Oh man, was I wrong. None of the servers would talk to me, even though it wasn't that busy. Then, one of the ladies took my order and told me it would take 5 minutes. I had to use the restroom, so I went there and returned 10 minutes later. My food still wasn't ready. Then she was extremely rude telling me that my food wouldn't be ready for a while, in a super condescending tone. I asked her if I could at least get my drink that she failed to give me at the time of my transaction and she went off and did other things, then put the drink on the counter, not even bothering to get my attention. Long story short, rude service and TERRIBLE, OVERPRICED FOOD (McDonalds has better burgers, for HALF the price. AND their \"world famous chili fries\" were atrocious). I will NEVER eat here again. TOURISTS: there are WAYYYYY better places to get delicious food for the same price! Don't waste your time on this dump!\n",
      "cluster 3:\n",
      "    2 words: hemp milk. Don't gotta say much more. Coming here is a \"treat\" for myself because I live all the way by the M. It's ALWAYS worth it. Nothing beats your biggest iced dirty chai with hemp milk. Not all the Jameson in the world. Thanks MadHouse !!!\n",
      "cluster 4:\n",
      "    Everything was awesome!  The greek salad was so fresh and had loads of feta :)  My tuna melt was the best I've ever had and I loved the choices of sides instead of just the usual fries.  It was crowded but service was awesome :)  We will be back!\n",
      "cluster 5:\n",
      "    My husband and I were driving by Tivoli when we saw a sign for this place, so I pulled it up on Yelp and realized it was their grand opening. Looked at the menu and my husband did a U turn so we could check it out. We were seated right away with out a reservation, which was great. We got there before the dinner rush. The place is very welcoming, and the staff was very friendly. I loved the desk with the collection of vintage salt and pepper shakers. Would of been cool to see something like that on the tables instead of plain plastic ones. I was really excited to try the Chicken and dumpling soup, but the waitress informed me they were out, bummer. Running out of an item on your first night open? Interesting. Luckily there were plenty of yummy sounding items to try. We ordered the baked BBQ 1/2 chicken, Maple n Bacon Baked Beans, Homemade cornbread, and the baked cheddar mac n cheese. While we were waiting, the lights dimmed down, and started flickering, annoyingly. The staff seemed to notice, but nothing was done, or could be done to remedy this. They have their biscuits to order on the menu, but FYI they bring you a basket of them before you get your food. We found a hair on a biscuit, which happens, but not off to a great start so far. We weren't a huge fan of these. Kind of hard, and not very warm at all.  I did notice they looked like they were in a heart shape, which if so, I loved! Our corn bread came out way before the rest of our food, and it was in a skillet, but completely cold. Would of preferred it warm and served with the rest of our meal. The chicken was so delicious! Juicy and soft, and just so good. It would of been nice to have a small dish of BBQ sauce to dip it in, but this was by far the best thing we ordered. The baked beans had slices of sausage in it, which was a welcoming surprise. I give the beans a thumbs up along with the chicken. The mac n cheese was way too rich for both of us, but that is just our taste. Some people might really be into that. All the sides were served in miniature stoneware, which were adorable. In the end we weren't super impressed with the food, but we will be back to try the soup and banana pudding for sure!\n",
      "cluster 6:\n",
      "    Very. Good.  Old school service.  Waiters were excellent.  Highly recommend it veal and fish dishes were excellent.  Had gelato for dessert. No great.  Little icy.\n",
      "cluster 7:\n",
      "    LOVE AT FIRST BITE!\n",
      "\n",
      "As a Las Vegas local I am always on the lookout for new restaurants and lounges to try that are off the strip. When I was first introduced to DW Bistro it was love at first bite! The restaurant has both inside and outside dining options. This is a big deal to me because I am someone who likes to sit outside and enjoy the nice Las Vegas weather when the extreme heat decides to give us a break. All of the staff is super friendly and great at remembering returning faces! Sometimes you can even catch the owners Dalton and Bryce in their visiting with customers!\n",
      "\n",
      "DW Bistro has one of the best Sunday brunches in Las Vegas. It is so good the line often goes out the door! BUT have no fear, it's always a short wait and totally worth the mouth watering tease as you watch plates of Jamaican and New Mexican style food pass you by! Every meal I have had at DW Bistro has been an explosion of flavors and spices complimenting some of my favorite dishes. When it comes to breakfast I am a huge eggs benedict fan. When I saw that DW Bistro had eggs benedict on their menu I was very excited to try this. I asked if they could add some of their New Mexican style slow cooked pork that is simmered in New Mexican red chili on top of it and they gladly had no problem. It ended up being the best decision I have ever made. The mix of the red chili, tender pulled pork and hollandaise sauce made for one of the best breakfasts I have ever had. REMEMBER - The eggs benedict is on their menu but you have to ask for the New Mexican style slow cooked pork to be added.\n",
      "\n",
      "Lunch is always something I have a hard time with as I am never really too hungry at lunch and seem to never be able to make up my mind on what I want. I decided to try their chicken flautas since they sounded so good and seemed like a small enough dish that I wouldn't leave feeling overly stuffed. When they brought me the dish I was very impressed! First, you could tell they put a lot of thought into the presentation which of course made for an awesome food porn Kodak moment! Second, the taste was out of this world. They drizzle fresh lime infused sour cream on top which taste delicious and add avocado tomatillo on top. I was very impressed.\n",
      "\n",
      "When it comes to dinner DW Bistro will never let you down. From the Chicken with roasted garlic & cream sauce over bowtie pasta to the New Mexican-style slow-cooked pork, each meal is sure to pack flavor that will blow you out of this world. I went with the New Mexican-style slow-cooked pork simmered in NM red chile. The bowl is served with over-easy eggs and rice with a fresh flour tortilla. The meal is a little large and I never finish it. There is so much flavor in the pork and the red chili that I didn't want to stop eating it.\n",
      "\n",
      "If you are looking for a highly recommended local Las Vegas restaurant, with great prices, amazing service and food that is guaranteed to give you a whole new perspective on Jamaican and New Mexican style cuisine then DW Bistro is the place to go!\n",
      "\n",
      "See my full review here: http://corkedandporked.com/2015/03/19/dw-bistro-love-at-first-bite/\n",
      "cluster 8:\n",
      "    Look!  Up in the sky!  It's a bird!?  It's a plane!? It's...Super Taco?\n",
      "\n",
      "Service was good so I rounded up from 2.5 stars.  Also, Yelp doesn't allow half stars...\n",
      "\n",
      "I had the huevos mexicana. The best part of the meal was not the huevos :-(\n",
      "\n",
      "Basically another average Mexican hole-in-the-wall.\n",
      "cluster 9:\n",
      "    Good food and service here.  Guacamole was fresh and portions are adequate.  Sever was attentive.  More of a destination spot for dining with family.  Fajitas were excellent!!\n",
      "cluster 10:\n",
      "    My absolute favorite pub at this point.  It did take a long time for the food to come out.  They did however notice and get me a free drink and I didn't even say anything.  +1 point for being aware and preemptive.  They do give some bread service with assorted pretzels and butter and horseradish cheese that rivals the Culinary Dropouts pretzel appetizers.  And it's just the bread!  The food was worth the wait.  The potato puree was so rich and delicious.  The chicken was perfect.  The drink menu is on an iPad and the four that I tried were all spot on.  Enjoy!\n",
      "cluster 11:\n",
      "    Love love love their Jambalaya! Mildly spiced, not too salty, and comes with a lot of shrimp and sausages. One order costs $20 but it is well worth the price.\n",
      "\n",
      "I've had this place bookmarked for over a year and I'm so glad I finally got to try it. Definitely going back to try other things.\n",
      "cluster 12:\n",
      "    Great experience-Great Desserts with an option of wine....even a cheese plate and foie gras tourchon...the staff at RAKU could learn a thing or two about geniune, friendly service from those who work at Sweets Raku and stop trying to hustle the round eyes with their ME LOVE YOU LONG TIME wait staff...think I am kidding....when you hit the door at RAKU watch the wait staff genuflex in their supercilious manner\n",
      "cluster 13:\n",
      "    OK fish and pasta at really high prices.  I started with the langoustines which tasted like a charcoal grill and were a bit chewy.  Then I had the warm cheese custard with mushrooms which I found odd and not very flavorful.  I tasted a pasta with the $90 extra truffles on them was disappointing. I've had good truffles, and these lacked flavor entirely.  The fish we had was good, cooked well, and served with a nice olive tomato sauce.  Our service was poor; the waiter brushed me off when I ordered a second drink, saying he'd be back, and he never returned, so we had to flag him down a second time.  We skipped dessert because the meal took so long.  Overall, I was really disappointed with the food.\n",
      "cluster 14:\n",
      "    Party of five, six rolls, veggie tempura, miso soup for all, and three big Sapparo beers ended up being $20 per person. Not bad! We sat in a long booth and it wasn't crowded at all on a Saturday night. Friendly service. I believe they are Korean owned.\n",
      "\n",
      "I recommend what we had:\n",
      "Mexican roll (SO SPICY!)\n",
      "Hawaiian roll \n",
      "Popcorn roll (LOBSTER)\n",
      "Crunch roll\n",
      "Philly roll\n",
      "\n",
      "This place was recommended by a Vegas native who is well-traveled so I trusted he knew what good sushi rolls were like. We spent about 20 minutes trying to look for this place. It's behind all the buildings, in a building in the middle of the lot. Plenty of parking.\n",
      "cluster 15:\n",
      "    When we first walked in, we noticed that the restaurant wasn't busy. Still, we had to wait 5-10 minutes to be seated, then another 10 minutes to give our drink orders. The sizzling bistek was one of the things we ordered.  The beef was literally immersed in so much oil, making the dish completely inedible. The waitress was so aloof and didn't even notice that we were dissatisfied when we told her not to box up this dish.  What's worse is that they declined to remove this item from our bill, considering this our fifth or sixth visit to this place.\n",
      "\n",
      "Do yourself a favor and don't waste your time and money here. There are many other options for Filipino cuisine in LV.\n",
      "cluster 16:\n",
      "    I cannot get enough of this place. The short rib hash at brunch is amazing. I crave it all the time. \n",
      "\n",
      "When I go here for dinner, my go to is usually the rib cap that they sometimes run out of because it's that good. I usually order the mashed potatoes and asparagus with fried egg for side dishes. Tonight I tried the hangar steak and brussel sprouts with pistachio and lemon. Nothing here disappoints. Xavier the manager also brought the tomato and watermelon salad as a palate cleanser between the portobello fries appetizer and the main course and it was quite tasty. We also sampled a new Prosecco that they added to the menu that I will definitely order the next time I dine. Israel the server provided excellent service and is extremely knowledgeable about the menu. \n",
      "\n",
      "Kudos to Echo and Rig for the superb service and amazing food. This is by far my favorite restaurant in Las Vegas.\n",
      "cluster 17:\n",
      "    The Skinny: skillful executed dishes but really odd flavour combinations that do not work (3), service: was good and efficient for a place of this caliber (3.5) value: I think tapas might be a synonym for charging you more for a smaller dish of food - we ordered 6 dishes and 1 dessert for $75 prior to tax and tip(3) \n",
      "\n",
      "I really wanted to try Jaleo ever since I learned that Jose Andres started the whole tapas craze here in the US (although I first learned about tapas from watching the Frugal Gourmet when I was a kid - that's before all the sketchy allegations!). Plus being a Top Chef fan, I am always keen to try some of the guest judges cuisine.\n",
      "\n",
      "First of all, I want to preface this. I do not doubt that Mr. Andres has incredible skill. I think that some of the things we had took a lot of technique to perfect (ie, Iberico ham croquettes and Cod empanadas). But technical skill does not make a great meal because in the end (for me)...it is all about flavour.\n",
      "\n",
      "So we started off with some roasted peppers, eggplant and sweet onion which was not what we were expecting. If you check out the pics - the eggplant looked like tapeworms swimming in olive oil. Visual appeal rates a zero. Luckily, it tasted okay albeit pedestrian given the caliber of this establishment.\n",
      "\n",
      "I think the thing that makes this place shine is their ability to take make fried food with a molten center. Both the Iberico ham croquettes and cod empanadas were surprisingly lovely and crisp on the outside without succuming to the liquid in the middle. There were problems with the these dishes though. The flavour of the Iberico ham was lost in the enveloping bechamel sauce. The cod empanadas were good but were overly fishy for my hubby's tastes (kind of like a strong mackeral - I'll admit, I did enjoy this but would likely not order this again).\n",
      "\n",
      "Iberico ham (oh, that creamy nutty luscious goodness that literally melts in your mouth) was very small portion considering the cost. Doesn't come with bread either which made it difficult to truly enjoy due to the inherent salinity of the meat. It definitely needed something else to justify the cost of this dish.\n",
      "\n",
      "The foie gras cannelloni was a huge disappointment mostly because of the preparation of the foie gras filling. The texture was grainy while the flavour of goose liver was completely absent from the dish. As a matter of fact, the filling had an unpleasant sourness to it that even overwhelmed the lovely unctiousness of the liberally combined shaved truffle and truffle oil. As they say, no bueno.\n",
      "\n",
      "By far the best dish of the night - the veal cheek with morel mushrooms. Utterly delicious, the judicious scent of cinnamon gave a mild hint of spice in this earthy dish. The textures of the meat was marvelous - like the best succulent short rib you've ever had. \n",
      "\n",
      "Hazelnut cake was surprising lacking in hazelnuts other than as a candied garnish. For a Nutella lover like me, it's like a bait and switch and I was oh-so-sad. A chocolate mousse over sponge was okay but nothing you couldn't get elsewhere for significantly less. Toying with my affections that way is a cruel joke, my friends. A cruel joke indeed.\n",
      "\n",
      "Like all tapas places, the portion sizes were small and definitely overpriced. I would probably go back again for the veal cheek alone (yes, it is that good and is also the sole reason this place rates a 3) but would likely order other things off the menu.\n",
      "cluster 18:\n",
      "    Chef Gordon Ramsay may be becoming more of a household name as of the last few years, but I felt this place had the substance to back up its style.\n",
      "\n",
      "This restaurant primarily focuses on my favorite food: burgers. Hopefully with a name like \"Gordon Ramsay's BurGR\" one would not be mislead or confused. And for obvious observation number 2 in this review: yes, the GR in \"BurGR\" stands for Gordon Ramsay. This joint is located inside the Planet Hollywood hotel and casino. You'll see a line of people waiting to be seated but temporarily ignore that and talk to the employees situated at the check in podium. Depending upon things, you may or may not have to wait in that line. We checked in w/ a party of three and were told it was about an hour wait. Well, we were in Vegas in a hotel/casino so there was plenty to do while we waited. \n",
      "\n",
      "After about an hour we were notified our table was ready and were lead inside and promptly seated. The first thing that caught my attention at the table were their nifty looking menus. When it came time to order I knew I had to try one of their shakes I had heard so much about. I decided upon the Hell's Kitchen Burger and Shake #4 which was an Oreo shake w/ creme brûlée pudding and topped w/ an Oreo cookie. Currently, this was and still is the best shake I have ever had. I think a lot had to do w/ the addition of that creme brûlée pudding, but omg that was delicious! I wanted to order another! However, they are pricey for a shake; not only was it the best, it was also the most expensive shake I have ever had.\n",
      "\n",
      "The burger came and it was juicy and satisfying. None of the ingredients were too overpowering and it was not too hot or spicy given the name \"Hell's Kitchen\" (and yes, I'm aware that's the name of one of GR's restaurants/reality tv shows). The burger itself was cooked properly but was a tad smaller than what I was hoping for, but that's ok. Oh yes, we also ordered the Truffle Parmesan fries to share because I had also heard wonderful things about them and they did not disappoint either. Great flavor and the fries were more crispy rather than soggy which I liked.\n",
      "\n",
      "Our server asked if we wanted dessert (which any server will do) to which I was going to decline until he mentioned their Sticky Toffee Pudding Push Up Pops. I was so intrigued and wanted to live it up during this particular visit that I went all YOLO and ordered the mofos. They come in a set of two and look effing adorable. It was the same exact concept of those push up pops you might remember having when you were a kid, but these had an air of elegance about them. I can't say I'm a fan of sticky toffee pudding, but I will admit that these were not bad at all. I still preferred that shake though.\n",
      "\n",
      "I had a blast during my visit here and can't wait for a return visit some day. I am interested in trying another one of their burgers and perhaps a different shake. Maybe I'll just get two next time.... Not because of the name but because of their offerings and my experience, I am a fan of Gordon Ramsay's BurGR.\n",
      "cluster 19:\n",
      "    This place is pretty nice for bar food and a draft, and they always seem to have the right games on with HDTVs.  Their portions are ample and fairly priced.  The $11 top progression payout I saw on a slot made me laugh, though.\n"
     ]
    }
   ],
   "source": [
    "for i in range(kmeans.n_clusters):\n",
    "    cluster = np.arange(0, vectors.shape[0])[assigned_cluster==i]\n",
    "    sample_df = np.random.choice(cluster, 1, replace=False)\n",
    "    print(\"cluster %d:\" % i)\n",
    "    for reviews in sample_df:\n",
    "        print(\"    %s\" % df.loc[reviews]['text'])"
   ]
  },
  {
   "cell_type": "markdown",
   "metadata": {},
   "source": [
    "## 3. Cluster restaurants from category information"
   ]
  },
  {
   "cell_type": "code",
   "execution_count": 45,
   "metadata": {},
   "outputs": [],
   "source": [
    "# get column of category\n",
    "category = df['categories']"
   ]
  },
  {
   "cell_type": "code",
   "execution_count": 46,
   "metadata": {},
   "outputs": [
    {
     "name": "stderr",
     "output_type": "stream",
     "text": [
      "/Users/Prayerest_/anaconda/envs/python35/lib/python3.5/site-packages/sklearn/model_selection/_split.py:2069: FutureWarning: From version 0.21, test_size will always complement train_size unless both are specified.\n",
      "  FutureWarning)\n"
     ]
    }
   ],
   "source": [
    "# split the data into train data and test data\n",
    "cate_train, cate_test = train_test_split(category, train_size=0.8, random_state=0)"
   ]
  },
  {
   "cell_type": "code",
   "execution_count": 47,
   "metadata": {},
   "outputs": [],
   "source": [
    "# vectorize the categories\n",
    "from nltk.corpus import stopwords\n",
    "from sklearn.feature_extraction.text import TfidfVectorizer\n",
    "\n",
    "vectorizer = TfidfVectorizer(stop_words=stopwords.words('english'), max_features=500)\n",
    "vectors_ec1 = vectorizer.fit_transform(cate_train).todense()\n",
    "vocab_ec1 = vectorizer.get_feature_names()"
   ]
  },
  {
   "cell_type": "code",
   "execution_count": 48,
   "metadata": {},
   "outputs": [],
   "source": [
    "# use the trained model to transform all the data\n",
    "vectors_all_ec1 = vectorizer.transform(category)"
   ]
  },
  {
   "cell_type": "code",
   "execution_count": 49,
   "metadata": {},
   "outputs": [],
   "source": [
    "# kmeans clustering\n",
    "from sklearn.cluster import KMeans\n",
    "\n",
    "kmeans_ec1 = KMeans()\n",
    "kmeans_ec1.fit(vectors_ec1)\n",
    "\n",
    "kmeans_pred = kmeans_ec1.predict(vectors_all_ec1)"
   ]
  },
  {
   "cell_type": "code",
   "execution_count": 50,
   "metadata": {},
   "outputs": [
    {
     "name": "stdout",
     "output_type": "stream",
     "text": [
      "cluster centers:\n",
      "[[ 3.30356402e-16  9.55714727e-04 -5.42101086e-17 ... -7.96346496e-17\n",
      "   1.30444737e-04 -1.81549654e-16]\n",
      " [ 2.82922557e-16  1.40425865e-15 -1.91415894e-16 ... -2.37711326e-17\n",
      "  -5.32646843e-15 -2.14888871e-16]\n",
      " [ 2.27140355e-16  1.26938390e-15 -6.77084257e-17 ...  4.19044140e-17\n",
      "   1.92203059e-04 -6.07695318e-17]\n",
      " ...\n",
      " [ 1.65123991e-16  1.12019768e-15  6.96870946e-17 ...  8.42967189e-17\n",
      "  -9.89659743e-16  1.10425991e-16]\n",
      " [ 1.31676354e-16  1.63284897e-02  9.83913472e-17 ...  7.13947131e-17\n",
      "   2.41993925e-16  1.09883890e-16]\n",
      " [ 2.45246531e-16  1.31318567e-15 -1.07932326e-16 ...  2.05320786e-17\n",
      "  -3.94042438e-15 -1.10886777e-16]]\n"
     ]
    }
   ],
   "source": [
    "# inspect the centroids\n",
    "print(\"cluster centers:\")\n",
    "print(kmeans_ec1.cluster_centers_)"
   ]
  },
  {
   "cell_type": "code",
   "execution_count": 51,
   "metadata": {},
   "outputs": [
    {
     "name": "stdout",
     "output_type": "stream",
     "text": [
      "top features for each cluster:\n",
      "0: breakfast, brunch, american, restaurants, traditional, food, sandwiches, new, buffets, burgers\n",
      "1: japanese, sushi, bars, restaurants, fusion, asian, ramen, seafood, noodles, hawaiian\n",
      "2: mexican, restaurants, bars, nightlife, fast, tacos, food, tex, mex, brunch\n",
      "3: food, restaurants, fast, sandwiches, thai, burgers, bars, tea, barbeque, steakhouses\n",
      "4: american, bars, new, traditional, nightlife, restaurants, burgers, steakhouses, seafood, wine\n",
      "5: chinese, restaurants, asian, fusion, sum, dim, noodles, thai, cantonese, seafood\n",
      "6: hotels, travel, casinos, event, entertainment, arts, planning, services, resorts, spas\n",
      "7: pizza, italian, restaurants, bars, food, salad, sandwiches, nightlife, wings, chicken\n"
     ]
    }
   ],
   "source": [
    "# find top 10 features\n",
    "top_centroids = kmeans_ec1.cluster_centers_.argsort()[:,-1:-11:-1]\n",
    "print(\"top features for each cluster:\")\n",
    "for num, centroid in enumerate(top_centroids):\n",
    "    print(\"%d: %s\" % (num, \", \".join(vocab_ec1[i] for i in centroid)))"
   ]
  },
  {
   "cell_type": "code",
   "execution_count": 52,
   "metadata": {},
   "outputs": [
    {
     "name": "stdout",
     "output_type": "stream",
     "text": [
      "cluster 0:\n",
      "    Greek, Restaurants, Mediterranean, Caterers, Burgers, Middle Eastern, Lebanese, Event Planning & Services\n",
      "    American (New), Bars, Nightlife, Italian, Mediterranean, Restaurants\n",
      "    Pizza, Restaurants\n",
      "    Restaurants, Thai\n",
      "    Food Delivery Services, Salad, Sandwiches, Soup, Food, Event Planning & Services, American (New), Restaurants, Caterers, Wraps\n",
      "cluster 1:\n",
      "    Restaurants, Vegetarian, Asian Fusion, Korean, Fast Food\n",
      "    Fish & Chips, Pubs, Nightlife, Gastropubs, Bars, British, American (Traditional), Restaurants\n",
      "    Diners, Cafes, American (Traditional), Burgers, Restaurants, Sandwiches\n",
      "    Bars, American (New), Burgers, Asian Fusion, Food, Beer, Wine & Spirits, Restaurants, Nightlife\n",
      "    Gluten-Free, Chinese, Sushi Bars, Asian Fusion, Restaurants\n",
      "cluster 2:\n",
      "    Food, Comfort Food, Coffee & Tea, American (Traditional), Hotels & Travel, Event Planning & Services, Arts & Entertainment, Casinos, Day Spas, Restaurants, Hotels, Breakfast & Brunch, Beauty & Spas\n",
      "    Food Delivery Services, Salad, Sandwiches, Soup, Food, Event Planning & Services, American (New), Restaurants, Caterers, Wraps\n",
      "    Tapas/Small Plates, Restaurants, Tapas Bars\n",
      "    Restaurants, Sushi Bars\n",
      "    Pizza, Italian, Tapas/Small Plates, Restaurants\n",
      "cluster 3:\n",
      "    American (Traditional), Restaurants, Breakfast & Brunch\n",
      "    Restaurants, American (New), Italian\n",
      "    Hotels, American (Traditional), Casinos, Hotels & Travel, Arts & Entertainment, Do-It-Yourself Food, Restaurants, Event Planning & Services, Food\n",
      "    Event Planning & Services, Buffets, Asian Fusion, Restaurants, Hotels & Travel, American (Traditional), Sushi Bars, Hotels, Breakfast & Brunch\n",
      "    Bakeries, Coffee & Tea, Food, Restaurants, American (New), Sandwiches\n",
      "cluster 4:\n",
      "    American (Traditional), Fast Food, Chicken Wings, Restaurants\n",
      "    American (New), Bars, Nightlife, Italian, Mediterranean, Restaurants\n",
      "    Restaurants, Mexican, Vegetarian\n",
      "    Karaoke, Chinese, Restaurants, Asian Fusion, Nightlife, Barbeque, Bars\n",
      "    American (Traditional), Restaurants, American (New), Pizza\n",
      "cluster 5:\n",
      "    Restaurants, Sushi Bars, Japanese\n",
      "    Restaurants, Sushi Bars, Japanese, Steakhouses\n",
      "    Buffets, Breakfast & Brunch, Restaurants\n",
      "    Burgers, Italian, Restaurants\n",
      "    Food, Desserts, Steakhouses, American (New), Restaurants, Cheesesteaks\n",
      "cluster 6:\n",
      "    Restaurants, Cafes\n",
      "    Fast Food, Hot Dogs, Restaurants\n",
      "    Seafood, Sushi Bars, Japanese, Restaurants\n",
      "    Bars, Restaurants, Nightlife, Cocktail Bars, American (New), Seafood, Gastropubs, Food, Comfort Food, Salad, Tapas/Small Plates, Burgers, Desserts, Vegan\n",
      "    Sandwiches, Food, Restaurants\n",
      "cluster 7:\n",
      "    Food, Mexican, Restaurants\n",
      "    Breweries, Restaurants, Food, American (New)\n",
      "    Asian Fusion, Cocktail Bars, Nightlife, Japanese, Sushi Bars, Ramen, Restaurants, Bars\n",
      "    Restaurants, Hotels, Hotels & Travel, Event Planning & Services, Arts & Entertainment, Casinos\n",
      "    Pubs, Bars, Nightlife, Restaurants, Irish\n"
     ]
    }
   ],
   "source": [
    "# get sample of each cluster\n",
    "assigned_cluster_ec1 = kmeans_ec1.transform(vectors_ec1).argmin(axis=1)\n",
    "\n",
    "for i in range(kmeans_ec1.n_clusters):\n",
    "    cluster = np.arange(0, vectors_ec1.shape[0])[assigned_cluster_ec1==i]\n",
    "    sample_df_ec1 = np.random.choice(cluster, 5, replace=False)\n",
    "    print(\"cluster %d:\" % i)\n",
    "    for categ in sample_df_ec1:\n",
    "        print(\"    %s\" % df.loc[categ]['categories'])"
   ]
  },
  {
   "cell_type": "code",
   "execution_count": null,
   "metadata": {
    "collapsed": true
   },
   "outputs": [],
   "source": []
  }
 ],
 "metadata": {
  "anaconda-cloud": {},
  "kernelspec": {
   "display_name": "Python 3",
   "language": "python",
   "name": "python3"
  },
  "language_info": {
   "codemirror_mode": {
    "name": "ipython",
    "version": 3
   },
   "file_extension": ".py",
   "mimetype": "text/x-python",
   "name": "python",
   "nbconvert_exporter": "python",
   "pygments_lexer": "ipython3",
   "version": "3.5.2"
  }
 },
 "nbformat": 4,
 "nbformat_minor": 1
}
